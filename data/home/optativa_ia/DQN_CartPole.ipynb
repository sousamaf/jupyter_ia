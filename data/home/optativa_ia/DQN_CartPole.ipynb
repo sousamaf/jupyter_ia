{
 "cells": [
  {
   "cell_type": "code",
   "execution_count": 143,
   "id": "2b7cea69",
   "metadata": {},
   "outputs": [],
   "source": [
    "#!pip install --user tf-agents\n",
    "#!pip install --user dm-reverb\n",
    "# !apt-get update -y\n",
    "# !apt-get install python-opengl -y\n",
    "# !apt-get install -y xvfb ffmpeg\n",
    "# !pip install 'imageio==2.4.0'\n",
    "# !pip install pyvirtualdisplay\n",
    "# !pip install tf-agents\n",
    "# !pip install -q tensorflow-recommenders\n",
    "# !pip install -q --upgrade tensorflow-datasets\n",
    "\n",
    "## Tutoriais: https://github.com/tensorflow/agents/tree/master/docs/tutorials\n",
    "## https://colab.research.google.com/github/tensorflow/agents/blob/master/docs/tutorials/1_dqn_tutorial.ipynb#scrollTo=lsaQlK8fFQqH"
   ]
  },
  {
   "cell_type": "code",
   "execution_count": 144,
   "id": "64e5d0dc",
   "metadata": {},
   "outputs": [],
   "source": [
    "from __future__ import absolute_import, division, print_function\n",
    "\n",
    "import base64\n",
    "import imageio\n",
    "import IPython\n",
    "import matplotlib\n",
    "import matplotlib.pyplot as plt\n",
    "import numpy as np\n",
    "import PIL.Image\n",
    "import pyvirtualdisplay\n",
    "\n",
    "import tensorflow as tf\n",
    "\n",
    "from tf_agents.agents.dqn import dqn_agent\n",
    "from tf_agents.environments import suite_gym\n",
    "from tf_agents.environments import tf_py_environment\n",
    "from tf_agents.eval import metric_utils\n",
    "from tf_agents.metrics import tf_metrics\n",
    "from tf_agents.networks import sequential\n",
    "from tf_agents.policies import random_tf_policy\n",
    "from tf_agents.replay_buffers import tf_uniform_replay_buffer\n",
    "from tf_agents.trajectories import trajectory\n",
    "from tf_agents.specs import tensor_spec\n",
    "from tf_agents.utils import common"
   ]
  },
  {
   "cell_type": "code",
   "execution_count": 145,
   "id": "86f71217",
   "metadata": {},
   "outputs": [
    {
     "data": {
      "text/plain": [
       "'2.4.1'"
      ]
     },
     "execution_count": 145,
     "metadata": {},
     "output_type": "execute_result"
    }
   ],
   "source": [
    "display = pyvirtualdisplay.Display(visible=0, size=(1400, 900)).start()\n",
    "tf.version.VERSION"
   ]
  },
  {
   "cell_type": "code",
   "execution_count": 146,
   "id": "7c855182",
   "metadata": {},
   "outputs": [],
   "source": [
    "num_iterations = 20000 # @param {type:\"integer\"}\n",
    "\n",
    "initial_collect_steps = 100  # @param {type:\"integer\"} \n",
    "collect_steps_per_iteration = 1  # @param {type:\"integer\"}\n",
    "replay_buffer_max_length = 100000  # @param {type:\"integer\"}\n",
    "\n",
    "batch_size = 64  # @param {type:\"integer\"}\n",
    "learning_rate = 1e-3  # @param {type:\"number\"}\n",
    "log_interval = 200  # @param {type:\"integer\"}\n",
    "\n",
    "num_eval_episodes = 10  # @param {type:\"integer\"}\n",
    "eval_interval = 1000  # @param {type:\"integer\"}"
   ]
  },
  {
   "cell_type": "code",
   "execution_count": 147,
   "id": "801ca118",
   "metadata": {},
   "outputs": [],
   "source": [
    "env_name = 'CartPole-v0'\n",
    "env = suite_gym.load(env_name)"
   ]
  },
  {
   "cell_type": "code",
   "execution_count": 148,
   "id": "307cae2e",
   "metadata": {},
   "outputs": [
    {
     "data": {
      "image/png": "[encoded data removed]",
      "text/plain": [
       "<PIL.Image.Image image mode=RGB size=600x400 at 0x7F0A6461EFD0>"
      ]
     },
     "execution_count": 148,
     "metadata": {},
     "output_type": "execute_result"
    }
   ],
   "source": [
    "#@test {\"skip\": true}\n",
    "env.reset()\n",
    "PIL.Image.fromarray(env.render())"
   ]
  },
  {
   "cell_type": "code",
   "execution_count": 149,
   "id": "7dfc4bda",
   "metadata": {},
   "outputs": [
    {
     "name": "stdout",
     "output_type": "stream",
     "text": [
      "Observation Spec:\n",
      "BoundedArraySpec(shape=(4,), dtype=dtype('float32'), name='observation', minimum=[-4.8000002e+00 -3.4028235e+38 -4.1887903e-01 -3.4028235e+38], maximum=[4.8000002e+00 3.4028235e+38 4.1887903e-01 3.4028235e+38])\n"
     ]
    }
   ],
   "source": [
    "print('Observation Spec:')\n",
    "print(env.time_step_spec().observation)"
   ]
  },
  {
   "cell_type": "code",
   "execution_count": 150,
   "id": "c1b71664",
   "metadata": {},
   "outputs": [
    {
     "name": "stdout",
     "output_type": "stream",
     "text": [
      "Reward Spec:\n",
      "ArraySpec(shape=(), dtype=dtype('float32'), name='reward')\n"
     ]
    }
   ],
   "source": [
    "print('Reward Spec:')\n",
    "print(env.time_step_spec().reward)"
   ]
  },
  {
   "cell_type": "code",
   "execution_count": 151,
   "id": "0f3fc2ed",
   "metadata": {},
   "outputs": [
    {
     "name": "stdout",
     "output_type": "stream",
     "text": [
      "Action Spec:\n",
      "BoundedArraySpec(shape=(), dtype=dtype('int64'), name='action', minimum=0, maximum=1)\n"
     ]
    }
   ],
   "source": [
    "print('Action Spec:')\n",
    "print(env.action_spec())"
   ]
  },
  {
   "cell_type": "code",
   "execution_count": 152,
   "id": "956d8a68",
   "metadata": {},
   "outputs": [
    {
     "name": "stdout",
     "output_type": "stream",
     "text": [
      "Time step:\n",
      "TimeStep(\n",
      "{'discount': array(1., dtype=float32),\n",
      " 'observation': array([ 0.03571396, -0.00514856, -0.04219927,  0.02914896], dtype=float32),\n",
      " 'reward': array(0., dtype=float32),\n",
      " 'step_type': array(0, dtype=int32)})\n",
      "Next time step:\n",
      "TimeStep(\n",
      "{'discount': array(1., dtype=float32),\n",
      " 'observation': array([ 0.03561099,  0.19055235, -0.04161628, -0.27654397], dtype=float32),\n",
      " 'reward': array(1., dtype=float32),\n",
      " 'step_type': array(1, dtype=int32)})\n"
     ]
    }
   ],
   "source": [
    "time_step = env.reset()\n",
    "print('Time step:')\n",
    "print(time_step)\n",
    "\n",
    "action = np.array(1, dtype=np.int32)\n",
    "\n",
    "next_time_step = env.step(action)\n",
    "print('Next time step:')\n",
    "print(next_time_step)"
   ]
  },
  {
   "cell_type": "code",
   "execution_count": 153,
   "id": "451fac64",
   "metadata": {},
   "outputs": [],
   "source": [
    "train_py_env = suite_gym.load(env_name)\n",
    "eval_py_env = suite_gym.load(env_name)"
   ]
  },
  {
   "cell_type": "code",
   "execution_count": 154,
   "id": "559a5054",
   "metadata": {},
   "outputs": [],
   "source": [
    "train_env = tf_py_environment.TFPyEnvironment(train_py_env)\n",
    "eval_env = tf_py_environment.TFPyEnvironment(eval_py_env)"
   ]
  },
  {
   "cell_type": "code",
   "execution_count": 155,
   "id": "91342c06",
   "metadata": {},
   "outputs": [],
   "source": [
    "fc_layer_params = (100, 50)\n",
    "action_tensor_spec = tensor_spec.from_spec(env.action_spec())\n",
    "num_actions = action_tensor_spec.maximum - action_tensor_spec.minimum + 1\n",
    "\n",
    "# Define a helper function to create Dense layers configured with the right\n",
    "# activation and kernel initializer.\n",
    "def dense_layer(num_units):\n",
    "    return tf.keras.layers.Dense(\n",
    "        num_units,\n",
    "        activation=tf.keras.activations.relu,\n",
    "        kernel_initializer=tf.keras.initializers.VarianceScaling(\n",
    "            scale=2.0, mode='fan_in', distribution='truncated_normal'))\n",
    "\n",
    "# QNetwork consists of a sequence of Dense layers followed by a dense layer\n",
    "# with `num_actions` units to generate one q_value per available action as\n",
    "# it's output.\n",
    "dense_layers = [dense_layer(num_units) for num_units in fc_layer_params]\n",
    "q_values_layer = tf.keras.layers.Dense(\n",
    "    num_actions,\n",
    "    activation=None,\n",
    "    kernel_initializer=tf.keras.initializers.RandomUniform(\n",
    "        minval=-0.03, maxval=0.03),\n",
    "    bias_initializer=tf.keras.initializers.Constant(-0.2))\n",
    "q_net = sequential.Sequential(dense_layers + [q_values_layer])"
   ]
  },
  {
   "cell_type": "code",
   "execution_count": 156,
   "id": "c6cc2c3c",
   "metadata": {},
   "outputs": [],
   "source": [
    "optimizer = tf.keras.optimizers.Adam(learning_rate=learning_rate)\n",
    "\n",
    "train_step_counter = tf.Variable(0)\n",
    "\n",
    "agent = dqn_agent.DqnAgent(train_env.time_step_spec(), train_env.action_spec(), q_network=q_net, optimizer=optimizer, td_errors_loss_fn=common.element_wise_squared_loss, train_step_counter=train_step_counter)\n",
    "# agent = dqn_agent.DqnAgent(\n",
    "#         train_env.time_step_spec(),\n",
    "#         train_env.action_spec(),\n",
    "#         q_network=q_net,\n",
    "#         optimizer=optimizer,\n",
    "#         td_errors_loss_fn=common.element_wise_squared_loss,\n",
    "#         train_step_counter=train_step_counter\n",
    "#     )\n",
    "\n",
    "agent.initialize()"
   ]
  },
  {
   "cell_type": "code",
   "execution_count": 157,
   "id": "0322cf34",
   "metadata": {},
   "outputs": [],
   "source": [
    "eval_policy = agent.policy\n",
    "collect_policy = agent.collect_policy"
   ]
  },
  {
   "cell_type": "code",
   "execution_count": 158,
   "id": "cbcb1753",
   "metadata": {},
   "outputs": [],
   "source": [
    "random_policy = random_tf_policy.RandomTFPolicy(train_env.time_step_spec(),\n",
    "                                                train_env.action_spec())"
   ]
  },
  {
   "cell_type": "code",
   "execution_count": 159,
   "id": "be13c6eb",
   "metadata": {},
   "outputs": [],
   "source": [
    "example_environment = tf_py_environment.TFPyEnvironment(suite_gym.load('CartPole-v0'))"
   ]
  },
  {
   "cell_type": "code",
   "execution_count": 160,
   "id": "8d79f532",
   "metadata": {},
   "outputs": [],
   "source": [
    "time_step = example_environment.reset()"
   ]
  },
  {
   "cell_type": "code",
   "execution_count": 161,
   "id": "0b80edf1",
   "metadata": {},
   "outputs": [
    {
     "data": {
      "text/plain": [
       "PolicyStep(action=<tf.Tensor: shape=(1,), dtype=int64, numpy=array([0])>, state=(), info=())"
      ]
     },
     "execution_count": 161,
     "metadata": {},
     "output_type": "execute_result"
    }
   ],
   "source": [
    "random_policy.action(time_step)"
   ]
  },
  {
   "cell_type": "code",
   "execution_count": 162,
   "id": "34a51f69",
   "metadata": {},
   "outputs": [],
   "source": [
    "#@test {\"skip\": true}\n",
    "def compute_avg_return(environment, policy, num_episodes=10):\n",
    "\n",
    "    total_return = 0.0\n",
    "    for _ in range(num_episodes):\n",
    "\n",
    "        time_step = environment.reset()\n",
    "        episode_return = 0.0\n",
    "\n",
    "        while not time_step.is_last():\n",
    "            action_step = policy.action(time_step)\n",
    "            time_step = environment.step(action_step.action)\n",
    "            episode_return += time_step.reward\n",
    "        total_return += episode_return\n",
    "\n",
    "    avg_return = total_return / num_episodes\n",
    "    return avg_return.numpy()[0]\n"
   ]
  },
  {
   "cell_type": "code",
   "execution_count": 163,
   "id": "6b5bc681",
   "metadata": {},
   "outputs": [
    {
     "data": {
      "text/plain": [
       "21.8"
      ]
     },
     "execution_count": 163,
     "metadata": {},
     "output_type": "execute_result"
    }
   ],
   "source": [
    "compute_avg_return(eval_env, random_policy, num_eval_episodes)"
   ]
  },
  {
   "cell_type": "code",
   "execution_count": 164,
   "id": "382b7917",
   "metadata": {},
   "outputs": [],
   "source": [
    "replay_buffer = tf_uniform_replay_buffer.TFUniformReplayBuffer(\n",
    "    data_spec=agent.collect_data_spec,\n",
    "    batch_size=train_env.batch_size,\n",
    "    max_length=replay_buffer_max_length)"
   ]
  },
  {
   "cell_type": "code",
   "execution_count": 165,
   "id": "c0ea81cc",
   "metadata": {},
   "outputs": [
    {
     "data": {
      "text/plain": [
       "Trajectory(\n",
       "{'action': BoundedTensorSpec(shape=(), dtype=tf.int64, name='action', minimum=array(0), maximum=array(1)),\n",
       " 'discount': BoundedTensorSpec(shape=(), dtype=tf.float32, name='discount', minimum=array(0., dtype=float32), maximum=array(1., dtype=float32)),\n",
       " 'next_step_type': TensorSpec(shape=(), dtype=tf.int32, name='step_type'),\n",
       " 'observation': BoundedTensorSpec(shape=(4,), dtype=tf.float32, name='observation', minimum=array([-4.8000002e+00, -3.4028235e+38, -4.1887903e-01, -3.4028235e+38],\n",
       "      dtype=float32), maximum=array([4.8000002e+00, 3.4028235e+38, 4.1887903e-01, 3.4028235e+38],\n",
       "      dtype=float32)),\n",
       " 'policy_info': (),\n",
       " 'reward': TensorSpec(shape=(), dtype=tf.float32, name='reward'),\n",
       " 'step_type': TensorSpec(shape=(), dtype=tf.int32, name='step_type')})"
      ]
     },
     "execution_count": 165,
     "metadata": {},
     "output_type": "execute_result"
    }
   ],
   "source": [
    "agent.collect_data_spec"
   ]
  },
  {
   "cell_type": "code",
   "execution_count": 166,
   "id": "f0216894",
   "metadata": {},
   "outputs": [
    {
     "data": {
      "text/plain": [
       "('step_type',\n",
       " 'observation',\n",
       " 'action',\n",
       " 'policy_info',\n",
       " 'next_step_type',\n",
       " 'reward',\n",
       " 'discount')"
      ]
     },
     "execution_count": 166,
     "metadata": {},
     "output_type": "execute_result"
    }
   ],
   "source": [
    "agent.collect_data_spec._fields"
   ]
  },
  {
   "cell_type": "code",
   "execution_count": 167,
   "id": "e955a704",
   "metadata": {},
   "outputs": [],
   "source": [
    "#@test {\"skip\": true}\n",
    "def collect_step(environment, policy, buffer):\n",
    "    time_step = environment.current_time_step()\n",
    "    action_step = policy.action(time_step)\n",
    "    next_time_step = environment.step(action_step.action)\n",
    "    traj = trajectory.from_transition(time_step, action_step, next_time_step)\n",
    "\n",
    "    # Add trajectory to the replay buffer\n",
    "    buffer.add_batch(traj)\n",
    "\n",
    "def collect_data(env, policy, buffer, steps):\n",
    "    for _ in range(steps):\n",
    "        collect_step(env, policy, buffer)\n",
    "\n",
    "collect_data(train_env, random_policy, replay_buffer, initial_collect_steps)\n"
   ]
  },
  {
   "cell_type": "code",
   "execution_count": 168,
   "id": "19032b77",
   "metadata": {},
   "outputs": [
    {
     "data": {
      "text/plain": [
       "<PrefetchDataset shapes: (Trajectory(\n",
       "{action: (64, 2),\n",
       " discount: (64, 2),\n",
       " next_step_type: (64, 2),\n",
       " observation: (64, 2, 4),\n",
       " policy_info: (),\n",
       " reward: (64, 2),\n",
       " step_type: (64, 2)}), BufferInfo(ids=(64, 2), probabilities=(64,))), types: (Trajectory(\n",
       "{action: tf.int64,\n",
       " discount: tf.float32,\n",
       " next_step_type: tf.int32,\n",
       " observation: tf.float32,\n",
       " policy_info: (),\n",
       " reward: tf.float32,\n",
       " step_type: tf.int32}), BufferInfo(ids=tf.int64, probabilities=tf.float32))>"
      ]
     },
     "execution_count": 168,
     "metadata": {},
     "output_type": "execute_result"
    }
   ],
   "source": [
    "# Dataset generates trajectories with shape [Bx2x...]\n",
    "dataset = replay_buffer.as_dataset(\n",
    "    num_parallel_calls=3, \n",
    "    sample_batch_size=batch_size, \n",
    "    num_steps=2).prefetch(3)\n",
    "\n",
    "\n",
    "dataset"
   ]
  },
  {
   "cell_type": "code",
   "execution_count": 169,
   "id": "e9acc00e",
   "metadata": {},
   "outputs": [
    {
     "name": "stdout",
     "output_type": "stream",
     "text": [
      "<tensorflow.python.data.ops.iterator_ops.OwnedIterator object at 0x7f0a8c056160>\n"
     ]
    }
   ],
   "source": [
    "iterator = iter(dataset)\n",
    "print(iterator)"
   ]
  },
  {
   "cell_type": "code",
   "execution_count": 170,
   "id": "d7f520b7",
   "metadata": {},
   "outputs": [
    {
     "name": "stdout",
     "output_type": "stream",
     "text": [
      "step = 200: loss = 69.00080871582031\n",
      "step = 400: loss = 3.3463315963745117\n",
      "step = 600: loss = 1.794811487197876\n",
      "step = 800: loss = 1.2152172327041626\n",
      "step = 1000: loss = 2.6509485244750977\n",
      "step = 1000: Average Return = 39.400001525878906\n",
      "step = 1200: loss = 30.326839447021484\n",
      "step = 1400: loss = 5.354857444763184\n",
      "step = 1600: loss = 8.126577377319336\n",
      "step = 1800: loss = 9.112298965454102\n",
      "step = 2000: loss = 27.86313247680664\n",
      "step = 2000: Average Return = 72.19999694824219\n",
      "step = 2200: loss = 20.05502700805664\n",
      "step = 2400: loss = 716.552490234375\n",
      "step = 2600: loss = 4233.76611328125\n",
      "step = 2800: loss = 13097.53125\n",
      "step = 3000: loss = 175606.375\n",
      "step = 3000: Average Return = 70.4000015258789\n",
      "step = 3200: loss = 568946.625\n",
      "step = 3400: loss = 550468.5625\n",
      "step = 3600: loss = 2530743.75\n",
      "step = 3800: loss = 19837518.0\n",
      "step = 4000: loss = 60173352.0\n",
      "step = 4000: Average Return = 45.20000076293945\n",
      "step = 4200: loss = 35044536.0\n",
      "step = 4400: loss = 6761503.0\n",
      "step = 4600: loss = 7833373.0\n",
      "step = 4800: loss = 13723603.0\n",
      "step = 5000: loss = 42909072.0\n",
      "step = 5000: Average Return = 44.099998474121094\n",
      "step = 5200: loss = 346835232.0\n",
      "step = 5400: loss = 754036096.0\n",
      "step = 5600: loss = 96509176.0\n",
      "step = 5800: loss = 103960528.0\n",
      "step = 6000: loss = 91300744.0\n",
      "step = 6000: Average Return = 36.900001525878906\n",
      "step = 6200: loss = 73215144.0\n",
      "step = 6400: loss = 108481120.0\n",
      "step = 6600: loss = 2495878912.0\n",
      "step = 6800: loss = 121288400.0\n",
      "step = 7000: loss = 890270080.0\n",
      "step = 7000: Average Return = 119.30000305175781\n",
      "step = 7200: loss = 903655488.0\n",
      "step = 7400: loss = 3614743296.0\n",
      "step = 7600: loss = 245030896.0\n",
      "step = 7800: loss = 5991977472.0\n",
      "step = 8000: loss = 317395008.0\n",
      "step = 8000: Average Return = 109.5\n",
      "step = 8200: loss = 5154621440.0\n",
      "step = 8400: loss = 226116960.0\n",
      "step = 8600: loss = 355412416.0\n",
      "step = 8800: loss = 480451008.0\n",
      "step = 9000: loss = 154394208.0\n",
      "step = 9000: Average Return = 125.80000305175781\n",
      "step = 9200: loss = 479532384.0\n",
      "step = 9400: loss = 19104780288.0\n",
      "step = 9600: loss = 507950656.0\n",
      "step = 9800: loss = 577620480.0\n",
      "step = 10000: loss = 422920000.0\n",
      "step = 10000: Average Return = 131.60000610351562\n",
      "step = 10200: loss = 1741026560.0\n",
      "step = 10400: loss = 919219200.0\n",
      "step = 10600: loss = 323231552.0\n",
      "step = 10800: loss = 9400960000.0\n",
      "step = 11000: loss = 666449344.0\n",
      "step = 11000: Average Return = 110.0\n",
      "step = 11200: loss = 945401856.0\n",
      "step = 11400: loss = 12729726976.0\n",
      "step = 11600: loss = 1839219968.0\n",
      "step = 11800: loss = 2980261888.0\n",
      "step = 12000: loss = 772362880.0\n",
      "step = 12000: Average Return = 119.0\n",
      "step = 12200: loss = 584719616.0\n",
      "step = 12400: loss = 646317824.0\n",
      "step = 12600: loss = 1074702848.0\n",
      "step = 12800: loss = 1294734848.0\n",
      "step = 13000: loss = 1091732736.0\n",
      "step = 13000: Average Return = 118.30000305175781\n",
      "step = 13200: loss = 856984064.0\n",
      "step = 13400: loss = 6827733504.0\n",
      "step = 13600: loss = 32068098048.0\n",
      "step = 13800: loss = 1902377856.0\n",
      "step = 14000: loss = 698711296.0\n",
      "step = 14000: Average Return = 162.5\n",
      "step = 14200: loss = 1886284032.0\n",
      "step = 14400: loss = 1460455424.0\n",
      "step = 14600: loss = 1667326464.0\n",
      "step = 14800: loss = 1284987520.0\n",
      "step = 15000: loss = 1121369984.0\n",
      "step = 15000: Average Return = 121.9000015258789\n",
      "step = 15200: loss = 1920505216.0\n",
      "step = 15400: loss = 504930464.0\n",
      "step = 15600: loss = 1594405760.0\n",
      "step = 15800: loss = 1115246848.0\n",
      "step = 16000: loss = 946710208.0\n",
      "step = 16000: Average Return = 124.5999984741211\n",
      "step = 16200: loss = 1741882624.0\n",
      "step = 16400: loss = 2094462080.0\n",
      "step = 16600: loss = 3016217088.0\n",
      "step = 16800: loss = 1295574784.0\n",
      "step = 17000: loss = 2429385728.0\n",
      "step = 17000: Average Return = 196.39999389648438\n",
      "step = 17200: loss = 3047055104.0\n",
      "step = 17400: loss = 1642433408.0\n",
      "step = 17600: loss = 1897513856.0\n",
      "step = 17800: loss = 45531226112.0\n",
      "step = 18000: loss = 1744000640.0\n",
      "step = 18000: Average Return = 136.1999969482422\n",
      "step = 18200: loss = 2310428672.0\n",
      "step = 18400: loss = 2173474304.0\n",
      "step = 18600: loss = 2107554048.0\n",
      "step = 18800: loss = 39501447168.0\n",
      "step = 19000: loss = 1574033408.0\n",
      "step = 19000: Average Return = 79.5999984741211\n",
      "step = 19200: loss = 3051864064.0\n",
      "step = 19400: loss = 2114917888.0\n",
      "step = 19600: loss = 93570269184.0\n",
      "step = 19800: loss = 2553992960.0\n",
      "step = 20000: loss = 2318408192.0\n",
      "step = 20000: Average Return = 86.4000015258789\n"
     ]
    }
   ],
   "source": [
    "#@test {\"skip\": true}\n",
    "try:\n",
    "    %%time\n",
    "except:\n",
    "    pass\n",
    "\n",
    "# (Optional) Optimize by wrapping some of the code in a graph using TF function.\n",
    "agent.train = common.function(agent.train)\n",
    "\n",
    "# Reset the train step\n",
    "agent.train_step_counter.assign(0)\n",
    "\n",
    "# Evaluate the agent's policy once before training.\n",
    "avg_return = compute_avg_return(eval_env, agent.policy, num_eval_episodes)\n",
    "returns = [avg_return]\n",
    "\n",
    "for _ in range(num_iterations):\n",
    "\n",
    "    # Collect a few steps using collect_policy and save to the replay buffer.\n",
    "    collect_data(train_env, agent.collect_policy, replay_buffer, collect_steps_per_iteration)\n",
    "\n",
    "    # Sample a batch of data from the buffer and update the agent's network.\n",
    "    experience, unused_info = next(iterator)\n",
    "    train_loss = agent.train(experience).loss\n",
    "\n",
    "    step = agent.train_step_counter.numpy()\n",
    "\n",
    "    if step % log_interval == 0:\n",
    "        print('step = {0}: loss = {1}'.format(step, train_loss))\n",
    "\n",
    "    if step % eval_interval == 0:\n",
    "        avg_return = compute_avg_return(eval_env, agent.policy, num_eval_episodes)\n",
    "        print('step = {0}: Average Return = {1}'.format(step, avg_return))\n",
    "        returns.append(avg_return)"
   ]
  },
  {
   "cell_type": "code",
   "execution_count": 171,
   "id": "62453660",
   "metadata": {},
   "outputs": [
    {
     "data": {
      "text/plain": [
       "(-0.4750000953674327, 250.0)"
      ]
     },
     "execution_count": 171,
     "metadata": {},
     "output_type": "execute_result"
    },
    {
     "data": {
      "image/png": "[encoded data removed]",
      "text/plain": [
       "<Figure size 432x288 with 1 Axes>"
      ]
     },
     "metadata": {
      "needs_background": "light"
     },
     "output_type": "display_data"
    }
   ],
   "source": [
    "iterations = range(0, num_iterations + 1, eval_interval)\n",
    "plt.plot(iterations, returns)\n",
    "plt.ylabel('Average Return')\n",
    "plt.xlabel('Iterations')\n",
    "plt.ylim(top=250)"
   ]
  },
  {
   "cell_type": "code",
   "execution_count": 172,
   "id": "ee6d02d8",
   "metadata": {},
   "outputs": [],
   "source": [
    "def embed_mp4(filename):\n",
    "    \"\"\"Embeds an mp4 file in the notebook.\"\"\"\n",
    "    video = open(filename,'rb').read()\n",
    "    b64 = base64.b64encode(video)\n",
    "    tag = '''\n",
    "    <video width=\"640\" height=\"480\" controls>\n",
    "    <source src=\"data:video/mp4;base64,{0}\" type=\"video/mp4\">\n",
    "    Your browser does not support the video tag.\n",
    "    </video>'''.format(b64.decode())\n",
    "\n",
    "    return IPython.display.HTML(tag)"
   ]
  },
  {
   "cell_type": "code",
   "execution_count": 173,
   "id": "5907ac88",
   "metadata": {
    "scrolled": true
   },
   "outputs": [
    {
     "name": "stderr",
     "output_type": "stream",
     "text": [
      "W0520 00:49:25.829411 139688517683008 ffmpeg.py:839] IMAGEIO FFMPEG_WRITER WARNING: input image is not divisible by macro_block_size=16, resizing from (400, 600) to (400, 608) to ensure video compatibility with most codecs and players. To prevent resizing, make your input image divisible by the macro_block_size or set the macro_block_size to None (risking incompatibility). You may also see a FFMPEG warning concerning speedloss due to data not being aligned.\n"
     ]
    },
    {
     "data": {
      "text/html": [
       "\n",
       "    <video width=\"640\" height=\"480\" controls>\n",
       "    <source src=\"data:video/mp4;base64,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\" type=\"video/mp4\">\n",
       "    Your browser does not support the video tag.\n",
       "    </video>"
      ],
      "text/plain": [
       "<IPython.core.display.HTML object>"
      ]
     },
     "execution_count": 173,
     "metadata": {},
     "output_type": "execute_result"
    }
   ],
   "source": [
    "def create_policy_eval_video(policy, filename, num_episodes=5, fps=30):\n",
    "    filename = filename + \".mp4\"\n",
    "    with imageio.get_writer(filename, fps=fps) as video:\n",
    "        for _ in range(num_episodes):\n",
    "            time_step = eval_env.reset()\n",
    "            video.append_data(eval_py_env.render())\n",
    "            while not time_step.is_last():\n",
    "                action_step = policy.action(time_step)\n",
    "                time_step = eval_env.step(action_step.action)\n",
    "                video.append_data(eval_py_env.render())\n",
    "    return embed_mp4(filename)\n",
    "\n",
    "create_policy_eval_video(agent.policy, \"trained-agent\")"
   ]
  },
  {
   "cell_type": "code",
   "execution_count": 174,
   "id": "bdf689d2",
   "metadata": {},
   "outputs": [
    {
     "name": "stderr",
     "output_type": "stream",
     "text": [
      "W0520 00:49:29.252990 139688517683008 ffmpeg.py:839] IMAGEIO FFMPEG_WRITER WARNING: input image is not divisible by macro_block_size=16, resizing from (400, 600) to (400, 608) to ensure video compatibility with most codecs and players. To prevent resizing, make your input image divisible by the macro_block_size or set the macro_block_size to None (risking incompatibility). You may also see a FFMPEG warning concerning speedloss due to data not being aligned.\n"
     ]
    },
    {
     "data": {
      "text/html": [
       "\n",
       "    <video width=\"640\" height=\"480\" controls>\n",
       "    <source src=\"data:video/mp4;base64,AAAAIGZ0eXBpc29tAAACAGlzb21pc28yYXZjMW1wNDEAAAAIZnJlZQAAK6JtZGF0AAACrwYF//+r3EXpvebZSLeWLNgg2SPu73gyNjQgLSBjb3JlIDE1MiByMjg1NCBlOWE1OTAzIC0gSC4yNjQvTVBFRy00IEFWQyBjb2RlYyAtIENvcHlsZWZ0IDIwMDMtMjAxNyAtIGh0dHA6Ly93d3cudmlkZW9sYW4ub3JnL3gyNjQuaHRtbCAtIG9wdGlvbnM6IGNhYmFjPTEgcmVmPTMgZGVibG9jaz0xOjA6MCBhbmFseXNlPTB4MzoweDExMyBtZT1oZXggc3VibWU9NyBwc3k9MSBwc3lfcmQ9MS4wMDowLjAwIG1peGVkX3JlZj0xIG1lX3JhbmdlPTE2IGNocm9tYV9tZT0xIHRyZWxsaXM9MSA4eDhkY3Q9MSBjcW09MCBkZWFkem9uZT0yMSwxMSBmYXN0X3Bza2lwPTEgY2hyb21hX3FwX29mZnNldD0tMiB0aHJlYWRzPTEyIGxvb2thaGVhZF90aHJlYWRzPTIgc2xpY2VkX3RocmVhZHM9MCBucj0wIGRlY2ltYXRlPTEgaW50ZXJsYWNlZD0wIGJsdXJheV9jb21wYXQ9MCBjb25zdHJhaW5lZF9pbnRyYT0wIGJmcmFtZXM9MyBiX3B5cmFtaWQ9MiBiX2FkYXB0PTEgYl9iaWFzPTAgZGlyZWN0PTEgd2VpZ2h0Yj0xIG9wZW5fZ29wPTAgd2VpZ2h0cD0yIGtleWludD0yNTAga2V5aW50X21pbj0yNSBzY2VuZWN1dD00MCBpbnRyYV9yZWZyZXNoPTAgcmNfbG9va2FoZWFkPTQwIHJjPWNyZiBtYnRyZWU9MSBjcmY9MjUuMCBxY29tcD0wLjYwIHFwbWluPTAgcXBtYXg9NjkgcXBzdGVwPTQgaXBfcmF0aW89MS40MCBhcT0xOjEuMDAAgAAAAeBliIQAL//+9bF8CmrJ84oM6DIu4Zckya62IuJtAMAAJUAAAAMAAEsmUJbMgHJl3QAAAwBMgA4ofQZQeYiYqxUCVEg4qwh14AH4YF5HjzHE7eqfB9u7ktmjskutI4FEdv0LN55PNbhB+Fl1TF3DcbTIAVelwFUmPiOv//99WiEBBapXxO5EBA+vxJTT3n8kNrn8KWPUWcGlseEP7ZqUZc+aVU1OyDgO4frFgbauQSZTJlAKxg1cZ9Q3jZwksY9RHdy3wChYNvPSNDRYYY4w7EDC9wSAPjy9+wp9VeFb5RXbRSaNGVZTUNynob5R0il09gDASjqswL/JRgyoPBxf8Awwlwl7ZP1Uy/lKxnxKyNjRnMULMUf7eH+HpumbgJ2OsrOEOu/AEUlIxqQSh1CF0myV+MFXE1jaB6VBMNHp0mCOEa/n2Rl41LWSub2dZyhiZuCaLahTB23c0Zqph0j9UZNzCK5YowkUu71LjCk5G/aATwmVIpobLpQWNwC6vrSIcCqLNhOlzxRSeIk9Ws2PtzP2FXIBJvy6rwX1s3FQm7Hx+GuzvQArcoMMcF44sdLd+ENFJ8EO7RN/BMqWEWEX4ObW7JJ4J68Ff8P3Wu7l99EVgkAoibBkAAADAAADAAADAmsAAAC6QZoibEL//fEAAAMCjev6AHSMwdPVoeksfyA7kF4DR5qy+JnHEdPyHiUo3BF8bCA69EzQP7rVf+QER3WdjbtR7DglPO4GuHFhZecCIxDGPkVyMekh6MklZayA/tftUHm3/AU4pbVGpKX/OJZxoOcNOTuLJkp5lioYXSOr4rWxRD3XHz0AELB5ssfv+/w9NMriurjRW1gGnwlny8rWdLPIIMQAAAMAAedOljhGHH6RlaNAFMKfeeSq/ZuAAAAAMwGeQXkJ/wAAIrIrCFJM+NGTWiMp2tHFcGxTF+AlUrNa0hRCOqhSAAADAAHyz+MVLywHHQAAANFBmkY8IZMphCv//eEAAAMD92ViyYMkAEHkRzukfZTjU3xQeNHnSW8wPZ3FwvtvyI8yVrdmwzlbtOmkE7/BbXs7bm9PqWZPlsLws4Rs5NgQ6MlcEUdkGlpZzQKDf8oMXPN86oaKOUq8TnWNAqDoL6xzjWTNowgmtupRmJots1KTCl8VPZVIScuxuyiXaHlYIw2AMgllW98sCuxj9HAv6vyIlKbrpIMsinp1BPMj46mbTePFjD6hVJym5S4mP2OiX/jUl20DKblCXOsDJfba1QaZRAAAAFJBnmRqU8K/AAAWF8U9aWoATmB/XomNVBcEJko8y29YIBFbpjkgTbTVFnXlft2d46d5Ny20mh4j84boQ96MbXnLX6P/KDWqRaDqav51AVafq1GzAAAAMAGeg3RCfwAAIsM+DWBWABRuYiLDTVyD38AODVkj1/u85xzklftCaKSOfwka8fgj4QAAAD8BnoVqQn8AACK/Gv2WUsXy3HklAOsaUy51G56TMrScGnAANU55rhxbTr4J+uXqb59BkdMie88EJMs/SfQyO6EAAACFQZqHSahBaJlMCE///IQAAAMA2JkHLK4Amf9zVp3vtbuIAwdEnFlI9+13XBNot4a161KHxVX0hD0A7T25vJKCKcHPyI4gX7iEydXRORZV3aT/y7GloXiROMS5zIg72T87eD5omDNRoF9uAA1dsDvz/fdI5vvQAQpJ8mBe/UvXLaxxenPJcQAAAJpBmqhJ4QpSZTAhn/44QAABDv74AG+n7tr+LwkrvFwT0iTNm1etkSyJYqIPK0TiWUHi0S5yGNBMKDmSHSbPjWXoM0INtCSpz1ttoO5kC0Kt6UplNhlBk1Ne0ZKFMCcfeXwnxUh3v0jPBD8kLaUzLXXR+/D3qRzpslY09UtAmFO82DFsi18FKFNdqhF8WYO150EXraq4u3MvcgC+AAAAgkGazEnhDomUwIX//fEAAAMCnwKr0jB2OCSKKtAgFj+PEMxbe1drj8aP5+N2PdVCrU7DQaxfTEBhDOXLXFNd/5vzeCUzlscRfdQIx1EzEetv0/4JkaD7AiuTr/yjCYBwJw081gyqjF1pllamS6kNNhElzpWGGe6l3XBt4fFxRhPQ1CAAAABUQZ7qRRE8K/8AABa8GLD52H/NsFilaRaAXIDD3u1zKl9sgbIttpoyxloQCJXRKCIAJqpU9W4xoDmdXGWk+M729y7tNTkFBBXTUa8Z6W9wHAZdO5i5AAAANwGfCXRCfwAAIqw5BhQm9HzXPort/KjVg0ofJtaF//Gy61AAnYzzaDlH3VJV7CPjKDkkq59kCXgAAAA8AZ8LakJ/AAAjsixxBtk+Xs9GCXPqRC2l+3v16lXCeo5m+wcyC5pIVi+DM0qXOYygHzKiMvxz1i/Y8j/AAAAA10GbEEmoQWiZTAhX//3hAAAEE3eRfgGb3TBE4/y1tYecH5GV8/V9jgK3RfsviCXqLZySDZT4y+tdOAXZj5KcurntJhHdveAod0yJ3u+YEiRQPRPZD1UWeHcSDcS9wVISNqb3YXpH4kDX97Miwl5i2ZZksFo+HTmYDC2RmoWpuRfIawmTxMuaEx+D3AexHahFJ121poT8AwjgCg96Hm5X07euriM5MaEMgwaPrI52tcqN3NjRwj+DWGl2XVyryxZaX+BKh10rzFjExYeVy3/C84T+Wm1eNgJlAAAAa0GfLkURLCv/AAAWu5KRDbQ8tYRiBQc0oM80Y3ls1T0Jolj6ZiXYYFcjEqp5Vl6+yHZVFATIdrHpGgoYegrf7hJQAdoad7xxjcHGqTodaPvfhaLETsiWYejwGwCrnPhA/PySXRqI+DMG9jZ9AAAARAGfTXRCfwAAI8MXZCnjgr3wwDtyqFOGTEaEsb3D2pznqoO4zbsP5nFYOGM+ILEC8azw9T7LwvcVCGh7qAumDdvCECLhAAAAUQGfT2pCfwAAI8cKlfSza8SFq1kEZVGxY4hgHu8uV1mzYYCZA2UdraCobwyzR3SFSSx2humXovzOmeCgBClOuupMTMObwbYU+mEDs9edumr0EAAAAR1Bm1RJqEFsmUwIZ//+OEAAAQ1PLgeaCQEIQCU5+BEgJ6WB4zXviy6Tkxs8hsT07xGdHr2R/4pGA3lk89jklAvzQn8k5kMjPHp+rhNjJ8n73CFWnjc3u2Q6gMVsIgOG2t+ed+XdZxxdC+JlKehyM/XknuucDSzpqh0tGKGPThYCQixGpn1lWy08X4LFJgeekPRG2GrvUnE72R7nPXA8RhoBDv/G/D8nhLaaGdjwDAI0ph1BRNSgEcWiwktGGTIdAGUFXngwFutbz3xf3f+v/ilmLpdDbNspz7YxmmyYIs/lFYrHa8rFhAsPhrsIuDdM9NJogvAR8Kn37jFgGL1+SCZ7anKawtoVXUiIXDGSZp4yucGxkzu+MtevLSxe8EAAAACWQZ9yRRUsK/8AABa4+HmcaFNbOLlbJkRATIt0Eq7UwVAARkVQMVM7XoFInx1XkROS2PfMtB+5BVx4PSlFa0VJdLzCiggkJfS3BOP/YjM8WQ8jAuCE994uwZxWsTxgqZrMA7gyQcZuKWi1TYeddIc3dPjKjQna1PJ3En6qWuPZpNXwbS9AAqGjBCGWyXw2vTpsZG0nAs+BAAAAXwGfkXRCfwAAI6lAFVlDqQArEBBmg7TwrcBFCkea3U7UOgVGBNv0w5NB2Ga92tbetLBiocvdjm+x34mRR3hajw+9tAbPbHiL3sDPlbjeDY4XWPKPgl+AmMBGTALvb0rAAAAAKwGfk2pCfwAAI7y6yedoh9UHW9/zWmzGEx1AMc5nFhuRJ1dTG1Z6ULjA+4AAAABxQZuYSahBbJlMCF///fEAAAMCjU/dAFBpF6sbJZelCivewmy2b7C20i+Jn5UBJw2q35xlm2XsKcaAa3IFKSorV+qc9njLIbD1iObjTpaU/nZUyOCr7yr2+6ru0Lzx2i3NViydLatVS4fAvcuxthA32YEAAABWQZ+2RRUsK/8AAAhvIeffOAC+6QrzOh/zCM5hMYgR0cRqumRw6gOj5y0FiQ6Eji/UGSDscYFJq588fsMk7pqaZmipn3PQfzaGM+MwnStQbQqteC4n/+AAAAAlAZ/VdEJ/AAANejwJ0FLy6GatyWBOAMXMjkTlelY3BynygMAl4QAAAB4Bn9dqQn8AAA1/tpi5UmGrjE2VF9xue2j4OUNMmfEAAAC5QZvcSahBbJlMCF///fEAAAMCnvsw+8AEeOqnu93yE2Lt5UfB8NnAiHbtyqlc44RevxTOISar+u2iRNIt8wqvvDbDAwBEm+mjk1fsd3f9B7me92C9xXV6avSW8E3ctJor6okT1lC3H4S7xqTc6QOQduutpbyP1xZnthJPzhEqxSopPVfaoGmgkW+0Vp/ffzx3OfzJQN5BeDGFWC6Smflo52kq02K/KSWCScpgmOh1Lrzk//04wWBiFlAAAABBQZ/6RRUsK/8AABa8Q8yi/3TSdkQYCAB9KkSFi742MHvfPYMWcfgeVRo0aJGGhNjQLmsxVAxDirZgd+I7TUugpAUAAAAsAZ4ZdEJ/AAANf0b40Fk6l8sJCc0uR4eNe1FPVbs/tpuv0u6Gep5ZAHSWxJMAAAAwAZ4bakJ/AAAjxzgNveceiuHTGJHZr61q/OkqzJbvuPmGZYyBw8B9/xZlfdi5A/knAAABDUGaAEmoQWyZTAhX//3hAAAEG91FfHsTGqlSAvUsBSTZnblVe+rwgEYXu4CMja5YPNbapEAtqufwdRS4AF8l5MJqFfDRbXbbMTv+pZ/J9VKvNvcCWlquVNbYRaqaKOO2Kn+8U3KexgNM7bgj79Pc9CcFywrdwwU6jJXbaztYo78afuf5G/J/nkhR6Ztg0iBfwCceOqCF+zHta4Bk9mC1Ft/qMu3D5FRGWyBF43/kXEv1PdpmJvyNI9F0j0EBE+mOtkn2yFcN7Mv6RTd5x5Oe9HkA3nffdN9A+nTYkvefR8fdKfbs6423Yl06jtkbhoDPUFRTDGSpXB6qxjHv7yr7di8hHeK0lXtqa9VmGcTfAAAAX0GePkUVLCv/AAAWtQ5J221CCC4SFkucTq+Ib2xJ/oyDpjK7ffPLU2b1w+/oyu0zp7K5L0ok9Zb3/wW7iArQCTmCkY2SuNbUPiAq+Ox7xwPLs/4JSclRn0e2+BbogvmVAAAAQAGeXXRCfwAAI7BZddZlK7gpAYOBQI7Er8Ncc+gb6sgc0YqIQ6J4OUQfAzVdCM0nthqW8WYuj9xHSZzaMBfvckAAAABLAZ5fakJ/AAAiY1VdqISYPDnt+jzgAgmxX+vSupNUUcadZ0sECL7u3/CFIQVuUvRp8jkcgA/W9Nkn8btvxVfcNm6XF7hr1jM0KsWBAAAA00GaREmoQWyZTAhX//3hAAADA/gbTJ0O9lgP82T51Cwkvka+CyVjXP4TeayADByypWk6csUvuwGdshTIbtz3bBVtw803GFFaDVae+Nkt4fwoOx02bdlc3YZr5II22990PrkkkzxPGJ96h/hAsE+UN7PQY6EaH2vwF8JiYCzBXelDzpZlQIaZ41kFaDRzbvnYki1nvfFJ0atSESEk9CTIwUP+9+X1oQhjsfAaYxye/0LieKLojKy+SQguOjkmm8eNwGfymyni01nqDHX+YONHr1dwFeAAAABvQZ5iRRUsK/8AABYVR/mUf3WW4nCmOeuw+nOh9zCsUJ6Wy53r6Z8b/7I0XhbJrK51ZXvH7DADdVPWHkaTIdV7Y5ku9fzvZflSdgQzaln8Erj+EDCdXbrAEC/4wKYutZtfmOMPjnd/jv0FWHji2AO5AAAAUQGegXRCfwAAIqnWLwAbiMrzQmuAOHQqDqYZjStXr79fOB+Hgu+WwW7ksU4LfEDe5FyU6+xznHm2GgJOVd1cW2OyZzepy0woHzu06FKxm/HRQAAAAEkBnoNqQn8AACKf8al9F0ZWJygiBiBihlm5PJstuAkq7R5Y0/mXSxft8yfS0HAkBwi0PXn93a+adMQjJ8mxIY2iRU8Ax4m9g2vBAAABAkGaiEmoQWyZTAhf//3xAAADAqEqCxL8vAJk8BKO27Zlmrj950unr5QNHyC1j7DZ3LsH1oNyktt64UYw6MEdA5Q9kdycc3lOHzwqmXCCDfS/LEe8uOeCQBKif4nXADRsPA2kUAleffq2JSYO7SsYvlGIAym2sDbykfhMsNzRB9xxrpm0ozVkH0I4oIOJ1pOiXHD9y3palWIkIm8a2cHeN9yxXabnA5pOGJoMwB4c0gUlb8wWznZnB4mYI92pGQS7p2frjyQWCk09v/z8mpLdO9H2qABpwccpsKRzHcFuupexG8SwObFKtlr7ejbLr5CnENi9bTdzFquEKyNME+hFywAOgQAAADlBnqZFFSwr/wAAFrUeGp13K2dYZP37aEocmgLhX2JLQfifIVog92W1pRiMJn8+QDDmflAAJbdE2VEAAAAhAZ7FdEJ/AAAjq/hbd7VmE9601mlWnd59cpA4ZNjDmFipAAAAMgGex2pCfwAABR+qpteyfVLznDnZoAVSpiIgFPlFCX1rlXyJCgAbaWZcVgLe4VGDfzbYAAAAUkGazEmoQWyZTAhf//3xAAADAp8NCQAJ7rmsx+5/p87Vi7ASQ4KRKHNA8dacZuZ0qILE4tXcGBMVP9a772AgQnsigj58aLXtdaMCQDOIKCNmDNgAAAA7QZ7qRRUsK/8AABa1KzdrWl9uhRoEGbf6qEEAB8sWHdADRzSTIXq/jC0Dlt/Jp9jRPe2nst/IBNcvZ20AAAAqAZ8JdEJ/AAAjq/hcKIw25eQWT4r01ZoxxLB5V7/vGd9bDZtNqhkguM7YAAAAIgGfC2pCfwAADYI/FEIsnRXs2PqowRinBnbStVylAFwBPFQAAACTQZsQSahBbJlMCFf//eEAAAQVFauWvAJqtZZNMRLMoOmerK+LYb9631yvFLFU86IpF1CDIDsuTP+ZhxpxCqdxwCBIy6pahoxEJ7NEHyOMeVIrBolSS6FtHjRus73Pgbin37XYqRxKpWPzJBve8A8pIPPCcn4CYNox7VSyaYPGcW5glPYZfzmO3Jnetvaa3tmAtOzBAAAANEGfLkUVLCv/AAAWtSs6PhgYQbN+nuJdb0Fg8tBEMuhoORRLrvo2uGIAY/wxYM9CfSjqyoEAAAAyAZ9NdEJ/AAAjwxdkK2XUF7a8bzqen+b0/VIPsHYmKkOrVrKtrSgQt4lczj+pjkC0CjEAAAAlAZ9PakJ/AAANgjNLCKsq5KCAyHqM84IxfQVWBoqXlr+hcBysgQAAAN1Bm1RJqEFsmUwIV//94QAABBSy3mJrLGvX4vgC0dGRuPnwZ5l57SHpu7mpP9UkP7F+BvTwYAtCOmA4PupL2om3k7UjqPBcQaOy14ORf+GtofQxFFESGZHVMzDorGGUtQyF03KjHg/edweM/BUIxh/YOYcQWzufUDkMD85iKtBIARpKAtR1wVjqThmdAmJ0u50qEfwDPjTbmAM7TLApcjedSkPC6CdBwfutybcOMhBc0oST5zp7JLc26huCTvDJHrfIHpJXtri6RFnQlmwD5AeH2/dNeJaPAEUB/CaWwAAAAFlBn3JFFSwr/wAAFr5rqjbOpy25xwRHr+Y19hJ8FBClLR6CbtoheuZgxshIWhulI5vE8KUDpqfYcU1arv1KSACdZRNyidotN9ghYKekpdeNMj7X7yRxI7TcqQAAADYBn5F0Qn8AACOr+Fm4mP4IRev1lmy3Qj6cpQwp5zqZcO27t2v3ypI3Q1aPc2S38x6i3X7tNmAAAABSAZ+TakJ/AAAjvZPLRdIfhk9SGsMTROvi2nKb8IcqBW45d4MqzzRvMcVAr3dNpMqayOQWwACY85LYJ9frdfeCEmOzWGTV7qR1U6lAg+0YkiIWzAAAANFBm5dJqEFsmUwIX//98QAAAwKe6mnmlJAL1gE0j50AyblqC7lbxoErnUGrLPcj0/deqrHuP1U/9XWQelUqw1Z+K24Sv/HRN1qR49lP2gYJejkiqzgkhVDPWoGxSv2emacfjUfK8lJEoszfjOuZc3O3dxyO7ZiU/76gaPdk1rbaNaWeR+7Jb7yjBjDYM/8xRsx5oPj19HRFDDy1Vik5kUxCV7rhNmqtUooifPaOGvGf7kTStdnP3/6gqm2jIX+xffIGfdEnA4bja6FNu+V0MghmmwAAAHBBn7VFFSwn/wAAI7GHJvBc4yfHiOymVFoI2h5IJ+mZZcoBLT9WL4Mg5ZsoRZ+na7UT0pZSbej1mmfABjoCZ7xVdOEBFToALnyBPyDsJ6wP6cfwBxHYlfbHhv8bA5mAs/30OeHZCst5Kw+eUH/NvtyoAAAAbgGf1mpCfwAAIrygf0r7xzf4R91buIIR5KEHTTSsAAW8QW/T8+tQopa8ViDx8J/YHmrIan2ANUbqBLiMQ49Qyg1V1kgWYWVgU3/wbx1xAfSBCp7Q7fIy4wtvJmdvT1meh+ub/JmUY6o9pHPD25CZAAAAj0Gb20moQWyZTAhf//3xAAADApBw2ZuAOYdNkMPwGd2+hv7rGzVu6UCUW+rlrMvuJVTkOzH/XNZcv0E62Z3Wr/a27eoAw0Mr/fn8dt+A4iKEtFUZW2v3XMOZUTdcMjruO+aXRnpCwUA1S+1kAMLI/1TzG1G3iFH0qWOA0qPft+n/+FaANbEbtzzAlbV5zkqBAAAAOUGf+UUVLCv/AAAWOtCABcoye0zZc/DfMuO1HbRzZD6PGsrDzygcBpLUwLmFLw4t3Z+6QYhsQNVgIAAAADIBnhh0Qn8AACLDRn4ds6mM5e7DvbQ7zigHabew4rAAfh+AG+P8N6kyMf8X8MTi/RMsoQAAADUBnhpqQn8AACKyLGJaiXL35jmqMnXEGTfI0Ar+1T8rNAAh9zYKUBwIT/oeEa4a1EOnyxFswAAAAMNBmh9JqEFsmUwIV//94QAAAwP2gsKpJQBQBCtn6KVitS2/7Y6M/Xn/kuxSGzvMdvkNe/d2/tt+DhLp8Ycane6fqSPxr60TPAS5bojB1Fc0IcAU+POAk26WQrJAfMDDq0e/gGpGGoKDnXx3lJptP6jil7lQsRP888aTy1MBr/X7mlnw6XuqTsIHILmTNA0jm3TxsMlTStCRC6O7yfnd+uaqEa5mgFngFK5tLr1ojec1xT54nHvnIU0vKIQQjd18Stk0rSEAAABaQZ49RRUsK/8AABXeJR4fbtbIfkZoXU0qgQefbhPFd+eAafOO/HlkUQeMsIfjs2kwibLiRyfcrQyAaa8G/ZQkoO6IAPcbBjuP9zymnNowJGJh+RhtOdczir/BAAAARwGeXHRCfwAAIjuRhkxYyuEnKpSxD2VYuKnmt68OZf21w9lo4UyYb4EH0aapVISgAgKnBGlhyu3keUfdxg/0PrNj2m/JfiowAAAAQAGeXmpCfwAAIjf5y/bt54rFhYYtrxg5vdWVQLkV+OQqDW+eamVp/jgJAGVTANAPiXa+mvRTov48o1tO/2SCRbQAAAC1QZpDSahBbJlMCFf//eEAAAMD9TqpxKAFenYQ6xbVbpz1yVa7neKu476/mvvj90HY4Tnsq8oaqTQHO0X7dCH/7wIkvLh8NwEntgHsfG0i3fS5coLFPVm2BJ/JXCnpLZIupGInQhZ1NqpySmlWX8xkOwDt+8CpeddKsXXzlu8/qchfCZOqcK2QZZzYlWrxMhXtZS0CT6B0arPMXJ6iiP/ySQ9gy/nN/z5PZw64mW3HI8us+Wpb8QAAAFhBnmFFFSwr/wAAFdwKdaCGualw4DpCymKWL+ge9aBIPdJYsgzVmQ9/+G7i19zSs44W2fRNXPD6QTwu/K6wveyvOLU3AC3hvfLO+mtkbLD/IG6HYxhr0N+2AAAAOQGegHRCfwAAIpIsffyLduhtVT8m86AiNHpYndciNACsPr1+CpdoIC+ECt3c0C5MCAAQiAB7uctioQAAAC0BnoJqQn8AACK9la48C2ihDrSHt60qrLrMV7jFNRsi5MiYLKhu7S1BpgzevVQAAADDQZqHSahBbJlMCE///IQAAA+BofTR/kP0HWRbXWyCSMlFrXkN71D7W70jz4Urgi8hye7DkmdthII8gPrqPNBW1kVf3gfTSyLR9XYpFuUQH2Ovy+Nl4YTepcdJiu2cT+kuPRtcu8riRwbJDUz1qRWJwJlLmF/9CLtq/gkgsTYoum7/78uq3RTmjrMSD4ofP3C/ejH8urkoPZJlgFoHGligzJdEZXsdfVK0gjJdoQzQ+fwTZsYkDv2cE18LZOJsnte9ueodAAAAWEGepUUVLCv/AAAWId2PYkSlzo74qrTtGDzfjvWzNQCq2OMPsrcnpZspMjv6ajWCSy2b+IqPpfqWYXXJVtqIwIZgfYJ98AEkdJV4yyyWCax8lQAScRle2zEAAABFAZ7EdEJ/AAAi1SEAIvPJudMGIfgnLQ2qbSLooE/1BO15KlNSEbgezKiOQByjSnl7eLveFgTnG1utyYawTMEh7ywC8iVBAAAAXAGexmpCfwAAIq2HgMQAsKbgDEQOcQdF6zf83Z96L857z5h89AvRSi7Yh9xdE1UXKH2ymJDvTQW/WcXkjsEUITFtXp5juoS5DrjVE0L6JQlgd9OrOWihotUs5NJNAAABLEGayEmoQWyZTAhn//44QAABDomxGrp3YAnzAPBwf8HkCBS4Ohc1Ic9ba/1W/CTBMbMsIh3vSwDB2d++8SR/xET9z+5HGP/+UOHSdsCOFIjwibEpHAgS+8rxG1gXC2aPqEtlLbG7Iyj5bj/h8K9JMtF0zwh5nclS6XjmraXiWK7aFXt0ucNd7HLqxoVvNhr5blvJKvq5LQMqw/Yq7SiVF9GI9mKh/mgYvkGqpFRvvnUFSRU49XrMXIzoFSSx4mnGgwfEn5Id3YAfz4LNIPQW21QCDQm+O/oHb44L0AaCST74EgbtH6cThJMPHXpkMMJ7Zoiy/ekCb4vRnQDuqrDRaO5rkuumxtaYaSFT6Fk919fdk5EksHi9aLAhB05m5BZb4a/wqielNIryaCBIgAAAAKFBmuxJ4QpSZTAhf/3xAAADAp8HOF4AWnFhOJWUpB0WbBJie1PhahKgnVrH+14AvbkxVP0jr7pYfAqf+bmqG2MyPZtaqM33CJLoAJ6L9cnay32nlQ2TylFHygegiTJdQyjWic62V6WFYEMsxvZyO9/wtV8zFrK9LpHEzTtlG38XzpfiMk8h/Uqv6FqtPqSJQmk23YdfsSl2SCDxKcoRzuiXgAAAAE5BnwpFNEwr/wAAFrw9GtldeItg8ZJxr9QJyJICuWQGNIIF3aIKMAqnfcBQoXPANf9QQB2RUnprjaDzGig97pNrwjiDkHdIQUzvS3Ta87MAAAAqAZ8pdEJ/AAAirEJW51pPvkf8UC3MEPKjOFLlGnn2OxCtnIIsznKZivdmAAAAPAGfK2pCfwAAI6TduMrI4xnGJBsKvIg1C3lBJmLNasszQlcls0I+lpPmu/QAmn/cCrBr3o2dIp4dPSexUAAAAHFBmzBJqEFomUwIX//98QAAAwKfuuqLPTp2CRKUpYAhCN61JKNa+1hzlaVs2CcBpRQemXquanEos5cFtDh5U3O2DJRtrC3a+DI/pZ4iV4Gu9hNi6EU7JNikvIbfhyJd4T2d4kRP7dVwpPDO9yrcHbZZ4QAAAEZBn05FESwr/wAAFrUrOLOv+vX7UKU4BhQhvg5KU/cXR1JkIMHaBnyS87HU4GtVLgNqcgAugJ6P3nZxhmDKfI30cDI1YYLdAAAANQGfbXRCfwAAI6v4XCXTvzJZy/eeGaC7/A1yJkifteQZZyIF3XjhzS8WuYAGVWWV7sN+KzsxAAAAMQGfb2pCfwAADYWJSNkphdf8FYFzVJGWTHcOWgE29ggCcAE1NtjUO/9BQNB2XN5pE3AAAAB5QZt0SahBbJlMCE///IQAAA/UMkNWzuectW7HsnlJAOuB+MFDeXwFAqa9Za8Qu9Cp4zVV+iSAlNQSa3Xwv2DFv6sTQcg5DBoFb2IBUc7MHhSFaDKUpEJdk/bEF/DMFu3KckSLniWAb2az3xrxTe7PTcHNLC96q+7/gAAAAE5Bn5JFFSwr/wAAFr54GgEpR7WpJWcFFXnXmrfTkgb8mMCH8l/PPuk5nEdG0cdLKkTThI9+I3emgOrvEnHuv4ABMagHs4w3iniKdO8KBkkAAAA9AZ+xdEJ/AAAjwz4IBbYjY6/tWKeCgBbaP7kdMFJR7sqr2sRdU47GUuSUAWf2tosjKZQDyJD25mgHxIYGzAAAAEsBn7NqQn8AACO8L+TyzspqVz0mfy0mdxqhM2lMkJNNCmhczrTz5WClhUmp1Ibnz8RqdakZXtrPKb+ioAIgwqVTXQcqXhhMA1LhayoAAAB/QZu1SahBbJlMCGf//jhAAAENTyYH2NdnAFYzWGGgdkUU9RgFirHtpplYfcQ3kVEbdu+fRa9F2pMr2AaX1ccordRH/rakIgO1ZL9IkghqjDiBps3PszCPR9dH5rmIkQvTDvZ+C0m4g4HaNnhy5h8wKcbG5ul/D/Xg5+mf6dRpfwAAALZBm9hJ4QpSZTAhX/3hAAAEFpHFTYDkgBzckuKdJz32CkrOJp9VUd5HITJsmmSxr6W2HhEhFYa38cXK219UV0bHYhDUK2f8MgDg3sOJLGmmeWxQL/o4x6Uw7k6kl0zoheOQjPktQjUZAf4atz0qRpRUEbhL6aUROnF6o8yX9+UAWTCgL4D4KbuxDwy9xvf5tknjKV/xZeYQzyp+93KYzK7Idu/7Vrijgm1HIwlcj9OjHVz9Ovo3IQAAAEBBn/ZFNEwr/wAAFrxJ8qgCsVzdeTjhttfyWe/LYmjRrqvdWHrC3Clc/tifucH7X1a8Ia4L7suICT5WaS7+2vNxAAAARQGeF2pCfwAAI78EJ2Yu9GCjzdqvekwAW8StcsuEw0E3avXDK7Q8elnXJXW+KkYDDOlp9pWZz1HysoJEw3xvdM3k8jxywQAAAK5BmhpJqEFomUwU8L/98QAAAwKhKhx6NeAK3k1O0zwXyPxSfLxMkBkaedP7de+Od5255l8w6sSHYScterqblXf7FikWD0bRE0DtHDW5QJjDSkqZo0lfGYzaNOdv2tSaIrrJEYB4QZNzOXX9v/+y+/QR0n2onif5Iq7gHZGvEij0cO6fHRxeuIvs7fpqdcUfP+NILLKe5qq8mYeVmgeBL+veM+tMEZLmu2ma99CZlv0AAABbAZ45akJ/AAAjvvU+AwVWcU3yPMuO9CLSs4q0b8S5/NQmIyTQVhMnovjPxpGUmd4UDevCgFsAAJ27FD0RY3q1qh5UhVg3ZyXBtKib5eEz6DtQilwho/98cjqnwQAAAKdBmj5J4QpSZTAhP/yEAAAP2H/ZsApLJW/QjTLvA6thzzX2rpIS9uFKA5nxApfExNUfOwAWn9vfU3yWEj38/4CrgsG5WzRfL7TzpCtRT78TvEZeJxoc1b7a2O/1yDH2AWqiffAOXlG9MEx2yXT/VDAaevYzbOIwAgtjzIDowPt7nX9mqPmvmnlqyRSe07PqMdXZbeWVwQwlRPlZi6uk1tlxtEJHNLyqgAAAAGVBnlxFNEwr/wAAFqg1neyUuKh8uVpWxZpwvL3liEGeU6pcANzaUcYw1k8ynly8yhAQQAEosly6ObONS8COMx9lK7E+rYfIlpwy05GjDHBiHowE4Ku8u4gBZTmpKiQJNga1nJbs2wAAAFgBnnt0Qn8AACPEcmAIlrOmm/F8Pf8seODgdztEJ5zPOgcQ+QTamAB5yCBeUIjZ+LrzBoc7rmZS6uosbqt5vl2J9eECmahx8ruuMnyqUhVw5sfdB1es2JeVAAAAVQGefWpCfwAAI8ji6QpgiKCmp7SEQui0iDWS8p6SjZe5mNtn3rLa83DsPvZ+lrVXmCBXnGciWhBkdJhSaI5srnD2HMKiZw19uswTATUngC5hRcyQYZgAAAdtbW9vdgAAAGxtdmhkAAAAAAAAAAAAAAAAAAAD6AAADF8AAQAAAQAAAAAAAAAAAAAAAAEAAAAAAAAAAAAAAAAAAAABAAAAAAAAAAAAAAAAAABAAAAAAAAAAAAAAAAAAAAAAAAAAAAAAAAAAAAAAAAAAgAABpd0cmFrAAAAXHRraGQAAAADAAAAAAAAAAAAAAABAAAAAAAADF8AAAAAAAAAAAAAAAAAAAAAAAEAAAAAAAAAAAAAAAAAAAABAAAAAAAAAAAAAAAAAABAAAAAAmAAAAGQAAAAAAAkZWR0cwAAABxlbHN0AAAAAAAAAAEAAAxfAAAEAAABAAAAAAYPbWRpYQAAACBtZGhkAAAAAAAAAAAAAAAAAAA8AAAAvgBVxAAAAAAALWhkbHIAAAAAAAAAAHZpZGUAAAAAAAAAAAAAAABWaWRlb0hhbmRsZXIAAAAFum1pbmYAAAAUdm1oZAAAAAEAAAAAAAAAAAAAACRkaW5mAAAAHGRyZWYAAAAAAAAAAQAAAAx1cmwgAAAAAQAABXpzdGJsAAAAlnN0c2QAAAAAAAAAAQAAAIZhdmMxAAAAAAAAAAEAAAAAAAAAAAAAAAAAAAAAAmABkABIAAAASAAAAAAAAAABAAAAAAAAAAAAAAAAAAAAAAAAAAAAAAAAAAAAAAAAAAAAGP//AAAAMGF2Y0MBZAAe/+EAGGdkAB6s2UCYM6EAAAMAAQAAAwA8DxYtlgEABWjr5yyLAAAAGHN0dHMAAAAAAAAAAQAAAF8AAAIAAAAAFHN0c3MAAAAAAAAAAQAAAAEAAALwY3R0cwAAAAAAAABcAAAAAQAABAAAAAABAAAGAAAAAAEAAAIAAAAAAQAACgAAAAABAAAEAAAAAAEAAAAAAAAAAQAAAgAAAAACAAAEAAAAAAEAAAoAAAAAAQAABAAAAAABAAAAAAAAAAEAAAIAAAAAAQAACgAAAAABAAAEAAAAAAEAAAAAAAAAAQAAAgAAAAABAAAKAAAAAAEAAAQAAAAAAQAAAAAAAAABAAACAAAAAAEAAAoAAAAAAQAABAAAAAABAAAAAAAAAAEAAAIAAAAAAQAACgAAAAABAAAEAAAAAAEAAAAAAAAAAQAAAgAAAAABAAAKAAAAAAEAAAQAAAAAAQAAAAAAAAABAAACAAAAAAEAAAoAAAAAAQAABAAAAAABAAAAAAAAAAEAAAIAAAAAAQAACgAAAAABAAAEAAAAAAEAAAAAAAAAAQAAAgAAAAABAAAKAAAAAAEAAAQAAAAAAQAAAAAAAAABAAACAAAAAAEAAAoAAAAAAQAABAAAAAABAAAAAAAAAAEAAAIAAAAAAQAACgAAAAABAAAEAAAAAAEAAAAAAAAAAQAAAgAAAAABAAAIAAAAAAIAAAIAAAAAAQAACgAAAAABAAAEAAAAAAEAAAAAAAAAAQAAAgAAAAABAAAKAAAAAAEAAAQAAAAAAQAAAAAAAAABAAACAAAAAAEAAAoAAAAAAQAABAAAAAABAAAAAAAAAAEAAAIAAAAAAQAACgAAAAABAAAEAAAAAAEAAAAAAAAAAQAAAgAAAAABAAAEAAAAAAEAAAoAAAAAAQAABAAAAAABAAAAAAAAAAEAAAIAAAAAAQAACgAAAAABAAAEAAAAAAEAAAAAAAAAAQAAAgAAAAABAAAKAAAAAAEAAAQAAAAAAQAAAAAAAAABAAACAAAAAAEAAAQAAAAAAQAACAAAAAACAAACAAAAAAEAAAYAAAAAAQAAAgAAAAABAAAKAAAAAAEAAAQAAAAAAQAAAAAAAAABAAACAAAAABxzdHNjAAAAAAAAAAEAAAABAAAAXwAAAAEAAAGQc3RzegAAAAAAAAAAAAAAXwAABJcAAAC+AAAANwAAANUAAABWAAAANAAAAEMAAACJAAAAngAAAIYAAABYAAAAOwAAAEAAAADbAAAAbwAAAEgAAABVAAABIQAAAJoAAABjAAAALwAAAHUAAABaAAAAKQAAACIAAAC9AAAARQAAADAAAAA0AAABEQAAAGMAAABEAAAATwAAANcAAABzAAAAVQAAAE0AAAEGAAAAPQAAACUAAAA2AAAAVgAAAD8AAAAuAAAAJgAAAJcAAAA4AAAANgAAACkAAADhAAAAXQAAADoAAABWAAAA1QAAAHQAAAByAAAAkwAAAD0AAAA2AAAAOQAAAMcAAABeAAAASwAAAEQAAAC5AAAAXAAAAD0AAAAxAAAAxwAAAFwAAABJAAAAYAAAATAAAAClAAAAUgAAAC4AAABAAAAAdQAAAEoAAAA5AAAANQAAAH0AAABSAAAAQQAAAE8AAACDAAAAugAAAEQAAABJAAAAsgAAAF8AAACrAAAAaQAAAFwAAABZAAAAFHN0Y28AAAAAAAAAAQAAADAAAABidWR0YQAAAFptZXRhAAAAAAAAACFoZGxyAAAAAAAAAABtZGlyYXBwbAAAAAAAAAAAAAAAAC1pbHN0AAAAJal0b28AAAAdZGF0YQAAAAEAAAAATGF2ZjU3LjgzLjEwMA==\" type=\"video/mp4\">\n",
       "    Your browser does not support the video tag.\n",
       "    </video>"
      ],
      "text/plain": [
       "<IPython.core.display.HTML object>"
      ]
     },
     "execution_count": 174,
     "metadata": {},
     "output_type": "execute_result"
    }
   ],
   "source": [
    "create_policy_eval_video(random_policy, \"random-agent\")"
   ]
  },
  {
   "cell_type": "code",
   "execution_count": null,
   "id": "4e267348",
   "metadata": {},
   "outputs": [],
   "source": []
  }
 ],
 "metadata": {
  "kernelspec": {
   "display_name": "Python 3",
   "language": "python",
   "name": "python3"
  },
  "language_info": {
   "codemirror_mode": {
    "name": "ipython",
    "version": 3
   },
   "file_extension": ".py",
   "mimetype": "text/x-python",
   "name": "python",
   "nbconvert_exporter": "python",
   "pygments_lexer": "ipython3",
   "version": "3.6.9"
  }
 },
 "nbformat": 4,
 "nbformat_minor": 5
}
