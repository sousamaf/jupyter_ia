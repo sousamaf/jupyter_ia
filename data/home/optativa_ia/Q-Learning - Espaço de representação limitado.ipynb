{
 "cells": [
  {
   "cell_type": "markdown",
   "id": "eb0d2a05",
   "metadata": {
    "slideshow": {
     "slide_type": "slide"
    }
   },
   "source": [
    "# Contexto da aula:\n",
    "\n",
    "### Atividade para a semana:\n",
    "Para esta semana você deve construir um texto relatando uma forma de representar o conhecimento necessário uma solução de aprendizado de máquina para o contexto do jogo Pac-man.\n",
    "\n",
    "<center><video controls autoplay loop=\"loop\" type=\"video/mp4\" src=\"https://gym.openai.com/videos/2019-10-21--mqt8Qj1mwo/MsPacman-v0/original.mp4\"/></center>\n",
    "\n"
   ]
  },
  {
   "cell_type": "markdown",
   "id": "3047d1fc",
   "metadata": {
    "slideshow": {
     "slide_type": "subslide"
    }
   },
   "source": [
    "# Existe algum problema para resolver o problema utilizando Q-Learning?\n",
    "- Quais são as ações possíveis?\n",
    "- Quais são os estados possíveis do agente?\n",
    "- Qual é o espaço de representação do ambiente no sistema de simulação?"
   ]
  },
  {
   "cell_type": "code",
   "execution_count": 5,
   "id": "e55bc9af",
   "metadata": {
    "slideshow": {
     "slide_type": "subslide"
    }
   },
   "outputs": [
    {
     "name": "stdout",
     "output_type": "stream",
     "text": [
      "Espaço de ações:  9\n",
      "Espaço de observações:  (210, 160, 3)\n",
      "Possíveis combinações de ações: 152,587,890,625.0\n"
     ]
    },
    {
     "data": {
      "text/plain": [
       "11.391448974609375"
      ]
     },
     "execution_count": 5,
     "metadata": {},
     "output_type": "execute_result"
    }
   ],
   "source": [
    "import gym\n",
    "env = gym.make(\"MsPacman-v0\")\n",
    "env.reset()\n",
    "print(\"Espaço de ações: \", env.action_space.n)\n",
    "print(\"Espaço de observações: \", env.observation_space.shape)\n",
    "print(\"Possíveis combinações de ações: {:,}\".format(float(5**16)) )\n"
   ]
  },
  {
   "cell_type": "markdown",
   "id": "08fee0e8",
   "metadata": {
    "slideshow": {
     "slide_type": "subslide"
    }
   },
   "source": [
    "# Possível solução:\n",
    "- http://ceur-ws.org/Vol-1957/CoSeCiVi17_paper_14.pdf\n",
    "- http://www2.dbd.puc-rio.br/pergamum/tesesabertas/0912826_2012_cap_3.pdf\n",
    "\n",
    "\n",
    "\"Quando o espaço de estados ou de ações é muito grande fica complicado manter uma tabela com todos os valores esperados para os pares de estado x ação. Para resolver este problema, a tabela é aproximada por uma função que simula seu comportamento.\""
   ]
  },
  {
   "cell_type": "markdown",
   "id": "beb3c171",
   "metadata": {
    "slideshow": {
     "slide_type": "subslide"
    }
   },
   "source": [
    "# Possível solução: métodos\n",
    "- Gradiente descedente:\n",
    "    - https://matheusfacure.github.io/2017/02/20/MQO-Gradiente-Descendente/\n",
    "    - http://cursos.leg.ufpr.br/ML4all/apoio/Gradiente.html\n",
    "- RNN: \n",
    "    - https://d-nb.info/991415167/34\n",
    "    - https://www.tensorflow.org/guide/keras/rnn?hl=pt-br\n",
    "- DQN: \n",
    "    - https://lilianweng.github.io/lil-log/2018/05/05/implementing-deep-reinforcement-learning-models.html\n",
    "    - https://towardsdatascience.com/automating-pac-man-with-deep-q-learning-an-implementation-in-tensorflow-ca08e9891d9c\n",
    "- SARSA: \n",
    "    - Livro Reinforcement Learning An Introduction página 325\n"
   ]
  },
  {
   "cell_type": "markdown",
   "id": "a5336123",
   "metadata": {
    "slideshow": {
     "slide_type": "subslide"
    }
   },
   "source": [
    "# Gradiente descedente\n",
    "![gradiente_descendente](https://matheusfacure.github.io/img/tutorial/bowlregr.png)\n"
   ]
  },
  {
   "cell_type": "markdown",
   "id": "16f10698",
   "metadata": {
    "slideshow": {
     "slide_type": "subslide"
    }
   },
   "source": [
    "![gradiente_desdendente2](https://i2.wp.com/www.deeplearningbook.com.br/wp-content/uploads/2018/03/ball.png?resize=1024%2C555&ssl=1)"
   ]
  },
  {
   "cell_type": "code",
   "execution_count": null,
   "id": "70aa55f0",
   "metadata": {},
   "outputs": [],
   "source": []
  }
 ],
 "metadata": {
  "celltoolbar": "Slideshow",
  "kernelspec": {
   "display_name": "Python 3",
   "language": "python",
   "name": "python3"
  },
  "language_info": {
   "codemirror_mode": {
    "name": "ipython",
    "version": 3
   },
   "file_extension": ".py",
   "mimetype": "text/x-python",
   "name": "python",
   "nbconvert_exporter": "python",
   "pygments_lexer": "ipython3",
   "version": "3.6.9"
  }
 },
 "nbformat": 4,
 "nbformat_minor": 5
}
