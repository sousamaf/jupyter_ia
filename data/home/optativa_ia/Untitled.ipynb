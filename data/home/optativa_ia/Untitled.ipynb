{
 "cells": [
  {
   "cell_type": "code",
   "execution_count": 18,
   "id": "executive-cable",
   "metadata": {},
   "outputs": [],
   "source": [
    "import numpy as np\n",
    "map = [\n",
    "\"   |   |   \",\n",
    "\"-----------\",\n",
    "\"   |   |   \",\n",
    "\"-----------\",\n",
    "\"   |   |   \",\n",
    "]\n",
    "jogo = np.zeros(9)"
   ]
  },
  {
   "cell_type": "code",
   "execution_count": 47,
   "id": "geographic-journalism",
   "metadata": {},
   "outputs": [
    {
     "data": {
      "text/plain": [
       "' o | x | x \\n-----------\\n x |   |   \\n-----------\\n o |   |   \\n'"
      ]
     },
     "execution_count": 47,
     "metadata": {},
     "output_type": "execute_result"
    }
   ],
   "source": [
    "amb = np.asarray(map, dtype='c')\n",
    "out = amb.copy().tolist()\n",
    "out = [[c.decode('utf-8') for c in line] for line in out]\n",
    "\n",
    "out[0][1] = 'o'\n",
    "out[2][1] = 'x'\n",
    "out[4][1] = 'o'\n",
    "out[0][5] = 'x'\n",
    "out[0][9] = 'x'\n",
    "\n",
    "\"\\n\".join([\"\".join(row) for row in out]) + \"\\n\""
   ]
  },
  {
   "cell_type": "code",
   "execution_count": 34,
   "id": "athletic-photography",
   "metadata": {},
   "outputs": [],
   "source": [
    "out[0][1] = 'o'"
   ]
  },
  {
   "cell_type": "code",
   "execution_count": null,
   "id": "quality-suite",
   "metadata": {},
   "outputs": [],
   "source": []
  }
 ],
 "metadata": {
  "kernelspec": {
   "display_name": "Python 3",
   "language": "python",
   "name": "python3"
  },
  "language_info": {
   "codemirror_mode": {
    "name": "ipython",
    "version": 3
   },
   "file_extension": ".py",
   "mimetype": "text/x-python",
   "name": "python",
   "nbconvert_exporter": "python",
   "pygments_lexer": "ipython3",
   "version": "3.6.9"
  }
 },
 "nbformat": 4,
 "nbformat_minor": 5
}
