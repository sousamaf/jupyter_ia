{
 "cells": [
  {
   "cell_type": "code",
   "execution_count": 1,
   "id": "normal-liechtenstein",
   "metadata": {},
   "outputs": [],
   "source": [
    "import gym\n",
    "import random\n",
    "import numpy as np\n",
    "from time import sleep\n",
    "from IPython.display import clear_output"
   ]
  },
  {
   "cell_type": "code",
   "execution_count": 2,
   "id": "extreme-philippines",
   "metadata": {},
   "outputs": [],
   "source": [
    "def exibir(*args):\n",
    "    clear_output(wait=True)\n",
    "    if env is not None:\n",
    "        env.render()\n",
    "\n",
    "    if len(args) > 0:\n",
    "        for arg in args:\n",
    "            print(arg, end=\" \")\n",
    "        print(\"\")\n",
    "    sleep(0.3)"
   ]
  },
  {
   "cell_type": "code",
   "execution_count": 3,
   "id": "surrounded-travel",
   "metadata": {},
   "outputs": [],
   "source": [
    "env = gym.make(\"Taxi-v3\")\n",
    "env.reset()\n",
    "tabela_q = np.zeros([env.observation_space.n, env.action_space.n])"
   ]
  },
  {
   "cell_type": "code",
   "execution_count": 5,
   "id": "standing-special",
   "metadata": {
    "scrolled": true
   },
   "outputs": [
    {
     "name": "stdout",
     "output_type": "stream",
     "text": [
      "Treinamento finalizado.\n"
     ]
    }
   ],
   "source": [
    "# variáveis de controle\n",
    "alpha = 0.1 # Taxa de aprendizado\n",
    "gamma = 0.6 # Taxa de desconto\n",
    "epsilon = 0.1 # Chance de selecionar uma ação aleatória em vez de maximizar o prémio. Exploration \n",
    "\n",
    "episodios = 20000\n",
    "\n",
    "for i in range(episodios):\n",
    "    feito = False\n",
    "    penalidade, premiacao = 0,0\n",
    "    estado = env.reset()\n",
    "    while not feito:\n",
    "        if random.uniform(0,1) < epsilon:\n",
    "            acao = env.action_space.sample()\n",
    "        else:\n",
    "            acao = np.argmax(tabela_q[estado])\n",
    "\n",
    "        proximo_estado, premiacao, feito, info = env.step(acao)\n",
    "\n",
    "        valor = tabela_q[estado, acao]\n",
    "        maior_valor = np.max(tabela_q[proximo_estado])\n",
    "\n",
    "        novo_valor = (1 - alpha) * valor + alpha * (premiacao + gamma * maior_valor)\n",
    "        tabela_q[estado, acao] = novo_valor\n",
    "\n",
    "        estado = proximo_estado\n",
    "        if i % 100 == 0:\n",
    "            print(f\"Episódio: {i}\")\n",
    "            clear_output(wait=True)\n",
    "        else:\n",
    "#             exibir(acao, proximo_estado, premiacao, feito, info)\n",
    "            pass\n",
    "print(\"Treinamento finalizado.\")"
   ]
  },
  {
   "cell_type": "code",
   "execution_count": 6,
   "id": "experienced-supply",
   "metadata": {},
   "outputs": [],
   "source": [
    "# np.save(\"arquivo_tabela_q\", tabela_q)\n",
    "# tabela_q = np.load(\"arquivo_tabela_q.npy\")"
   ]
  },
  {
   "cell_type": "code",
   "execution_count": null,
   "id": "electric-excess",
   "metadata": {},
   "outputs": [],
   "source": []
  }
 ],
 "metadata": {
  "kernelspec": {
   "display_name": "Python 3",
   "language": "python",
   "name": "python3"
  },
  "language_info": {
   "codemirror_mode": {
    "name": "ipython",
    "version": 3
   },
   "file_extension": ".py",
   "mimetype": "text/x-python",
   "name": "python",
   "nbconvert_exporter": "python",
   "pygments_lexer": "ipython3",
   "version": "3.6.9"
  }
 },
 "nbformat": 4,
 "nbformat_minor": 5
}
