{
 "cells": [
  {
   "cell_type": "markdown",
   "id": "ec467e9c",
   "metadata": {
    "slideshow": {
     "slide_type": "slide"
    }
   },
   "source": [
    "# Aprendizado de máquina\n",
    "\n",
    "Classe de algoritmos e técnicas que necessitam de uma etapa de treinamento para desempenharem sua função.\n",
    "- etapa para ensinar o algoritmo;\n",
    "- há três principais tipos de aprendizagem:\n",
    " - supervisionado\n",
    " - não supervisionado\n",
    " - por reforço"
   ]
  },
  {
   "cell_type": "markdown",
   "id": "0bf6109e",
   "metadata": {
    "slideshow": {
     "slide_type": "slide"
    }
   },
   "source": [
    "# Aprendizado supervisionado\n",
    "- são apresentados ao algoritmo as entradas e respectivas saídas\n",
    "- a técnica permite calcular o erro da saída fornecida em comparação com a saída esperada\n",
    "- um agente externo fornece a saída desejada\n",
    "- ocorrem ajustes nos parâmetros do algoritmo para diminuir a taxa de erro calculado\n"
   ]
  },
  {
   "cell_type": "markdown",
   "id": "abec1040",
   "metadata": {
    "slideshow": {
     "slide_type": "subslide"
    }
   },
   "source": [
    "![aprendizado_supervisionado](./img/aprendizado_supervisionado.png)"
   ]
  },
  {
   "cell_type": "markdown",
   "id": "3ec00828",
   "metadata": {
    "slideshow": {
     "slide_type": "slide"
    }
   },
   "source": [
    "# Aprendizado não-supervisionado\n",
    "- também conhecido por algoritmos auto-organizáveis\n",
    "- apenas os dados de entrada são fornecidos ao algoritmo\n",
    "- o algoritmo desenvolve a habilidade de formar representações para codificar as características do conjunto de entrada\n",
    "- não há um agente externo \n",
    "\n",
    "![aprendizado_nao_supervisionado](./img/aprendizado_nao_supervisionado.png)"
   ]
  },
  {
   "cell_type": "markdown",
   "id": "210abec0",
   "metadata": {
    "slideshow": {
     "slide_type": "slide"
    }
   },
   "source": [
    "# Aprendizado por reforço\n",
    "- uma combinação das duas técnicas anteriores\n",
    "- há um crítico para fornecer uma avaliação global\n",
    "- o aprendizado ocorre por observação\n",
    "\n",
    "![aprendizado_por_reforco](./img/aprendizado_por_reforco.png)"
   ]
  },
  {
   "cell_type": "markdown",
   "id": "430146c2",
   "metadata": {
    "slideshow": {
     "slide_type": "slide"
    }
   },
   "source": [
    "# Atividade\n",
    "Encontrar e algoritmos de aprendizado de máquina e classificar seu tipo de aprendizado quanto:\n",
    "- supervisionado\n",
    "- não-supervionado\n",
    "- por reforço\n",
    "\n",
    "Resposta deve ser publicada em exercícios no educa.\n",
    "    "
   ]
  },
  {
   "cell_type": "markdown",
   "id": "59b48e97",
   "metadata": {
    "slideshow": {
     "slide_type": "subslide"
    }
   },
   "source": [
    "## Tipo de resposta esperada:\n",
    "- Rede Neural Multilayer perceptron - MLP: supervisionado. Pq é fornecido todos o conjunto de dados de entrada e a saída esperada. Além disso, existe a figura de professor.\n",
    "\n",
    "- Q-learning: por reforço. Pq aprende por observação do ambiente. Nenhum conjunto de dados é fornecido previamente. Existe a figura de um crítico."
   ]
  }
 ],
 "metadata": {
  "celltoolbar": "Slideshow",
  "kernelspec": {
   "display_name": "Python 3",
   "language": "python",
   "name": "python3"
  },
  "language_info": {
   "codemirror_mode": {
    "name": "ipython",
    "version": 3
   },
   "file_extension": ".py",
   "mimetype": "text/x-python",
   "name": "python",
   "nbconvert_exporter": "python",
   "pygments_lexer": "ipython3",
   "version": "3.6.9"
  }
 },
 "nbformat": 4,
 "nbformat_minor": 5
}
