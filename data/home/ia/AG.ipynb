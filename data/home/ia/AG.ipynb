{
 "cells": [
  {
   "cell_type": "code",
   "execution_count": 63,
   "id": "marked-fields",
   "metadata": {},
   "outputs": [],
   "source": [
    "import numpy as np\n",
    "import random"
   ]
  },
  {
   "cell_type": "code",
   "execution_count": 187,
   "id": "varied-creature",
   "metadata": {},
   "outputs": [],
   "source": [
    "class AG:\n",
    "    def __init__(self):\n",
    "        \"\"\"\n",
    "        \n",
    "        \"\"\"\n",
    "        self.TAM_POP = 10\n",
    "        self.TAM_GENE = 10 # quantidade de livros\n",
    "        self.TX_CRUZAMENTO = 85\n",
    "        self.TX_MUTACAO = 5\n",
    "        self.TX_ELITISMO = 10\n",
    "\n",
    "        self.pesos = np.array([0.3, 0.125, 0.25, 0.400, 0.05, 0.5, 0.360, 0.210, 0.540, 0.180])\n",
    "        self.avaliacao = np.zeros(TAM_POP)\n",
    "\n",
    "        self.POP = np.random.randint(0, 2, (self.TAM_POP, self.TAM_GENE))\n",
    "        self.POP_AUX = np.zeros((self.TAM_POP, self.TAM_GENE), dtype=int)\n",
    "        self.tam_pop_aux = 0"
   ]
  },
  {
   "cell_type": "markdown",
   "id": "indonesian-consistency",
   "metadata": {},
   "source": [
    "# Função de avaliação - fitness function"
   ]
  },
  {
   "cell_type": "code",
   "execution_count": 188,
   "id": "excessive-arrest",
   "metadata": {},
   "outputs": [],
   "source": [
    "class AG(AG):\n",
    "    def funcao_objetivo(self):\n",
    "        for posicao, individuo in enumerate(self.POP):\n",
    "            peso = 0.0\n",
    "            for i, gene in enumerate(individuo):\n",
    "                peso += (individuo[i] * pesos[i])\n",
    "            self.avaliacao[posicao] = peso "
   ]
  },
  {
   "cell_type": "markdown",
   "id": "graduate-apple",
   "metadata": {},
   "source": [
    "# Função de seleção\n",
    "Implementaremos o método da roleta"
   ]
  },
  {
   "cell_type": "code",
   "execution_count": 189,
   "id": "working-terrorism",
   "metadata": {},
   "outputs": [],
   "source": [
    "class AG(AG):\n",
    "    def selecao(self):\n",
    "        return random.randint(0, TAM_POP-1)"
   ]
  },
  {
   "cell_type": "markdown",
   "id": "determined-spiritual",
   "metadata": {},
   "source": [
    "# Operadores de cruzamento - crossover\n",
    "- Cruzamento simples\n",
    "- Cruzamento com dois pontos de corte\n",
    "- Cruzamento uniforme ou cruzamento com máscara\n",
    "\n",
    "## Outros operadores\n",
    "- Elitismo\n",
    "- Mutação"
   ]
  },
  {
   "cell_type": "code",
   "execution_count": 190,
   "id": "active-heather",
   "metadata": {},
   "outputs": [],
   "source": [
    "class AG(AG):\n",
    "    # ind1 e ind2 são posições de indivíduos dentro da população (POP)\n",
    "    def cruzamento_simples(self, ind1, ind2):\n",
    "        desc1 = np.zeros(self.TAM_GENE, dtype=int)\n",
    "        desc2 = np.zeros(self.TAM_GENE, dtype=int)\n",
    "\n",
    "        for i in range(self.TAM_GENE):\n",
    "            if i < (self.TAM_GENE / 2):\n",
    "                desc1[i] = self.POP[ind1][i]\n",
    "                desc2[i] = self.POP[ind2][i]\n",
    "            else:\n",
    "                desc1[i] = self.POP[ind2][i]\n",
    "                desc2[i] = self.POP[ind1][i]\n",
    "\n",
    "        self.POP_AUX[self.tam_pop_aux] = desc1\n",
    "        self.tam_pop_aux += 1\n",
    "        self.POP_AUX[self.tam_pop_aux] = desc1\n",
    "        self.tam_pop_aux += 1\n",
    "        \n",
    "\n",
    "    def cruzamento_com_dois_pontos(self, ind1, ind2):\n",
    "        desc1 = np.zeros(self.TAM_GENE, dtype=int)\n",
    "        desc2 = np.zeros(self.TAM_GENE, dtype=int)\n",
    "\n",
    "        for i in range(self.TAM_GENE):\n",
    "            if i < 2 or i > 7:\n",
    "                desc1[i] = self.POP[ind1][i]\n",
    "                desc2[i] = self.POP[ind2][i]\n",
    "            else:\n",
    "                desc1[i] = self.POP[ind2][i]\n",
    "                desc2[i] = self.POP[ind1][i]\n",
    "  \n",
    "        self.POP_AUX[self.tam_pop_aux] = desc1\n",
    "        self.tam_pop_aux += 1\n",
    "        self.POP_AUX[self.tam_pop_aux] = desc1\n",
    "        self.tam_pop_aux += 1\n",
    "\n",
    "    def cruzamento_uniforme(self, ind1, ind2):\n",
    "        pass\n",
    "\n",
    "    def elitismo(self):\n",
    "        pass\n",
    "    \n",
    "    def mutacao(self):\n",
    "        pass"
   ]
  },
  {
   "cell_type": "code",
   "execution_count": 191,
   "id": "juvenile-sacrifice",
   "metadata": {},
   "outputs": [
    {
     "data": {
      "text/plain": [
       "array([[0, 1, 1, 0, 1, 1, 0, 1, 1, 0],\n",
       "       [0, 1, 1, 0, 1, 1, 0, 1, 1, 0],\n",
       "       [0, 1, 0, 1, 1, 0, 1, 1, 0, 1],\n",
       "       [0, 1, 0, 1, 1, 0, 1, 1, 0, 1],\n",
       "       [0, 0, 0, 1, 1, 0, 1, 1, 1, 1],\n",
       "       [0, 0, 0, 1, 1, 0, 1, 1, 1, 1],\n",
       "       [0, 0, 0, 0, 0, 0, 0, 0, 0, 0],\n",
       "       [0, 0, 0, 0, 0, 0, 0, 0, 0, 0],\n",
       "       [0, 0, 0, 0, 0, 0, 0, 0, 0, 0],\n",
       "       [0, 0, 0, 0, 0, 0, 0, 0, 0, 0]])"
      ]
     },
     "execution_count": 191,
     "metadata": {},
     "output_type": "execute_result"
    }
   ],
   "source": [
    "ag = AG()\n",
    "ag.cruzamento_simples(0, 1)\n",
    "ag.cruzamento_com_dois_pontos(5, 6)\n",
    "ag.cruzamento_com_dois_pontos(8, 6)\n",
    "ag.POP_AUX"
   ]
  },
  {
   "cell_type": "code",
   "execution_count": null,
   "id": "later-halloween",
   "metadata": {},
   "outputs": [],
   "source": []
  }
 ],
 "metadata": {
  "kernelspec": {
   "display_name": "Python 3",
   "language": "python",
   "name": "python3"
  },
  "language_info": {
   "codemirror_mode": {
    "name": "ipython",
    "version": 3
   },
   "file_extension": ".py",
   "mimetype": "text/x-python",
   "name": "python",
   "nbconvert_exporter": "python",
   "pygments_lexer": "ipython3",
   "version": "3.6.9"
  }
 },
 "nbformat": 4,
 "nbformat_minor": 5
}
