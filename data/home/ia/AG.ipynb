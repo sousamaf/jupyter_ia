{
 "cells": [
  {
   "cell_type": "code",
   "execution_count": 188,
   "id": "marked-fields",
   "metadata": {},
   "outputs": [],
   "source": [
    "import random\n",
    "import numpy as np\n",
    "import matplotlib.pyplot as plt"
   ]
  },
  {
   "cell_type": "code",
   "execution_count": 189,
   "id": "varied-creature",
   "metadata": {},
   "outputs": [],
   "source": [
    "class AG:\n",
    "    def __init__(self):\n",
    "        \"\"\"\n",
    "        \n",
    "        \"\"\"\n",
    "        self.TAM_POP = 100\n",
    "        self.TAM_GENE = 16 # quantidade de livros\n",
    "        self.TX_CRUZAMENTO = 80\n",
    "        self.TX_MUTACAO = 10\n",
    "        self.TX_ELITISMO = 10\n",
    "\n",
    "        self.pesos = np.array([0.3, 0.125, 0.25, 0.400, 0.05, 0.5, 0.360, 0.210, 0.540, 0.180, 0.344, 0.01, 0.435, 0.25, 0.175, 0.210])\n",
    "\n",
    "        self.avaliacao = np.zeros(self.TAM_POP) # aptidão\n",
    "        self.avaliacao_relativa = np.zeros(self.TAM_POP) # porcentagem da aptidão em relação ao todo\n",
    "\n",
    "        self.POP = np.random.randint(0, 2, (self.TAM_POP, self.TAM_GENE))\n",
    "        self.POP_AUX = np.zeros((self.TAM_POP, self.TAM_GENE), dtype=int)\n",
    "        self.tam_pop_aux = 0\n",
    "        \n",
    "        self.capacidade = 1.6\n",
    "        \n",
    "        self.melhores = []"
   ]
  },
  {
   "cell_type": "markdown",
   "id": "indonesian-consistency",
   "metadata": {},
   "source": [
    "# Função de avaliação - fitness function"
   ]
  },
  {
   "cell_type": "code",
   "execution_count": 190,
   "id": "excessive-arrest",
   "metadata": {},
   "outputs": [],
   "source": [
    "class AG(AG):\n",
    "    def funcao_objetivo(self):\n",
    "        \"\"\"\n",
    "        \n",
    "        \"\"\"\n",
    "        for posicao, individuo in enumerate(self.POP):\n",
    "            peso = 0.0\n",
    "            for i, gene in enumerate(individuo):\n",
    "                peso += (individuo[i] * self.pesos[i]) \n",
    "            \n",
    "            if peso > self.capacidade:\n",
    "                self.avaliacao[posicao] = 0.0\n",
    "            else:\n",
    "                self.avaliacao[posicao] = peso"
   ]
  },
  {
   "cell_type": "markdown",
   "id": "graduate-apple",
   "metadata": {},
   "source": [
    "# Função de seleção\n",
    "Implementaremos o método da roleta"
   ]
  },
  {
   "cell_type": "code",
   "execution_count": 191,
   "id": "working-terrorism",
   "metadata": {},
   "outputs": [],
   "source": [
    "class AG(AG):\n",
    "    def selecao(self):\n",
    "        return random.randint(0, self.TAM_POP-1)\n",
    "    \n",
    "    def metodo_da_roleta(self):\n",
    "        individuo_selecionado = 0\n",
    "        aptidao_total = self.avaliacao.sum()\n",
    "        for posicao, individuo in enumerate(self.POP):\n",
    "            self.avaliacao_relativa[posicao] = ag.avaliacao[posicao] / aptidao_total\n",
    "\n",
    "        sorteado = random.random()\n",
    "        \n",
    "        area = 0.0\n",
    "        for i in range(self.TAM_POP):\n",
    "            area += self.avaliacao_relativa[i]\n",
    "            if area > sorteado:\n",
    "                individuo_selecionado = i\n",
    "                break\n",
    "        \n",
    "        return individuo_selecionado\n",
    "        "
   ]
  },
  {
   "cell_type": "markdown",
   "id": "determined-spiritual",
   "metadata": {},
   "source": [
    "# Operadores de cruzamento - crossover\n",
    "- Cruzamento simples\n",
    "- Cruzamento com dois pontos de corte\n",
    "- Cruzamento uniforme ou cruzamento com máscara\n",
    "\n",
    "## Outros operadores\n",
    "- Elitismo\n",
    "- Mutação"
   ]
  },
  {
   "cell_type": "code",
   "execution_count": 192,
   "id": "active-heather",
   "metadata": {},
   "outputs": [],
   "source": [
    "class AG(AG):\n",
    "    # ind1 e ind2 são posições de indivíduos dentro da população (POP)\n",
    "    def cruzamento_simples(self, ind1, ind2):\n",
    "        desc1 = np.zeros(self.TAM_GENE, dtype=int)\n",
    "        desc2 = np.zeros(self.TAM_GENE, dtype=int)\n",
    "\n",
    "        for i in range(self.TAM_GENE):\n",
    "            if i < (self.TAM_GENE / 2):\n",
    "                desc1[i] = self.POP[ind1][i]\n",
    "                desc2[i] = self.POP[ind2][i]\n",
    "            else:\n",
    "                desc1[i] = self.POP[ind2][i]\n",
    "                desc2[i] = self.POP[ind1][i]\n",
    "\n",
    "        self.POP_AUX[self.tam_pop_aux] = desc1\n",
    "        self.tam_pop_aux += 1\n",
    "        self.POP_AUX[self.tam_pop_aux] = desc1\n",
    "        self.tam_pop_aux += 1\n",
    "        \n",
    "\n",
    "    def cruzamento_com_dois_pontos(self, ind1, ind2):\n",
    "        desc1 = np.zeros(self.TAM_GENE, dtype=int)\n",
    "        desc2 = np.zeros(self.TAM_GENE, dtype=int)\n",
    "\n",
    "        for i in range(self.TAM_GENE):\n",
    "            if i < 2 or i > 7:\n",
    "                desc1[i] = self.POP[ind1][i]\n",
    "                desc2[i] = self.POP[ind2][i]\n",
    "            else:\n",
    "                desc1[i] = self.POP[ind2][i]\n",
    "                desc2[i] = self.POP[ind1][i]\n",
    "  \n",
    "        self.POP_AUX[self.tam_pop_aux] = desc1\n",
    "        self.tam_pop_aux += 1\n",
    "        self.POP_AUX[self.tam_pop_aux] = desc1\n",
    "        self.tam_pop_aux += 1\n",
    "\n",
    "    def cruzamento_uniforme(self, ind1, ind2):\n",
    "        desc1 = np.zeros(self.TAM_GENE, dtype=int)\n",
    "        desc2 = np.zeros(self.TAM_GENE, dtype=int)\n",
    "\n",
    "        for i in range(self.TAM_GENE):\n",
    "            \n",
    "            if random.randint(0, 1) == 1:\n",
    "                desc1[i] = self.POP[ind1][i]\n",
    "                desc2[i] = self.POP[ind2][i]\n",
    "            else:\n",
    "                desc1[i] = self.POP[ind2][i]\n",
    "                desc2[i] = self.POP[ind1][i]\n",
    "\n",
    "        self.POP_AUX[self.tam_pop_aux] = desc1\n",
    "        self.tam_pop_aux += 1\n",
    "        self.POP_AUX[self.tam_pop_aux] = desc1\n",
    "        self.tam_pop_aux += 1\n",
    "\n",
    "    def elitismo(self):\n",
    "        qtd_individuos = int((ag.TAM_POP * ag.TX_ELITISMO) / 100)\n",
    "        \n",
    "        eleitos = (-ag.avaliacao).argsort()[:qtd_individuos]\n",
    "        for i in range(len(eleitos)):\n",
    "            self.POP_AUX[self.tam_pop_aux] = self.POP[eleitos[i]]\n",
    "            self.tam_pop_aux += 1\n",
    "        \n",
    "    \n",
    "    def mutacao(self, ind1):\n",
    "        desc1 = np.zeros(self.TAM_GENE, dtype=int)\n",
    "        desc1 = self.POP[ind1]\n",
    "        gene = random.randint(0, self.TAM_GENE - 1)\n",
    "\n",
    "        if desc1[gene] == 0:\n",
    "            desc1[gene] = 1\n",
    "        else:\n",
    "            desc1[gene] = 0\n",
    "\n",
    "        self.POP_AUX[self.tam_pop_aux] = desc1\n",
    "        self.tam_pop_aux += 1\n",
    "    \n",
    "    def substituicao(self):\n",
    "        self.POP = self.POP_AUX\n",
    "        \n",
    "        self.POP_AUX = np.zeros((self.TAM_POP, self.TAM_GENE), dtype=int)\n",
    "        self.tam_pop_aux = 0"
   ]
  },
  {
   "cell_type": "markdown",
   "id": "valuable-tragedy",
   "metadata": {},
   "source": [
    "# Critérios de parada\n",
    "- encontrar a aptidão máxima, ou seja, a carga máxima da mochila;\n",
    "- contagem por número de gerações;\n",
    "- interromper o ciclo caso não ocorra a evolução populacional."
   ]
  },
  {
   "cell_type": "code",
   "execution_count": 193,
   "id": "funded-owner",
   "metadata": {},
   "outputs": [],
   "source": [
    "class AG(AG):\n",
    "    def criterios_de_parada(self):\n",
    "        # Capacidade máxima\n",
    "        if self.avaliacao.max() == self.capacidade:\n",
    "            return False\n",
    "        \n",
    "        return True"
   ]
  },
  {
   "cell_type": "code",
   "execution_count": 194,
   "id": "raising-ontario",
   "metadata": {},
   "outputs": [],
   "source": [
    "class AG(AG):\n",
    "    def exibir_melhor_elemento(self, cont):\n",
    "        melhor = (-ag.avaliacao).argsort()[:1]\n",
    "        self.melhores.append(self.avaliacao[melhor[0]])\n",
    "        print(\"Geração: {} Ind: {} = {}\".format(cont+1, self.POP[melhor[0]], self.avaliacao[melhor[0]]))\n",
    "        "
   ]
  },
  {
   "cell_type": "code",
   "execution_count": 195,
   "id": "juvenile-sacrifice",
   "metadata": {
    "scrolled": true
   },
   "outputs": [
    {
     "name": "stdout",
     "output_type": "stream",
     "text": [
      "Geração: 1 Ind: [0 1 0 0 1 1 0 0 0 1 1 0 0 0 1 1] = 1.5839999999999999\n",
      "Geração: 2 Ind: [0 1 0 0 1 1 0 0 0 1 1 0 0 0 1 1] = 1.5839999999999999\n",
      "Geração: 3 Ind: [0 1 0 0 1 1 0 0 0 1 1 0 0 0 1 1] = 1.5839999999999999\n",
      "Geração: 4 Ind: [0 1 0 0 1 1 0 0 0 1 1 0 0 0 1 1] = 1.5839999999999999\n",
      "Geração: 5 Ind: [0 1 0 0 1 1 0 0 0 1 1 0 0 0 1 1] = 1.5839999999999999\n",
      "Geração: 6 Ind: [0 1 0 0 1 1 0 0 0 1 1 0 0 0 1 1] = 1.5839999999999999\n",
      "Geração: 7 Ind: [0 1 0 0 1 1 0 0 0 1 1 0 0 0 1 1] = 1.5839999999999999\n",
      "Geração: 8 Ind: [0 1 0 0 1 1 0 0 0 1 1 0 0 0 1 1] = 1.5839999999999999\n",
      "Geração: 9 Ind: [0 1 0 0 1 1 0 0 0 1 1 0 0 0 1 1] = 1.5839999999999999\n",
      "Geração: 10 Ind: [0 1 0 0 1 1 0 0 0 1 1 0 0 0 1 1] = 1.5839999999999999\n",
      "Geração: 11 Ind: [1 0 1 1 0 0 0 0 0 1 0 1 0 1 0 1] = 1.6\n"
     ]
    }
   ],
   "source": [
    "ag = AG()\n",
    "\n",
    "geracoes = 100\n",
    "cont = 0\n",
    "while ag.criterios_de_parada():\n",
    "    ag.funcao_objetivo()\n",
    "    ag.exibir_melhor_elemento(cont)\n",
    "    \n",
    "    ## Cruzamento\n",
    "    qtd_cruzamentos = int(((ag.TAM_POP * ag.TX_CRUZAMENTO) / 100)/2) # qtd de cruzamentos\n",
    "\n",
    "    for i in range(qtd_cruzamentos): \n",
    "        ind1 = ag.metodo_da_roleta()\n",
    "        ind2 = ag.metodo_da_roleta()\n",
    "        while ind1 == ind2:\n",
    "            ind2 = ag.metodo_da_roleta()\n",
    "#         ag.cruzamento_simples(ind1, ind2)\n",
    "            ag.cruzamento_uniforme(ind1, ind2)\n",
    "        \n",
    "    ## fim do cruzamento\n",
    "\n",
    "\n",
    "    ## Elitismo\n",
    "    ag.elitismo()\n",
    "    ## fim do elitismo\n",
    "\n",
    "    ## Mutação\n",
    "    qtd_mutacao = int((ag.TAM_POP * ag.TX_MUTACAO) / 100) # qtd de cruzamentos\n",
    "    for i in range(qtd_mutacao):\n",
    "        ind1 = ag.metodo_da_roleta()\n",
    "        ag.mutacao(ind1)\n",
    "    ## fim da mutação\n",
    "    \n",
    "    ag.substituicao() \n",
    "    cont += 1"
   ]
  },
  {
   "cell_type": "code",
   "execution_count": 196,
   "id": "special-tribe",
   "metadata": {},
   "outputs": [
    {
     "data": {
      "image/png": "[encoded data removed]",
      "text/plain": [
       "<Figure size 432x288 with 1 Axes>"
      ]
     },
     "metadata": {
      "needs_background": "light"
     },
     "output_type": "display_data"
    }
   ],
   "source": [
    "y = np.array(ag.melhores)\n",
    "\n",
    "plt.plot(y)\n",
    "plt.title(\"Fitness do indivíduo mais apto de cada geração\")\n",
    "plt.show()"
   ]
  },
  {
   "cell_type": "code",
   "execution_count": null,
   "id": "121e1745",
   "metadata": {},
   "outputs": [],
   "source": []
  }
 ],
 "metadata": {
  "kernelspec": {
   "display_name": "Python 3",
   "language": "python",
   "name": "python3"
  },
  "language_info": {
   "codemirror_mode": {
    "name": "ipython",
    "version": 3
   },
   "file_extension": ".py",
   "mimetype": "text/x-python",
   "name": "python",
   "nbconvert_exporter": "python",
   "pygments_lexer": "ipython3",
   "version": "3.6.9"
  }
 },
 "nbformat": 4,
 "nbformat_minor": 5
}
