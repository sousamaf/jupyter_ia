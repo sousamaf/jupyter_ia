{
 "cells": [
  {
   "cell_type": "code",
   "execution_count": 63,
   "id": "marked-fields",
   "metadata": {},
   "outputs": [],
   "source": [
    "import numpy as np\n",
    "import random"
   ]
  },
  {
   "cell_type": "code",
   "execution_count": 153,
   "id": "three-trademark",
   "metadata": {},
   "outputs": [],
   "source": [
    "class AG:\n",
    "    \n",
    "    def inicializacao(self):\n",
    "        self.TAM_POP = 10\n",
    "        self.TAM_GENE = 10 # quantidade de livros\n",
    "        self.TX_CRUZAMENTO = 85\n",
    "        self.TX_MUTACAO = 5\n",
    "        self.TX_ELITISMO = 10\n",
    "\n",
    "        self.pesos = np.array([0.3, 0.125, 0.25, 0.400, 0.05, 0.5, 0.360, 0.210, 0.540, 0.180])\n",
    "        self.avaliacao = np.zeros(TAM_POP)\n",
    "\n",
    "        self.POP = np.random.randint(0, 2, (sefl.TAM_POP, self.TAM_GENE))\n",
    "        self.POP_AUX = np.zeros((self.TAM_POP, self.TAM_GENE), dtype=int)\n",
    "        self.tam_pop_aux = 0\n",
    "        \n",
    "    def funcao_objetivo(self):\n",
    "        for posicao, individuo in enumerate(self.POP):\n",
    "            peso = 0.0\n",
    "            for i, gene in enumerate(individuo):\n",
    "                peso += (individuo[i] * pesos[i])\n",
    "            self.avaliacao[posicao] = peso "
   ]
  },
  {
   "cell_type": "markdown",
   "id": "resident-spokesman",
   "metadata": {},
   "source": [
    "# Função de avaliação - fitness function"
   ]
  },
  {
   "cell_type": "code",
   "execution_count": 151,
   "id": "typical-religious",
   "metadata": {},
   "outputs": [],
   "source": []
  },
  {
   "cell_type": "markdown",
   "id": "suitable-brisbane",
   "metadata": {},
   "source": [
    "# Função de seleção\n",
    "Implementaremos o método da roleta"
   ]
  },
  {
   "cell_type": "code",
   "execution_count": 76,
   "id": "copyrighted-species",
   "metadata": {},
   "outputs": [],
   "source": [
    "def selecao():\n",
    "    return random.randint(0, TAM_POP-1)"
   ]
  },
  {
   "cell_type": "markdown",
   "id": "opposite-third",
   "metadata": {},
   "source": [
    "# Operadores de cruzamento - crossover\n",
    "- Cruzamento simples\n",
    "- Cruzamento com dois pontos de corte\n",
    "- Cruzamento uniforme ou cruzamento com máscara"
   ]
  },
  {
   "cell_type": "code",
   "execution_count": 143,
   "id": "increasing-grammar",
   "metadata": {},
   "outputs": [
    {
     "ename": "UnboundLocalError",
     "evalue": "local variable 'tam_pop_aux' referenced before assignment",
     "output_type": "error",
     "traceback": [
      "\u001b[0;31m---------------------------------------------------------------------------\u001b[0m",
      "\u001b[0;31mUnboundLocalError\u001b[0m                         Traceback (most recent call last)",
      "\u001b[0;32m<ipython-input-143-92a3e19c8358>\u001b[0m in \u001b[0;36m<module>\u001b[0;34m\u001b[0m\n\u001b[1;32m     46\u001b[0m     \u001b[0;32mpass\u001b[0m\u001b[0;34m\u001b[0m\u001b[0;34m\u001b[0m\u001b[0m\n\u001b[1;32m     47\u001b[0m \u001b[0;34m\u001b[0m\u001b[0m\n\u001b[0;32m---> 48\u001b[0;31m \u001b[0mcruzamento_com_dois_pontos\u001b[0m\u001b[0;34m(\u001b[0m\u001b[0;36m0\u001b[0m\u001b[0;34m,\u001b[0m \u001b[0;36m1\u001b[0m\u001b[0;34m)\u001b[0m\u001b[0;34m\u001b[0m\u001b[0;34m\u001b[0m\u001b[0m\n\u001b[0m",
      "\u001b[0;32m<ipython-input-143-92a3e19c8358>\u001b[0m in \u001b[0;36mcruzamento_com_dois_pontos\u001b[0;34m(ind1, ind2)\u001b[0m\n\u001b[1;32m     39\u001b[0m \u001b[0;31m#         POP_AUX[tam_pop_aux+1][i] = desc2[i]\u001b[0m\u001b[0;34m\u001b[0m\u001b[0;34m\u001b[0m\u001b[0;34m\u001b[0m\u001b[0m\n\u001b[1;32m     40\u001b[0m \u001b[0;34m\u001b[0m\u001b[0m\n\u001b[0;32m---> 41\u001b[0;31m     \u001b[0mtam_pop_aux\u001b[0m \u001b[0;34m+=\u001b[0m \u001b[0;36m2\u001b[0m\u001b[0;34m\u001b[0m\u001b[0;34m\u001b[0m\u001b[0m\n\u001b[0m\u001b[1;32m     42\u001b[0m     \u001b[0mprint\u001b[0m\u001b[0;34m(\u001b[0m\u001b[0mdesc1\u001b[0m\u001b[0;34m,\u001b[0m \u001b[0mend\u001b[0m\u001b[0;34m=\u001b[0m\u001b[0;34m\"\"\u001b[0m\u001b[0;34m)\u001b[0m\u001b[0;34m\u001b[0m\u001b[0;34m\u001b[0m\u001b[0m\n\u001b[1;32m     43\u001b[0m     \u001b[0mprint\u001b[0m\u001b[0;34m(\u001b[0m\u001b[0mdesc2\u001b[0m\u001b[0;34m)\u001b[0m\u001b[0;34m\u001b[0m\u001b[0;34m\u001b[0m\u001b[0m\n",
      "\u001b[0;31mUnboundLocalError\u001b[0m: local variable 'tam_pop_aux' referenced before assignment"
     ]
    }
   ],
   "source": [
    "# ind1 e ind2 são posições de indivíduos dentro da população (POP)\n",
    "def cruzamento_simples(ind1, ind2):\n",
    "    desc1 = np.zeros(TAM_GENE, dtype=int)\n",
    "    desc2 = np.zeros(TAM_GENE, dtype=int)\n",
    "    \n",
    "    for i in range(TAM_GENE):\n",
    "        if i < (TAM_GENE / 2):\n",
    "            desc1[i] = POP[ind1][i]\n",
    "            desc2[i] = POP[ind2][i]\n",
    "        else:\n",
    "            desc1[i] = POP[ind2][i]\n",
    "            desc2[i] = POP[ind1][i]\n",
    "    \n",
    "    for i in range(TAM_GENE):\n",
    "        POP_AUX[tam_pop_aux][i] = desc1[i]\n",
    "        POP_AUX[tam_pop_aux+1][i] = desc2[i]\n",
    "        \n",
    "    tam_pop_aux += 2\n",
    "        \n",
    "#     POP_AUX[tam_pop_aux] = desc1\n",
    "#     tam_pop_aux += 1\n",
    "#     POP_AUX[tam_pop_aux] = desc1\n",
    "#     tam_pop_aux += 1\n",
    "\n",
    "def cruzamento_com_dois_pontos(ind1, ind2):\n",
    "    desc1 = np.zeros(TAM_GENE, dtype=int)\n",
    "    desc2 = np.zeros(TAM_GENE, dtype=int)\n",
    "    \n",
    "    for i in range(TAM_GENE):\n",
    "        if i < 2 or i > 7:\n",
    "            desc1[i] = POP[ind1][i]\n",
    "            desc2[i] = POP[ind2][i]\n",
    "        else:\n",
    "            desc1[i] = POP[ind2][i]\n",
    "            desc2[i] = POP[ind1][i]\n",
    "    \n",
    "#     for i in range(TAM_GENE):\n",
    "#         POP_AUX[tam_pop_aux][i] = desc1[i]\n",
    "#         POP_AUX[tam_pop_aux+1][i] = desc2[i]\n",
    "        \n",
    "    tam_pop_aux += 2\n",
    "    print(desc1, end=\"\")\n",
    "    print(desc2)\n",
    "\n",
    "def cruzamento_uniforme(ind1, ind2):\n",
    "    pass\n",
    "\n",
    "def elitismo():\n",
    "    \n",
    "cruzamento_com_dois_pontos(0, 1)"
   ]
  },
  {
   "cell_type": "code",
   "execution_count": 140,
   "id": "extreme-juvenile",
   "metadata": {},
   "outputs": [
    {
     "name": "stdout",
     "output_type": "stream",
     "text": [
      "[0 0 1 1 1 1 1 1 0 1] [0 1 1 0 0 0 0 1 0 1]\n"
     ]
    }
   ],
   "source": [
    "print(POP[0], POP[1])"
   ]
  },
  {
   "cell_type": "code",
   "execution_count": 142,
   "id": "informative-crash",
   "metadata": {},
   "outputs": [
    {
     "data": {
      "text/plain": [
       "0"
      ]
     },
     "execution_count": 142,
     "metadata": {},
     "output_type": "execute_result"
    }
   ],
   "source": [
    "tam_pop_aux"
   ]
  },
  {
   "cell_type": "code",
   "execution_count": 136,
   "id": "demographic-merchant",
   "metadata": {},
   "outputs": [
    {
     "data": {
      "text/plain": [
       "0"
      ]
     },
     "execution_count": 136,
     "metadata": {},
     "output_type": "execute_result"
    }
   ],
   "source": [
    "# POP_AUX\n",
    "tam_pop_aux"
   ]
  },
  {
   "cell_type": "code",
   "execution_count": 122,
   "id": "narrative-presence",
   "metadata": {},
   "outputs": [
    {
     "data": {
      "text/plain": [
       "0"
      ]
     },
     "execution_count": 122,
     "metadata": {},
     "output_type": "execute_result"
    }
   ],
   "source": [
    "tam_pop_aux"
   ]
  },
  {
   "cell_type": "code",
   "execution_count": 154,
   "id": "contemporary-electric",
   "metadata": {},
   "outputs": [
    {
     "ename": "AttributeError",
     "evalue": "'AG' object has no attribute 'POP'",
     "output_type": "error",
     "traceback": [
      "\u001b[0;31m---------------------------------------------------------------------------\u001b[0m",
      "\u001b[0;31mAttributeError\u001b[0m                            Traceback (most recent call last)",
      "\u001b[0;32m<ipython-input-154-0789ee8b18f5>\u001b[0m in \u001b[0;36m<module>\u001b[0;34m\u001b[0m\n\u001b[1;32m      1\u001b[0m \u001b[0mag\u001b[0m \u001b[0;34m=\u001b[0m \u001b[0mAG\u001b[0m\u001b[0;34m(\u001b[0m\u001b[0;34m)\u001b[0m\u001b[0;34m\u001b[0m\u001b[0;34m\u001b[0m\u001b[0m\n\u001b[0;32m----> 2\u001b[0;31m \u001b[0mag\u001b[0m\u001b[0;34m.\u001b[0m\u001b[0mfuncao_objetivo\u001b[0m\u001b[0;34m(\u001b[0m\u001b[0;34m)\u001b[0m\u001b[0;34m\u001b[0m\u001b[0;34m\u001b[0m\u001b[0m\n\u001b[0m",
      "\u001b[0;32m<ipython-input-153-426bc0bc0ef1>\u001b[0m in \u001b[0;36mfuncao_objetivo\u001b[0;34m(self)\u001b[0m\n\u001b[1;32m     16\u001b[0m \u001b[0;34m\u001b[0m\u001b[0m\n\u001b[1;32m     17\u001b[0m     \u001b[0;32mdef\u001b[0m \u001b[0mfuncao_objetivo\u001b[0m\u001b[0;34m(\u001b[0m\u001b[0mself\u001b[0m\u001b[0;34m)\u001b[0m\u001b[0;34m:\u001b[0m\u001b[0;34m\u001b[0m\u001b[0;34m\u001b[0m\u001b[0m\n\u001b[0;32m---> 18\u001b[0;31m         \u001b[0;32mfor\u001b[0m \u001b[0mposicao\u001b[0m\u001b[0;34m,\u001b[0m \u001b[0mindividuo\u001b[0m \u001b[0;32min\u001b[0m \u001b[0menumerate\u001b[0m\u001b[0;34m(\u001b[0m\u001b[0mself\u001b[0m\u001b[0;34m.\u001b[0m\u001b[0mPOP\u001b[0m\u001b[0;34m)\u001b[0m\u001b[0;34m:\u001b[0m\u001b[0;34m\u001b[0m\u001b[0;34m\u001b[0m\u001b[0m\n\u001b[0m\u001b[1;32m     19\u001b[0m             \u001b[0mpeso\u001b[0m \u001b[0;34m=\u001b[0m \u001b[0;36m0.0\u001b[0m\u001b[0;34m\u001b[0m\u001b[0;34m\u001b[0m\u001b[0m\n\u001b[1;32m     20\u001b[0m             \u001b[0;32mfor\u001b[0m \u001b[0mi\u001b[0m\u001b[0;34m,\u001b[0m \u001b[0mgene\u001b[0m \u001b[0;32min\u001b[0m \u001b[0menumerate\u001b[0m\u001b[0;34m(\u001b[0m\u001b[0mindividuo\u001b[0m\u001b[0;34m)\u001b[0m\u001b[0;34m:\u001b[0m\u001b[0;34m\u001b[0m\u001b[0;34m\u001b[0m\u001b[0m\n",
      "\u001b[0;31mAttributeError\u001b[0m: 'AG' object has no attribute 'POP'"
     ]
    }
   ],
   "source": [
    "ag = AG()\n",
    "ag.funcao_objetivo()"
   ]
  },
  {
   "cell_type": "code",
   "execution_count": null,
   "id": "mighty-external",
   "metadata": {},
   "outputs": [],
   "source": []
  }
 ],
 "metadata": {
  "kernelspec": {
   "display_name": "Python 3",
   "language": "python",
   "name": "python3"
  },
  "language_info": {
   "codemirror_mode": {
    "name": "ipython",
    "version": 3
   },
   "file_extension": ".py",
   "mimetype": "text/x-python",
   "name": "python",
   "nbconvert_exporter": "python",
   "pygments_lexer": "ipython3",
   "version": "3.6.9"
  }
 },
 "nbformat": 4,
 "nbformat_minor": 5
}
