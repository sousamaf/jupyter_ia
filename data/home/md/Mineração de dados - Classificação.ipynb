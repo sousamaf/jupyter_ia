{
 "cells": [
  {
   "cell_type": "markdown",
   "metadata": {},
   "source": [
    "# Tarefa de Classificação\n",
    "Código para classificação do dataset IRIS utilizando métodos de aprendizado supervisionado.\n"
   ]
  },
  {
   "cell_type": "code",
   "execution_count": 94,
   "metadata": {},
   "outputs": [],
   "source": [
    "from sklearn import tree\n",
    "from sklearn.datasets import load_iris\n",
    "from sklearn.metrics import accuracy_score\n",
    "from sklearn.naive_bayes import GaussianNB\n",
    "from sklearn.neural_network import MLPClassifier\n",
    "from sklearn.neighbors import KNeighborsClassifier\n",
    "from sklearn.model_selection import train_test_split"
   ]
  },
  {
   "cell_type": "markdown",
   "metadata": {},
   "source": [
    "# Carregamento e separação do dataset\n",
    "\n",
    "Carregamento do dataset IRIS e separação dos dados em treinamento e teste."
   ]
  },
  {
   "cell_type": "code",
   "execution_count": 95,
   "metadata": {},
   "outputs": [],
   "source": [
    "X, Y = load_iris(return_X_y=True)\n",
    "X_train, X_test, y_train, y_test = train_test_split(X, Y, test_size=0.33, random_state=42)"
   ]
  },
  {
   "cell_type": "markdown",
   "metadata": {},
   "source": [
    "# Árvore de decisão: C4.5\n",
    "- Classificador CART, inspirado no C4.5. \n",
    "- Instância do classificador, treinamento, predição e avaliação."
   ]
  },
  {
   "cell_type": "code",
   "execution_count": 96,
   "metadata": {},
   "outputs": [
    {
     "name": "stdout",
     "output_type": "stream",
     "text": [
      "Acurácia CART:  0.98\n"
     ]
    },
    {
     "data": {
      "image/png": "[encoded data removed]",
      "text/plain": [
       "<Figure size 432x288 with 1 Axes>"
      ]
     },
     "metadata": {
      "needs_background": "light"
     },
     "output_type": "display_data"
    }
   ],
   "source": [
    "cart = tree.DecisionTreeClassifier()\n",
    "cart = cart.fit(X_train, y_train)\n",
    "cart_y_pred = cart.predict(X_test)\n",
    "tree.plot_tree(cart)\n",
    "\n",
    "cart_acuracia = accuracy_score(y_test, cart_y_pred)\n",
    "print(\"Acurácia CART: \", cart_acuracia)"
   ]
  },
  {
   "cell_type": "markdown",
   "metadata": {},
   "source": [
    "# KNN\n",
    "- Classificador KNN \n",
    "- Instância do classificador, treinamento, predição e avaliação."
   ]
  },
  {
   "cell_type": "code",
   "execution_count": 97,
   "metadata": {},
   "outputs": [
    {
     "name": "stdout",
     "output_type": "stream",
     "text": [
      "Acurácia KNN:  0.98\n"
     ]
    }
   ],
   "source": [
    "knn = KNeighborsClassifier(n_neighbors=3)\n",
    "knn.fit(X_train, y_train)\n",
    "knn_y_pred = knn.predict(X_test)\n",
    "\n",
    "knn_acuracia = accuracy_score(y_test, knn_y_pred)\n",
    "print(\"Acurácia KNN: \", knn_acuracia)"
   ]
  },
  {
   "cell_type": "markdown",
   "metadata": {},
   "source": [
    "# Gaussian Naive Bayes\n",
    "- Classificador Naive Bayes \n",
    "- Instância do classificador, treinamento, predição e avaliação."
   ]
  },
  {
   "cell_type": "code",
   "execution_count": 98,
   "metadata": {},
   "outputs": [
    {
     "name": "stdout",
     "output_type": "stream",
     "text": [
      "Acurácia GNB:  0.96\n"
     ]
    }
   ],
   "source": [
    "gnb = GaussianNB()\n",
    "gnb.fit(X_train, y_train)\n",
    "gnb_y_pred = gnb.predict(X_test)\n",
    "\n",
    "gnb_acuracia = accuracy_score(y_test, gnb_y_pred)\n",
    "print(\"Acurácia GNB: \", gnb_acuracia)"
   ]
  },
  {
   "cell_type": "markdown",
   "metadata": {},
   "source": [
    "# Multilayer Percepton - MLP\n",
    "- Classificador de Rede Neural do tipo MLP \n",
    "- Instância do classificador, treinamento, predição e avaliação."
   ]
  },
  {
   "cell_type": "code",
   "execution_count": 99,
   "metadata": {},
   "outputs": [
    {
     "name": "stdout",
     "output_type": "stream",
     "text": [
      "Acurácia MLP:  1.0\n"
     ]
    }
   ],
   "source": [
    "# mlp = MLPClassifier(random_state=1, max_iter=3000).fit(X_train, y_train)\n",
    "mlp = MLPClassifier(solver='sgd', max_iter=3000, alpha=1e-5, hidden_layer_sizes=(3, 3), random_state=1)\n",
    "mlp.fit(X_train, y_train)\n",
    "\n",
    "mlp_acuracia = mlp.score(X_test, y_test)\n",
    "print(\"Acurácia MLP: \", mlp_acuracia)"
   ]
  },
  {
   "cell_type": "markdown",
   "metadata": {},
   "source": [
    "# Resumo: acurácia de todos os modelos\n",
    "Desempenho para classificação do dataset IRIS."
   ]
  },
  {
   "cell_type": "code",
   "execution_count": 100,
   "metadata": {},
   "outputs": [
    {
     "name": "stdout",
     "output_type": "stream",
     "text": [
      "Acurácia CART:  0.98\n",
      "Acurácia KNN:  0.98\n",
      "Acurácia GNB:  0.96\n",
      "Acurácia MLP:  1.0\n"
     ]
    }
   ],
   "source": [
    "print(\"Acurácia CART: \", cart_acuracia)\n",
    "print(\"Acurácia KNN: \", knn_acuracia)\n",
    "print(\"Acurácia GNB: \", gnb_acuracia)\n",
    "print(\"Acurácia MLP: \", mlp_acuracia)"
   ]
  },
  {
   "cell_type": "code",
   "execution_count": null,
   "metadata": {},
   "outputs": [],
   "source": []
  }
 ],
 "metadata": {
  "kernelspec": {
   "display_name": "Python 3",
   "language": "python",
   "name": "python3"
  },
  "language_info": {
   "codemirror_mode": {
    "name": "ipython",
    "version": 3
   },
   "file_extension": ".py",
   "mimetype": "text/x-python",
   "name": "python",
   "nbconvert_exporter": "python",
   "pygments_lexer": "ipython3",
   "version": "3.6.9"
  }
 },
 "nbformat": 4,
 "nbformat_minor": 2
}
