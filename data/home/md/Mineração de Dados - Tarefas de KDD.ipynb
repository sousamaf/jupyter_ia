{
 "cells": [
  {
   "cell_type": "markdown",
   "id": "73e92626",
   "metadata": {
    "slideshow": {
     "slide_type": "slide"
    }
   },
   "source": [
    "# Tarefas de KDD\n",
    "- operações de KDD pertencentes à etapa de mineração de dados;\n",
    "- tais tarefas são de ordem primárias ou compostas."
   ]
  },
  {
   "cell_type": "markdown",
   "id": "5f930be1",
   "metadata": {
    "slideshow": {
     "slide_type": "subslide"
    }
   },
   "source": [
    " # Tarefas: desmembramento\n",
    " \n",
    "- uma tarefa primária não pode ser desmembrada;\n",
    "- uma tarefa composta pode ser desmembrada em duas ou mais tarefas primárias."
   ]
  },
  {
   "cell_type": "markdown",
   "id": "b02c5cdb",
   "metadata": {
    "slideshow": {
     "slide_type": "subslide"
    }
   },
   "source": [
    "# Exemplo de regressão\n",
    "\n",
    "![regressão](https://encrypted-tbn0.gstatic.com/images?q=tbn:ANd9GcQ8TC3cC5aGGLRR-rO8HGs39wCJmexHA9aouQ&usqp=CAU)"
   ]
  },
  {
   "cell_type": "markdown",
   "id": "22844a8f",
   "metadata": {
    "slideshow": {
     "slide_type": "slide"
    }
   },
   "source": [
    "# Tarefas Primárias \n",
    "- descoberta de regras de associação\n",
    "- descoberta de regras de associações generalizadas\n",
    "- descoberta de sequência\n",
    "- descoberto de sequências generalizadas\n",
    "- classificação\n",
    "- regressão\n",
    "- sumarização\n",
    "- clusterização/agrupamento\n",
    "- previsão de séries temporais\n",
    "- detecção de desvios"
   ]
  },
  {
   "cell_type": "markdown",
   "id": "2fc5e12b",
   "metadata": {
    "slideshow": {
     "slide_type": "subslide"
    }
   },
   "source": [
    "# Tarefas compostas\n",
    "- clusterização → classificação\n",
    "- clusterização → sumarização"
   ]
  },
  {
   "cell_type": "markdown",
   "id": "e5c68f16",
   "metadata": {
    "slideshow": {
     "slide_type": "slide"
    }
   },
   "source": [
    " # Classificação\n",
    "- geralmente utiliza aprendizado supervisionado\n",
    " - aprendizado indutivo\n",
    "- um atributo é corresponde ao atributo-alvo"
   ]
  },
  {
   "cell_type": "markdown",
   "id": "8b971329",
   "metadata": {
    "slideshow": {
     "slide_type": "subslide"
    }
   },
   "source": [
    "# Atributos\n",
    "- atributo-alvo: para o qual se deve fazer a predição de valor\n",
    "- atributos previsores: utilizados para a predição de valor\n",
    "\n",
    "![dominio-imagem](https://paperx-dex-assets.s3.sa-east-1.amazonaws.com/images/1585747503300-Qn4OP15i0H.png)\n",
    "\n",
    "*A* = Conjunto de dados\n",
    "\n",
    "*B* = Conjunto de classes\n",
    "\n",
    "*f* = classificador"
   ]
  },
  {
   "cell_type": "markdown",
   "id": "d07114f1",
   "metadata": {
    "slideshow": {
     "slide_type": "subslide"
    }
   },
   "source": [
    "# Desempenho\n",
    "- acurácia ou taxa de acerto\n",
    "- taxa de erro ou taxa de classificação incorreta\n",
    "$$Acc(h) = 1- Err(h)$$"
   ]
  },
  {
   "cell_type": "markdown",
   "id": "a4a517ad",
   "metadata": {
    "slideshow": {
     "slide_type": "subslide"
    }
   },
   "source": [
    "# Completude\n",
    "- capacidade de um classificador apresentar uma resposta a todos os exemplos de dados"
   ]
  },
  {
   "cell_type": "markdown",
   "id": "d562700d",
   "metadata": {
    "slideshow": {
     "slide_type": "subslide"
    }
   },
   "source": [
    "# Matriz de confusão\n",
    "- detalhamento do desempenho do modelo\n",
    "- para cada classe mostra o número de classificações corretas\n",
    " \n",
    "![matriz-confusao-multi-classes](https://www.scielo.br/img/revistas/rbeaa/v13n3/n03a14t04.gif)\n",
    " "
   ]
  },
  {
   "cell_type": "markdown",
   "id": "85921954",
   "metadata": {
    "slideshow": {
     "slide_type": "subslide"
    }
   },
   "source": [
    "# Matriz de confusão para duas classes\n",
    "![matriz-confusao-duas-classes](http://diegonogare.net/wp-content/uploads/2020/04/matrizConfusao-600x381.png)"
   ]
  },
  {
   "cell_type": "markdown",
   "id": "23b8cb6b",
   "metadata": {
    "slideshow": {
     "slide_type": "subslide"
    }
   },
   "source": [
    "# Algoritmos mais populares:\n",
    "- C4.5\n",
    "- Redes neurais MLP\n",
    "- K-NN\n",
    "- Classificadores Bayesianas"
   ]
  },
  {
   "cell_type": "markdown",
   "id": "31d3d1ac",
   "metadata": {
    "slideshow": {
     "slide_type": "subslide"
    }
   },
   "source": [
    "# Atividade\n",
    "- explorar o pacote python SKLearn\n",
    "- explorar o dataset IRIS\n",
    "- buscar um dataset para trabalhar: qual sua área de interesse?"
   ]
  }
 ],
 "metadata": {
  "celltoolbar": "Slideshow",
  "kernelspec": {
   "display_name": "Python 3",
   "language": "python",
   "name": "python3"
  },
  "language_info": {
   "codemirror_mode": {
    "name": "ipython",
    "version": 3
   },
   "file_extension": ".py",
   "mimetype": "text/x-python",
   "name": "python",
   "nbconvert_exporter": "python",
   "pygments_lexer": "ipython3",
   "version": "3.6.9"
  }
 },
 "nbformat": 4,
 "nbformat_minor": 5
}
