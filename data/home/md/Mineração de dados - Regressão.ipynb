{
 "cells": [
  {
   "cell_type": "markdown",
   "id": "a5904921",
   "metadata": {
    "slideshow": {
     "slide_type": "slide"
    }
   },
   "source": [
    "# Regressão\n",
    "\n",
    "- Tarefa compreende, fundamentalmente, a busca por funções, lineares ou não, que mapeiam os registros de um conjunto de dados em valores reais.\n",
    "- É uma tarefa similar a classificação, sendo restrita apenas a atributos continuos"
   ]
  },
  {
   "cell_type": "markdown",
   "id": "f8656b72",
   "metadata": {
    "slideshow": {
     "slide_type": "subslide"
    }
   },
   "source": [
    "# Contextos de aplicações \n",
    "- predição  \n",
    "- estimativa de propabilidade de um evento ocorrer"
   ]
  },
  {
   "cell_type": "markdown",
   "id": "a58a23b6",
   "metadata": {
    "slideshow": {
     "slide_type": "subslide"
    }
   },
   "source": [
    "# Regressão linear\n",
    "- forma mais simples de regressão\n",
    "- abstração de uma função a partir de dados\n",
    "- regressão linear bivariada:\n",
    "  - variável dependente: Y\n",
    "  - variável independente: X\n",
    "- a partir de X encontrar Y\n",
    "Formalmente deve-se encontrar alpha e beta:\n",
    "$Y = \\alpha + \\beta X$\n",
    "- alpha e beta são coeficientes de regressão linar."
   ]
  },
  {
   "cell_type": "markdown",
   "id": "e734a25e",
   "metadata": {
    "slideshow": {
     "slide_type": "subslide"
    }
   },
   "source": [
    "# Regressão linear multipla\n",
    "- há mais de uma variável independente. \n",
    " \n",
    "$Y = \\alpha + \\beta _1X_1 + \\beta _2X_2 + ... + \\beta _kX_k$"
   ]
  },
  {
   "cell_type": "markdown",
   "id": "ff513c75",
   "metadata": {
    "slideshow": {
     "slide_type": "subslide"
    }
   },
   "source": [
    "# Regressão não linear\n",
    "- dados que não apresentam dependência linear entre si \n",
    "- Regressão Polinomial\n",
    "- Método dos mínimos quadrados"
   ]
  },
  {
   "cell_type": "markdown",
   "id": "c7005d6d",
   "metadata": {
    "slideshow": {
     "slide_type": "slide"
    }
   },
   "source": [
    " \n",
    "Regressão linear simples:\n",
    "https://www.computersciencemaster.com.br/como-funciona-a-regressao-linear-simples/\n",
    " \n",
    " \n",
    "Minimo quadrado:\n",
    "https://neylsoncrepalde.github.io/2018-02-25-regressao-linear-python/"
   ]
  },
  {
   "cell_type": "code",
   "execution_count": null,
   "id": "05272da2",
   "metadata": {},
   "outputs": [],
   "source": []
  }
 ],
 "metadata": {
  "celltoolbar": "Slideshow",
  "kernelspec": {
   "display_name": "Python 3",
   "language": "python",
   "name": "python3"
  },
  "language_info": {
   "codemirror_mode": {
    "name": "ipython",
    "version": 3
   },
   "file_extension": ".py",
   "mimetype": "text/x-python",
   "name": "python",
   "nbconvert_exporter": "python",
   "pygments_lexer": "ipython3",
   "version": "3.6.9"
  }
 },
 "nbformat": 4,
 "nbformat_minor": 5
}
