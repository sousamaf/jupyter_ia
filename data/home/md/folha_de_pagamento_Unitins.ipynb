{
 "cells": [
  {
   "cell_type": "markdown",
   "metadata": {},
   "source": [
    "# Análise da folha de pagamento da Unitins"
   ]
  },
  {
   "cell_type": "code",
   "execution_count": 139,
   "metadata": {},
   "outputs": [],
   "source": [
    "import os.path\n",
    "import numpy as np\n",
    "import pandas as pd\n",
    "import seaborn as sns\n",
    "import matplotlib.pyplot as plt\n",
    "from IPython.display import clear_output"
   ]
  },
  {
   "cell_type": "code",
   "execution_count": 111,
   "metadata": {},
   "outputs": [],
   "source": [
    "df = pd.DataFrame()\n",
    "\n",
    "if os.path.isfile('folha.csv'):\n",
    "    df = pd.read_csv(\"folha.csv\", sep=\";\")\n",
    "else:\n",
    "    for ano in range(2008, 2022):\n",
    "        for mes in range(1, 13):\n",
    "            clear_output(wait=True)\n",
    "            print(\"Referência: {}_{:02}\".format(ano, mes))\n",
    "            url = \"https://www.unitins.br/portaltransparencia/folha-de-pagamento?TipoAno={}&tipoMes={:02}&TipoPesquisa=Nome&busca=\".format(ano, mes)\n",
    "            try:\n",
    "                salario = pd.read_html(url)\n",
    "                df_salario = pd.DataFrame(salario[0])\n",
    "                df_salario['referencia'] = \"{}_{:02}\".format(ano, mes)\n",
    "\n",
    "                df = df.append(df_salario, ignore_index=True)\n",
    "            except:\n",
    "                pass\n",
    "    df['TOTAL VENCIMENTO*'] = [x.strip(\"R$ \") for x in df['TOTAL VENCIMENTO*']]\n",
    "    df['DESCONTO IRRF'] = [x.strip(\"R$ \") for x in df['DESCONTO IRRF']]\n",
    "    df['DESCONTO PREVIDÊNCIA'] = [x.strip(\"R$ \") for x in df['DESCONTO PREVIDÊNCIA']]\n",
    "    df['DESCONTOS DIVERSOS'] = [x.strip(\"R$ \") for x in df['DESCONTOS DIVERSOS']]\n",
    "    df['SALÁRIO LÍQUIDO'] = [x.strip(\"R$ \") for x in df['SALÁRIO LÍQUIDO']]\n",
    "\n",
    "    df['TOTAL VENCIMENTO*'] = df['TOTAL VENCIMENTO*'].str.replace('.', \"\")\n",
    "    df['TOTAL VENCIMENTO*'] = df['TOTAL VENCIMENTO*'].str.replace(',', \".\").astype(float)\n",
    "\n",
    "    df['DESCONTO IRRF'] = df['DESCONTO IRRF'].str.replace('.', \"\")\n",
    "    df['DESCONTO IRRF'] = df['DESCONTO IRRF'].str.replace(',', \".\").astype(float)\n",
    "\n",
    "    df['DESCONTO PREVIDÊNCIA'] = df['DESCONTO PREVIDÊNCIA'].str.replace('.', \"\")\n",
    "    df['DESCONTO PREVIDÊNCIA'] = df['DESCONTO PREVIDÊNCIA'].str.replace(',', \".\").astype(float)\n",
    "\n",
    "    df['DESCONTOS DIVERSOS'] = df['DESCONTOS DIVERSOS'].str.replace('.', \"\")\n",
    "    df['DESCONTOS DIVERSOS'] = df['DESCONTOS DIVERSOS'].str.replace(',', \".\").astype(float)\n",
    "\n",
    "    df['SALÁRIO LÍQUIDO'] = df['SALÁRIO LÍQUIDO'].str.replace('.', \"\")\n",
    "    df['SALÁRIO LÍQUIDO'] = df['SALÁRIO LÍQUIDO'].str.replace(',', \".\").astype(float)\n",
    "    \n",
    "    df.to_csv(\"folha.csv\", sep=\";\", index=False)\n"
   ]
  },
  {
   "cell_type": "markdown",
   "metadata": {},
   "source": [
    "## Número de servidores na Unitins"
   ]
  },
  {
   "cell_type": "code",
   "execution_count": 52,
   "metadata": {
    "scrolled": true
   },
   "outputs": [
    {
     "name": "stdout",
     "output_type": "stream",
     "text": [
      "Total de servidores:  405\n",
      "Total de efetivos:  67\n",
      "Total de comissionados:  28\n",
      "Total de contratados:  310\n",
      "Total de a disposição:  0\n"
     ]
    }
   ],
   "source": [
    "# df.head()\n",
    "\n",
    "print(\"Total de servidores: \", len(df))\n",
    "print(\"Total de efetivos: \", len(df[df['VÍNCULO'] == 'EFETIVO']))\n",
    "print(\"Total de comissionados: \", len(df[df['VÍNCULO'] == 'COMISSIONADO']))\n",
    "print(\"Total de contratados: \", len(df[df['VÍNCULO'] == 'CONTRATADO']))\n",
    "print(\"Total de a disposição: \", len(df[df['VÍNCULO'] == 'EFETIVO/Disp'] ))\n"
   ]
  },
  {
   "cell_type": "code",
   "execution_count": 53,
   "metadata": {
    "scrolled": true
   },
   "outputs": [],
   "source": [
    "profs = ['PROF. ADJUNTO I', 'PROF. DOUTOR I /2893',\n",
    "       'PROF. MESTRE I /2893', 'PROF.UNIVERSITARIO 2',\n",
    "       'PROF.UNIVERSITARIO 3', 'PROF.UNIVERSITARIO I', 'QS PU1PROF ESP. 4',\n",
    "       'QS PU1PROF. DOUTOR4', 'QS PU1PROF. MESTRE4']\n",
    "\n",
    "filtro_prof_efetivos = (df['FUNÇÃO'].isin(profs)) & (df['VÍNCULO'] == 'EFETIVO')\n",
    "\n",
    "# df[filtro_prof_efetivos]"
   ]
  },
  {
   "cell_type": "code",
   "execution_count": 55,
   "metadata": {},
   "outputs": [],
   "source": []
  },
  {
   "cell_type": "markdown",
   "metadata": {},
   "source": [
    "## Descrição do campo salário líquido: média, menor, maior e moda."
   ]
  },
  {
   "cell_type": "code",
   "execution_count": 56,
   "metadata": {},
   "outputs": [
    {
     "name": "stdout",
     "output_type": "stream",
     "text": [
      "Média:  1812.4854567901236\n",
      "Menor:  0.0\n",
      "Maior:  9756.32\n",
      "Moda:  0.0\n"
     ]
    },
    {
     "data": {
      "image/png": "[encoded data removed]",
      "text/plain": [
       "<Figure size 432x288 with 1 Axes>"
      ]
     },
     "metadata": {
      "needs_background": "light"
     },
     "output_type": "display_data"
    }
   ],
   "source": [
    "df['SALÁRIO LÍQUIDO'].hist()\n",
    "print(\"Menor: \", np.min(df['SALÁRIO LÍQUIDO']))\n",
    "print(\"Maior: \", np.max(df['SALÁRIO LÍQUIDO']))\n",
    "print(\"Moda: \", df['SALÁRIO LÍQUIDO'].mode()[0])"
   ]
  },
  {
   "cell_type": "markdown",
   "metadata": {},
   "source": [
    "## Descrição do campo salário bruto: média, menor, maior e moda."
   ]
  },
  {
   "cell_type": "code",
   "execution_count": 58,
   "metadata": {},
   "outputs": [
    {
     "name": "stdout",
     "output_type": "stream",
     "text": [
      "Média:  2743.608395061728\n",
      "Menor:  82.13\n",
      "Maior:  16166.67\n",
      "Moda:  720.0\n"
     ]
    },
    {
     "data": {
      "image/png": "[encoded data removed]",
      "text/plain": [
       "<Figure size 432x288 with 1 Axes>"
      ]
     },
     "metadata": {
      "needs_background": "light"
     },
     "output_type": "display_data"
    }
   ],
   "source": [
    "df['TOTAL VENCIMENTO*'].hist()\n",
    "\n",
    "print(\"Média: \", np.mean(df['TOTAL VENCIMENTO*']))\n",
    "print(\"Menor: \", np.min(df['TOTAL VENCIMENTO*']))\n",
    "print(\"Maior: \", np.max(df['TOTAL VENCIMENTO*']))\n",
    "print(\"Moda: \", df['TOTAL VENCIMENTO*'].mode()[0])"
   ]
  },
  {
   "cell_type": "code",
   "execution_count": 149,
   "metadata": {},
   "outputs": [],
   "source": [
    "media_mensal = []\n",
    "for ano in range(2008, 2022):\n",
    "    for mes in range(1, 13):\n",
    "        filtro_referencia = (df['referencia'] == \"{}_{:02}\".format(ano, mes))\n",
    "        media = np.mean(df[filtro_referencia]['SALÁRIO LÍQUIDO'])\n",
    "        if pd.isnull(media) == False:\n",
    "            media_mensal.append(media)\n"
   ]
  },
  {
   "cell_type": "code",
   "execution_count": 150,
   "metadata": {},
   "outputs": [
    {
     "data": {
      "image/png": "[encoded data removed]",
      "text/plain": [
       "<Figure size 432x288 with 1 Axes>"
      ]
     },
     "metadata": {
      "needs_background": "light"
     },
     "output_type": "display_data"
    }
   ],
   "source": [
    "ypoints = np.array(media_mensal)\n",
    "\n",
    "plt.plot(ypoints)\n",
    "plt.title(\"Média geral de salário - Marco Antonio\")\n",
    "plt.show()"
   ]
  },
  {
   "cell_type": "code",
   "execution_count": null,
   "metadata": {},
   "outputs": [],
   "source": []
  },
  {
   "cell_type": "code",
   "execution_count": null,
   "metadata": {},
   "outputs": [],
   "source": []
  }
 ],
 "metadata": {
  "kernelspec": {
   "display_name": "Python 3",
   "language": "python",
   "name": "python3"
  },
  "language_info": {
   "codemirror_mode": {
    "name": "ipython",
    "version": 3
   },
   "file_extension": ".py",
   "mimetype": "text/x-python",
   "name": "python",
   "nbconvert_exporter": "python",
   "pygments_lexer": "ipython3",
   "version": "3.6.9"
  }
 },
 "nbformat": 4,
 "nbformat_minor": 2
}
