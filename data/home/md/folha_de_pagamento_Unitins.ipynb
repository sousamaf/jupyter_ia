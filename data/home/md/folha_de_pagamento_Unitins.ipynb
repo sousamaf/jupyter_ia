{
 "cells": [
  {
   "cell_type": "markdown",
   "metadata": {},
   "source": [
    "# Análise da folha de pagamento da Unitins"
   ]
  },
  {
   "cell_type": "code",
   "execution_count": 1,
   "metadata": {},
   "outputs": [],
   "source": [
    "import pandas as pd\n",
    "import numpy as np\n"
   ]
  },
  {
   "cell_type": "code",
   "execution_count": 93,
   "metadata": {},
   "outputs": [
    {
     "ename": "ImportError",
     "evalue": "html5lib not found, please install it",
     "output_type": "error",
     "traceback": [
      "\u001b[0;31m---------------------------------------------------------------------------\u001b[0m",
      "\u001b[0;31mImportError\u001b[0m                               Traceback (most recent call last)",
      "\u001b[0;32m<ipython-input-93-e9ee1e512e2d>\u001b[0m in \u001b[0;36m<module>\u001b[0;34m\u001b[0m\n\u001b[1;32m      4\u001b[0m     \u001b[0;32mfor\u001b[0m \u001b[0mmes\u001b[0m \u001b[0;32min\u001b[0m \u001b[0mrange\u001b[0m\u001b[0;34m(\u001b[0m\u001b[0;36m1\u001b[0m\u001b[0;34m,\u001b[0m \u001b[0;36m13\u001b[0m\u001b[0;34m)\u001b[0m\u001b[0;34m:\u001b[0m\u001b[0;34m\u001b[0m\u001b[0;34m\u001b[0m\u001b[0m\n\u001b[1;32m      5\u001b[0m         \u001b[0murl\u001b[0m \u001b[0;34m=\u001b[0m \u001b[0;34m\"https://www.unitins.br/portaltransparencia/folha-de-pagamento?TipoAno={}&tipoMes={:02}&TipoPesquisa=Nome&busca=\"\u001b[0m\u001b[0;34m.\u001b[0m\u001b[0mformat\u001b[0m\u001b[0;34m(\u001b[0m\u001b[0mano\u001b[0m\u001b[0;34m,\u001b[0m \u001b[0mmes\u001b[0m\u001b[0;34m)\u001b[0m\u001b[0;34m\u001b[0m\u001b[0;34m\u001b[0m\u001b[0m\n\u001b[0;32m----> 6\u001b[0;31m         \u001b[0msalario\u001b[0m \u001b[0;34m=\u001b[0m \u001b[0mpd\u001b[0m\u001b[0;34m.\u001b[0m\u001b[0mread_html\u001b[0m\u001b[0;34m(\u001b[0m\u001b[0murl\u001b[0m\u001b[0;34m)\u001b[0m\u001b[0;34m\u001b[0m\u001b[0;34m\u001b[0m\u001b[0m\n\u001b[0m\u001b[1;32m      7\u001b[0m         \u001b[0mdf_salario\u001b[0m \u001b[0;34m=\u001b[0m \u001b[0mpd\u001b[0m\u001b[0;34m.\u001b[0m\u001b[0mDataFrame\u001b[0m\u001b[0;34m(\u001b[0m\u001b[0msalario\u001b[0m\u001b[0;34m[\u001b[0m\u001b[0;36m0\u001b[0m\u001b[0;34m]\u001b[0m\u001b[0;34m)\u001b[0m\u001b[0;34m\u001b[0m\u001b[0;34m\u001b[0m\u001b[0m\n\u001b[1;32m      8\u001b[0m         \u001b[0mdf_salario\u001b[0m\u001b[0;34m[\u001b[0m\u001b[0;34m'referencia'\u001b[0m\u001b[0;34m]\u001b[0m \u001b[0;34m=\u001b[0m \u001b[0;34m\"{}_{}\"\u001b[0m\u001b[0;34m.\u001b[0m\u001b[0mformat\u001b[0m\u001b[0;34m(\u001b[0m\u001b[0mano\u001b[0m\u001b[0;34m,\u001b[0m \u001b[0mmes\u001b[0m\u001b[0;34m)\u001b[0m\u001b[0;34m\u001b[0m\u001b[0;34m\u001b[0m\u001b[0m\n",
      "\u001b[0;32m/usr/local/lib/python3.6/dist-packages/pandas/util/_decorators.py\u001b[0m in \u001b[0;36mwrapper\u001b[0;34m(*args, **kwargs)\u001b[0m\n\u001b[1;32m    294\u001b[0m                 )\n\u001b[1;32m    295\u001b[0m                 \u001b[0mwarnings\u001b[0m\u001b[0;34m.\u001b[0m\u001b[0mwarn\u001b[0m\u001b[0;34m(\u001b[0m\u001b[0mmsg\u001b[0m\u001b[0;34m,\u001b[0m \u001b[0mFutureWarning\u001b[0m\u001b[0;34m,\u001b[0m \u001b[0mstacklevel\u001b[0m\u001b[0;34m=\u001b[0m\u001b[0mstacklevel\u001b[0m\u001b[0;34m)\u001b[0m\u001b[0;34m\u001b[0m\u001b[0;34m\u001b[0m\u001b[0m\n\u001b[0;32m--> 296\u001b[0;31m             \u001b[0;32mreturn\u001b[0m \u001b[0mfunc\u001b[0m\u001b[0;34m(\u001b[0m\u001b[0;34m*\u001b[0m\u001b[0margs\u001b[0m\u001b[0;34m,\u001b[0m \u001b[0;34m**\u001b[0m\u001b[0mkwargs\u001b[0m\u001b[0;34m)\u001b[0m\u001b[0;34m\u001b[0m\u001b[0;34m\u001b[0m\u001b[0m\n\u001b[0m\u001b[1;32m    297\u001b[0m \u001b[0;34m\u001b[0m\u001b[0m\n\u001b[1;32m    298\u001b[0m         \u001b[0;32mreturn\u001b[0m \u001b[0mwrapper\u001b[0m\u001b[0;34m\u001b[0m\u001b[0;34m\u001b[0m\u001b[0m\n",
      "\u001b[0;32m/usr/local/lib/python3.6/dist-packages/pandas/io/html.py\u001b[0m in \u001b[0;36mread_html\u001b[0;34m(io, match, flavor, header, index_col, skiprows, attrs, parse_dates, thousands, encoding, decimal, converters, na_values, keep_default_na, displayed_only)\u001b[0m\n\u001b[1;32m   1099\u001b[0m         \u001b[0mna_values\u001b[0m\u001b[0;34m=\u001b[0m\u001b[0mna_values\u001b[0m\u001b[0;34m,\u001b[0m\u001b[0;34m\u001b[0m\u001b[0;34m\u001b[0m\u001b[0m\n\u001b[1;32m   1100\u001b[0m         \u001b[0mkeep_default_na\u001b[0m\u001b[0;34m=\u001b[0m\u001b[0mkeep_default_na\u001b[0m\u001b[0;34m,\u001b[0m\u001b[0;34m\u001b[0m\u001b[0;34m\u001b[0m\u001b[0m\n\u001b[0;32m-> 1101\u001b[0;31m         \u001b[0mdisplayed_only\u001b[0m\u001b[0;34m=\u001b[0m\u001b[0mdisplayed_only\u001b[0m\u001b[0;34m,\u001b[0m\u001b[0;34m\u001b[0m\u001b[0;34m\u001b[0m\u001b[0m\n\u001b[0m\u001b[1;32m   1102\u001b[0m     )\n",
      "\u001b[0;32m/usr/local/lib/python3.6/dist-packages/pandas/io/html.py\u001b[0m in \u001b[0;36m_parse\u001b[0;34m(flavor, io, match, attrs, encoding, displayed_only, **kwargs)\u001b[0m\n\u001b[1;32m    892\u001b[0m     \u001b[0mretained\u001b[0m \u001b[0;34m=\u001b[0m \u001b[0;32mNone\u001b[0m\u001b[0;34m\u001b[0m\u001b[0;34m\u001b[0m\u001b[0m\n\u001b[1;32m    893\u001b[0m     \u001b[0;32mfor\u001b[0m \u001b[0mflav\u001b[0m \u001b[0;32min\u001b[0m \u001b[0mflavor\u001b[0m\u001b[0;34m:\u001b[0m\u001b[0;34m\u001b[0m\u001b[0;34m\u001b[0m\u001b[0m\n\u001b[0;32m--> 894\u001b[0;31m         \u001b[0mparser\u001b[0m \u001b[0;34m=\u001b[0m \u001b[0m_parser_dispatch\u001b[0m\u001b[0;34m(\u001b[0m\u001b[0mflav\u001b[0m\u001b[0;34m)\u001b[0m\u001b[0;34m\u001b[0m\u001b[0;34m\u001b[0m\u001b[0m\n\u001b[0m\u001b[1;32m    895\u001b[0m         \u001b[0mp\u001b[0m \u001b[0;34m=\u001b[0m \u001b[0mparser\u001b[0m\u001b[0;34m(\u001b[0m\u001b[0mio\u001b[0m\u001b[0;34m,\u001b[0m \u001b[0mcompiled_match\u001b[0m\u001b[0;34m,\u001b[0m \u001b[0mattrs\u001b[0m\u001b[0;34m,\u001b[0m \u001b[0mencoding\u001b[0m\u001b[0;34m,\u001b[0m \u001b[0mdisplayed_only\u001b[0m\u001b[0;34m)\u001b[0m\u001b[0;34m\u001b[0m\u001b[0;34m\u001b[0m\u001b[0m\n\u001b[1;32m    896\u001b[0m \u001b[0;34m\u001b[0m\u001b[0m\n",
      "\u001b[0;32m/usr/local/lib/python3.6/dist-packages/pandas/io/html.py\u001b[0m in \u001b[0;36m_parser_dispatch\u001b[0;34m(flavor)\u001b[0m\n\u001b[1;32m    841\u001b[0m     \u001b[0;32mif\u001b[0m \u001b[0mflavor\u001b[0m \u001b[0;32min\u001b[0m \u001b[0;34m(\u001b[0m\u001b[0;34m\"bs4\"\u001b[0m\u001b[0;34m,\u001b[0m \u001b[0;34m\"html5lib\"\u001b[0m\u001b[0;34m)\u001b[0m\u001b[0;34m:\u001b[0m\u001b[0;34m\u001b[0m\u001b[0;34m\u001b[0m\u001b[0m\n\u001b[1;32m    842\u001b[0m         \u001b[0;32mif\u001b[0m \u001b[0;32mnot\u001b[0m \u001b[0m_HAS_HTML5LIB\u001b[0m\u001b[0;34m:\u001b[0m\u001b[0;34m\u001b[0m\u001b[0;34m\u001b[0m\u001b[0m\n\u001b[0;32m--> 843\u001b[0;31m             \u001b[0;32mraise\u001b[0m \u001b[0mImportError\u001b[0m\u001b[0;34m(\u001b[0m\u001b[0;34m\"html5lib not found, please install it\"\u001b[0m\u001b[0;34m)\u001b[0m\u001b[0;34m\u001b[0m\u001b[0;34m\u001b[0m\u001b[0m\n\u001b[0m\u001b[1;32m    844\u001b[0m         \u001b[0;32mif\u001b[0m \u001b[0;32mnot\u001b[0m \u001b[0m_HAS_BS4\u001b[0m\u001b[0;34m:\u001b[0m\u001b[0;34m\u001b[0m\u001b[0;34m\u001b[0m\u001b[0m\n\u001b[1;32m    845\u001b[0m             \u001b[0;32mraise\u001b[0m \u001b[0mImportError\u001b[0m\u001b[0;34m(\u001b[0m\u001b[0;34m\"BeautifulSoup4 (bs4) not found, please install it\"\u001b[0m\u001b[0;34m)\u001b[0m\u001b[0;34m\u001b[0m\u001b[0;34m\u001b[0m\u001b[0m\n",
      "\u001b[0;31mImportError\u001b[0m: html5lib not found, please install it"
     ]
    }
   ],
   "source": [
    "df = pd.DataFrame()\n",
    "if \n",
    "for ano in range(2008, 2022:\n",
    "    for mes in range(1, 13:\n",
    "        url = \"https://www.unitins.br/portaltransparencia/folha-de-pagamento?TipoAno={}&tipoMes={:02}&TipoPesquisa=Nome&busca=\".format(ano, mes)\n",
    "        try:\n",
    "            salario = pd.read_html(url)\n",
    "            df_salario = pd.DataFrame(salario[0])\n",
    "            df_salario['referencia'] = \"{}_{}\".format(ano, mes)\n",
    "\n",
    "            df = df.append(df_salario, ignore_index=True)\n",
    "        except:\n",
    "            pass\n",
    "df['TOTAL VENCIMENTO*'] = [x.strip(\"R$ \") for x in df['TOTAL VENCIMENTO*']]\n",
    "df['DESCONTO IRRF'] = [x.strip(\"R$ \") for x in df['DESCONTO IRRF']]\n",
    "df['DESCONTO PREVIDÊNCIA'] = [x.strip(\"R$ \") for x in df['DESCONTO PREVIDÊNCIA']]\n",
    "df['DESCONTOS DIVERSOS'] = [x.strip(\"R$ \") for x in df['DESCONTOS DIVERSOS']]\n",
    "df['SALÁRIO LÍQUIDO'] = [x.strip(\"R$ \") for x in df['SALÁRIO LÍQUIDO']]\n",
    "\n",
    "df['TOTAL VENCIMENTO*'] = df['TOTAL VENCIMENTO*'].str.replace('.', \"\")\n",
    "df['TOTAL VENCIMENTO*'] = df['TOTAL VENCIMENTO*'].str.replace(',', \".\").astype(float)\n",
    "\n",
    "df['DESCONTO IRRF'] = df['DESCONTO IRRF'].str.replace('.', \"\")\n",
    "df['DESCONTO IRRF'] = df['DESCONTO IRRF'].str.replace(',', \".\").astype(float)\n",
    "\n",
    "df['DESCONTO PREVIDÊNCIA'] = df['DESCONTO PREVIDÊNCIA'].str.replace('.', \"\")\n",
    "df['DESCONTO PREVIDÊNCIA'] = df['DESCONTO PREVIDÊNCIA'].str.replace(',', \".\").astype(float)\n",
    "\n",
    "df['DESCONTOS DIVERSOS'] = df['DESCONTOS DIVERSOS'].str.replace('.', \"\")\n",
    "df['DESCONTOS DIVERSOS'] = df['DESCONTOS DIVERSOS'].str.replace(',', \".\").astype(float)\n",
    "\n",
    "df['SALÁRIO LÍQUIDO'] = df['SALÁRIO LÍQUIDO'].str.replace('.', \"\")\n",
    "df['SALÁRIO LÍQUIDO'] = df['SALÁRIO LÍQUIDO'].str.replace(',', \".\").astype(float)\n",
    "\n",
    "\n",
    "df.to_csv(\"folha.csv\", sep=\";\", index=False)"
   ]
  },
  {
   "cell_type": "code",
   "execution_count": 91,
   "metadata": {},
   "outputs": [],
   "source": []
  },
  {
   "cell_type": "code",
   "execution_count": 92,
   "metadata": {},
   "outputs": [
    {
     "data": {
      "text/html": [
       "<div>\n",
       "<style scoped>\n",
       "    .dataframe tbody tr th:only-of-type {\n",
       "        vertical-align: middle;\n",
       "    }\n",
       "\n",
       "    .dataframe tbody tr th {\n",
       "        vertical-align: top;\n",
       "    }\n",
       "\n",
       "    .dataframe thead th {\n",
       "        text-align: right;\n",
       "    }\n",
       "</style>\n",
       "<table border=\"1\" class=\"dataframe\">\n",
       "  <thead>\n",
       "    <tr style=\"text-align: right;\">\n",
       "      <th></th>\n",
       "      <th>Unnamed: 0</th>\n",
       "      <th>MATRÍCULA</th>\n",
       "      <th>NOME COMPLETO</th>\n",
       "      <th>FUNÇÃO</th>\n",
       "      <th>LOTAÇÃO (ATUAL)</th>\n",
       "      <th>VÍNCULO</th>\n",
       "      <th>TOTAL VENCIMENTO*</th>\n",
       "      <th>DESCONTO IRRF</th>\n",
       "      <th>DESCONTO PREVIDÊNCIA</th>\n",
       "      <th>DESCONTOS DIVERSOS</th>\n",
       "      <th>SALÁRIO LÍQUIDO</th>\n",
       "      <th>REFERÊNCIA</th>\n",
       "      <th>referencia</th>\n",
       "    </tr>\n",
       "  </thead>\n",
       "  <tbody>\n",
       "    <tr>\n",
       "      <th>0</th>\n",
       "      <td>0</td>\n",
       "      <td>830501</td>\n",
       "      <td>CARLOS ROBERTO A.GOMES</td>\n",
       "      <td>A.ES.GAB.GOV.II-DAS3</td>\n",
       "      <td>DIRETORIA DE TV E RADIO</td>\n",
       "      <td>COMISSIONADO</td>\n",
       "      <td>R$ 16.213,33</td>\n",
       "      <td>R$ 1.536,34</td>\n",
       "      <td>R$ 751,99</td>\n",
       "      <td>R$ 0,00</td>\n",
       "      <td>R$ 13.925,00</td>\n",
       "      <td>Mês 1 de 2021</td>\n",
       "      <td>2021_1</td>\n",
       "    </tr>\n",
       "    <tr>\n",
       "      <th>1</th>\n",
       "      <td>1</td>\n",
       "      <td>830504</td>\n",
       "      <td>SEBASTIAO VIEIRA DE MELO</td>\n",
       "      <td>A.ESP.GAB.GOV.I-DAS2</td>\n",
       "      <td>DIRETORIA DE TV E RADIO</td>\n",
       "      <td>COMISSIONADO</td>\n",
       "      <td>R$ 21.780,97</td>\n",
       "      <td>R$ 1.673,84</td>\n",
       "      <td>R$ 751,99</td>\n",
       "      <td>R$ 0,00</td>\n",
       "      <td>R$ 19.355,14</td>\n",
       "      <td>Mês 1 de 2021</td>\n",
       "      <td>2021_1</td>\n",
       "    </tr>\n",
       "    <tr>\n",
       "      <th>2</th>\n",
       "      <td>2</td>\n",
       "      <td>810054</td>\n",
       "      <td>YZAAC GONCALVES DA SILVA</td>\n",
       "      <td>ADM.BANCO DADOS/ C-3</td>\n",
       "      <td>COORDENADORIA DE DESENV.E INOV.TECNOLOGI</td>\n",
       "      <td>EFETIVO</td>\n",
       "      <td>R$ 8.442,62</td>\n",
       "      <td>R$ 1.162,45</td>\n",
       "      <td>R$ 864,63</td>\n",
       "      <td>R$ 1.005,84</td>\n",
       "      <td>R$ 5.409,70</td>\n",
       "      <td>Mês 1 de 2021</td>\n",
       "      <td>2021_1</td>\n",
       "    </tr>\n",
       "    <tr>\n",
       "      <th>3</th>\n",
       "      <td>3</td>\n",
       "      <td>810092</td>\n",
       "      <td>CARLOS DIEGO CARVALHO CHAVES</td>\n",
       "      <td>ADM.BC.DADOS / A-1</td>\n",
       "      <td>COORDENADORIA DE DESENV.E INOV.TECNOLOGI</td>\n",
       "      <td>EFETIVO</td>\n",
       "      <td>R$ 3.785,92</td>\n",
       "      <td>R$ 105,14</td>\n",
       "      <td>R$ 530,03</td>\n",
       "      <td>R$ 1.107,07</td>\n",
       "      <td>R$ 2.043,68</td>\n",
       "      <td>Mês 1 de 2021</td>\n",
       "      <td>2021_1</td>\n",
       "    </tr>\n",
       "    <tr>\n",
       "      <th>4</th>\n",
       "      <td>4</td>\n",
       "      <td>900391</td>\n",
       "      <td>MARCOS CORTIZO VIDAL</td>\n",
       "      <td>ADMINISTRAD/01-III-J</td>\n",
       "      <td>COORD DO NUCLEO TOC. DE ARQUEOLOGIA-NUTA</td>\n",
       "      <td>EFETIVO/Disp</td>\n",
       "      <td>R$ 11.943,02</td>\n",
       "      <td>R$ 1.342,09</td>\n",
       "      <td>R$ 1.254,02</td>\n",
       "      <td>R$ 771,43</td>\n",
       "      <td>R$ 8.575,48</td>\n",
       "      <td>Mês 1 de 2021</td>\n",
       "      <td>2021_1</td>\n",
       "    </tr>\n",
       "    <tr>\n",
       "      <th>...</th>\n",
       "      <td>...</td>\n",
       "      <td>...</td>\n",
       "      <td>...</td>\n",
       "      <td>...</td>\n",
       "      <td>...</td>\n",
       "      <td>...</td>\n",
       "      <td>...</td>\n",
       "      <td>...</td>\n",
       "      <td>...</td>\n",
       "      <td>...</td>\n",
       "      <td>...</td>\n",
       "      <td>...</td>\n",
       "      <td>...</td>\n",
       "    </tr>\n",
       "    <tr>\n",
       "      <th>1121</th>\n",
       "      <td>1121</td>\n",
       "      <td>810038</td>\n",
       "      <td>SEBASTIAO SILVA SOUZA</td>\n",
       "      <td>VIGILANTE / B-1</td>\n",
       "      <td>COORD DO NUCLEO DE ZOOLOGIA E TAXIDERMIA</td>\n",
       "      <td>EFETIVO</td>\n",
       "      <td>R$ 1.115,48</td>\n",
       "      <td>R$ 0,00</td>\n",
       "      <td>R$ 148,78</td>\n",
       "      <td>R$ 0,00</td>\n",
       "      <td>R$ 966,70</td>\n",
       "      <td>Mês 2 de 2021</td>\n",
       "      <td>2021_2</td>\n",
       "    </tr>\n",
       "    <tr>\n",
       "      <th>1122</th>\n",
       "      <td>1122</td>\n",
       "      <td>810051</td>\n",
       "      <td>ERASMO ROSA DA SILVA</td>\n",
       "      <td>VIGILANTE / C-2</td>\n",
       "      <td>COORD DO NUCLEO TOC. DE ARQUEOLOGIA-NUTA</td>\n",
       "      <td>EFETIVO</td>\n",
       "      <td>R$ 1.593,31</td>\n",
       "      <td>R$ 0,00</td>\n",
       "      <td>R$ 190,02</td>\n",
       "      <td>R$ 0,00</td>\n",
       "      <td>R$ 1.403,29</td>\n",
       "      <td>Mês 2 de 2021</td>\n",
       "      <td>2021_2</td>\n",
       "    </tr>\n",
       "    <tr>\n",
       "      <th>1123</th>\n",
       "      <td>1123</td>\n",
       "      <td>810077</td>\n",
       "      <td>ADMILSON QUINTINO DA SILVA</td>\n",
       "      <td>VIGILANTE / C-3</td>\n",
       "      <td>DIRETORIA DO CAMPUS PALMAS</td>\n",
       "      <td>EFETIVO</td>\n",
       "      <td>R$ 1.941,53</td>\n",
       "      <td>R$ 0,00</td>\n",
       "      <td>R$ 225,84</td>\n",
       "      <td>R$ 725,64</td>\n",
       "      <td>R$ 990,05</td>\n",
       "      <td>Mês 2 de 2021</td>\n",
       "      <td>2021_2</td>\n",
       "    </tr>\n",
       "    <tr>\n",
       "      <th>1124</th>\n",
       "      <td>1124</td>\n",
       "      <td>810040</td>\n",
       "      <td>ANTONIO DA SILVA SOUSA</td>\n",
       "      <td>VIGILANTE / C-3</td>\n",
       "      <td>COORDENADORIA PATRIMONIO E ALMOXARIFADO</td>\n",
       "      <td>EFETIVO</td>\n",
       "      <td>R$ 2.400,99</td>\n",
       "      <td>R$ 5,71</td>\n",
       "      <td>R$ 231,14</td>\n",
       "      <td>R$ 0,00</td>\n",
       "      <td>R$ 2.164,14</td>\n",
       "      <td>Mês 2 de 2021</td>\n",
       "      <td>2021_2</td>\n",
       "    </tr>\n",
       "    <tr>\n",
       "      <th>1125</th>\n",
       "      <td>1125</td>\n",
       "      <td>810295</td>\n",
       "      <td>ROMILSON MATOS SOUZA</td>\n",
       "      <td>VIGILANTE / C-3</td>\n",
       "      <td>COORD DO NUCLEO TOC. DE ARQUEOLOGIA-NUTA</td>\n",
       "      <td>EFETIVO</td>\n",
       "      <td>R$ 1.807,80</td>\n",
       "      <td>R$ 0,00</td>\n",
       "      <td>R$ 231,14</td>\n",
       "      <td>R$ 0,00</td>\n",
       "      <td>R$ 1.576,66</td>\n",
       "      <td>Mês 2 de 2021</td>\n",
       "      <td>2021_2</td>\n",
       "    </tr>\n",
       "  </tbody>\n",
       "</table>\n",
       "<p>1126 rows × 13 columns</p>\n",
       "</div>"
      ],
      "text/plain": [
       "      Unnamed: 0  MATRÍCULA                 NOME COMPLETO  \\\n",
       "0              0     830501        CARLOS ROBERTO A.GOMES   \n",
       "1              1     830504      SEBASTIAO VIEIRA DE MELO   \n",
       "2              2     810054      YZAAC GONCALVES DA SILVA   \n",
       "3              3     810092  CARLOS DIEGO CARVALHO CHAVES   \n",
       "4              4     900391          MARCOS CORTIZO VIDAL   \n",
       "...          ...        ...                           ...   \n",
       "1121        1121     810038         SEBASTIAO SILVA SOUZA   \n",
       "1122        1122     810051          ERASMO ROSA DA SILVA   \n",
       "1123        1123     810077    ADMILSON QUINTINO DA SILVA   \n",
       "1124        1124     810040        ANTONIO DA SILVA SOUSA   \n",
       "1125        1125     810295          ROMILSON MATOS SOUZA   \n",
       "\n",
       "                    FUNÇÃO                           LOTAÇÃO (ATUAL)  \\\n",
       "0     A.ES.GAB.GOV.II-DAS3                   DIRETORIA DE TV E RADIO   \n",
       "1     A.ESP.GAB.GOV.I-DAS2                   DIRETORIA DE TV E RADIO   \n",
       "2     ADM.BANCO DADOS/ C-3  COORDENADORIA DE DESENV.E INOV.TECNOLOGI   \n",
       "3       ADM.BC.DADOS / A-1  COORDENADORIA DE DESENV.E INOV.TECNOLOGI   \n",
       "4     ADMINISTRAD/01-III-J  COORD DO NUCLEO TOC. DE ARQUEOLOGIA-NUTA   \n",
       "...                    ...                                       ...   \n",
       "1121       VIGILANTE / B-1  COORD DO NUCLEO DE ZOOLOGIA E TAXIDERMIA   \n",
       "1122       VIGILANTE / C-2  COORD DO NUCLEO TOC. DE ARQUEOLOGIA-NUTA   \n",
       "1123       VIGILANTE / C-3                DIRETORIA DO CAMPUS PALMAS   \n",
       "1124       VIGILANTE / C-3   COORDENADORIA PATRIMONIO E ALMOXARIFADO   \n",
       "1125       VIGILANTE / C-3  COORD DO NUCLEO TOC. DE ARQUEOLOGIA-NUTA   \n",
       "\n",
       "           VÍNCULO TOTAL VENCIMENTO* DESCONTO IRRF DESCONTO PREVIDÊNCIA  \\\n",
       "0     COMISSIONADO      R$ 16.213,33   R$ 1.536,34            R$ 751,99   \n",
       "1     COMISSIONADO      R$ 21.780,97   R$ 1.673,84            R$ 751,99   \n",
       "2          EFETIVO       R$ 8.442,62   R$ 1.162,45            R$ 864,63   \n",
       "3          EFETIVO       R$ 3.785,92     R$ 105,14            R$ 530,03   \n",
       "4     EFETIVO/Disp      R$ 11.943,02   R$ 1.342,09          R$ 1.254,02   \n",
       "...            ...               ...           ...                  ...   \n",
       "1121       EFETIVO       R$ 1.115,48       R$ 0,00            R$ 148,78   \n",
       "1122       EFETIVO       R$ 1.593,31       R$ 0,00            R$ 190,02   \n",
       "1123       EFETIVO       R$ 1.941,53       R$ 0,00            R$ 225,84   \n",
       "1124       EFETIVO       R$ 2.400,99       R$ 5,71            R$ 231,14   \n",
       "1125       EFETIVO       R$ 1.807,80       R$ 0,00            R$ 231,14   \n",
       "\n",
       "     DESCONTOS DIVERSOS SALÁRIO LÍQUIDO     REFERÊNCIA referencia  \n",
       "0               R$ 0,00    R$ 13.925,00  Mês 1 de 2021     2021_1  \n",
       "1               R$ 0,00    R$ 19.355,14  Mês 1 de 2021     2021_1  \n",
       "2           R$ 1.005,84     R$ 5.409,70  Mês 1 de 2021     2021_1  \n",
       "3           R$ 1.107,07     R$ 2.043,68  Mês 1 de 2021     2021_1  \n",
       "4             R$ 771,43     R$ 8.575,48  Mês 1 de 2021     2021_1  \n",
       "...                 ...             ...            ...        ...  \n",
       "1121            R$ 0,00       R$ 966,70  Mês 2 de 2021     2021_2  \n",
       "1122            R$ 0,00     R$ 1.403,29  Mês 2 de 2021     2021_2  \n",
       "1123          R$ 725,64       R$ 990,05  Mês 2 de 2021     2021_2  \n",
       "1124            R$ 0,00     R$ 2.164,14  Mês 2 de 2021     2021_2  \n",
       "1125            R$ 0,00     R$ 1.576,66  Mês 2 de 2021     2021_2  \n",
       "\n",
       "[1126 rows x 13 columns]"
      ]
     },
     "execution_count": 92,
     "metadata": {},
     "output_type": "execute_result"
    }
   ],
   "source": []
  },
  {
   "cell_type": "markdown",
   "metadata": {},
   "source": [
    "## Número de servidores na Unitins"
   ]
  },
  {
   "cell_type": "code",
   "execution_count": 52,
   "metadata": {
    "scrolled": true
   },
   "outputs": [
    {
     "name": "stdout",
     "output_type": "stream",
     "text": [
      "Total de servidores:  405\n",
      "Total de efetivos:  67\n",
      "Total de comissionados:  28\n",
      "Total de contratados:  310\n",
      "Total de a disposição:  0\n"
     ]
    }
   ],
   "source": [
    "# df.head()\n",
    "\n",
    "print(\"Total de servidores: \", len(df))\n",
    "print(\"Total de efetivos: \", len(df[df['VÍNCULO'] == 'EFETIVO']))\n",
    "print(\"Total de comissionados: \", len(df[df['VÍNCULO'] == 'COMISSIONADO']))\n",
    "print(\"Total de contratados: \", len(df[df['VÍNCULO'] == 'CONTRATADO']))\n",
    "print(\"Total de a disposição: \", len(df[df['VÍNCULO'] == 'EFETIVO/Disp'] ))\n"
   ]
  },
  {
   "cell_type": "code",
   "execution_count": 53,
   "metadata": {
    "scrolled": true
   },
   "outputs": [],
   "source": [
    "profs = ['PROF. ADJUNTO I', 'PROF. DOUTOR I /2893',\n",
    "       'PROF. MESTRE I /2893', 'PROF.UNIVERSITARIO 2',\n",
    "       'PROF.UNIVERSITARIO 3', 'PROF.UNIVERSITARIO I', 'QS PU1PROF ESP. 4',\n",
    "       'QS PU1PROF. DOUTOR4', 'QS PU1PROF. MESTRE4']\n",
    "\n",
    "filtro_prof_efetivos = (df['FUNÇÃO'].isin(profs)) & (df['VÍNCULO'] == 'EFETIVO')\n",
    "\n",
    "# df[filtro_prof_efetivos]"
   ]
  },
  {
   "cell_type": "code",
   "execution_count": 54,
   "metadata": {
    "scrolled": false
   },
   "outputs": [],
   "source": [
    "pyplot\n",
    "matplotlib"
   ]
  },
  {
   "cell_type": "code",
   "execution_count": 55,
   "metadata": {},
   "outputs": [],
   "source": []
  },
  {
   "cell_type": "markdown",
   "metadata": {},
   "source": [
    "## Descrição do campo salário líquido: média, menor, maior e moda."
   ]
  },
  {
   "cell_type": "code",
   "execution_count": 56,
   "metadata": {},
   "outputs": [
    {
     "name": "stdout",
     "output_type": "stream",
     "text": [
      "Média:  1812.4854567901236\n",
      "Menor:  0.0\n",
      "Maior:  9756.32\n",
      "Moda:  0.0\n"
     ]
    },
    {
     "data": {
      "image/png": "[encoded data removed]",
      "text/plain": [
       "<Figure size 432x288 with 1 Axes>"
      ]
     },
     "metadata": {
      "needs_background": "light"
     },
     "output_type": "display_data"
    }
   ],
   "source": [
    "df['SALÁRIO LÍQUIDO'].hist()\n",
    "print(\"Menor: \", np.min(df['SALÁRIO LÍQUIDO']))\n",
    "print(\"Maior: \", np.max(df['SALÁRIO LÍQUIDO']))\n",
    "print(\"Moda: \", df['SALÁRIO LÍQUIDO'].mode()[0])"
   ]
  },
  {
   "cell_type": "markdown",
   "metadata": {},
   "source": [
    "## Descrição do campo salário bruto: média, menor, maior e moda."
   ]
  },
  {
   "cell_type": "code",
   "execution_count": 57,
   "metadata": {},
   "outputs": [],
   "source": [
    "df['TOTAL VENCIMENTO*'] = df['TOTAL VENCIMENTO*'].str.replace('.', \"\")\n",
    "df['TOTAL VENCIMENTO*'] = df['TOTAL VENCIMENTO*'].str.replace(',', \".\").astype(float)"
   ]
  },
  {
   "cell_type": "code",
   "execution_count": 58,
   "metadata": {},
   "outputs": [
    {
     "name": "stdout",
     "output_type": "stream",
     "text": [
      "Média:  2743.608395061728\n",
      "Menor:  82.13\n",
      "Maior:  16166.67\n",
      "Moda:  720.0\n"
     ]
    },
    {
     "data": {
      "image/png": "[encoded data removed]",
      "text/plain": [
       "<Figure size 432x288 with 1 Axes>"
      ]
     },
     "metadata": {
      "needs_background": "light"
     },
     "output_type": "display_data"
    }
   ],
   "source": [
    "df['TOTAL VENCIMENTO*'].hist()\n",
    "\n",
    "print(\"Média: \", np.mean(df['TOTAL VENCIMENTO*']))\n",
    "print(\"Menor: \", np.min(df['TOTAL VENCIMENTO*']))\n",
    "print(\"Maior: \", np.max(df['TOTAL VENCIMENTO*']))\n",
    "print(\"Moda: \", df['TOTAL VENCIMENTO*'].mode()[0])"
   ]
  },
  {
   "cell_type": "code",
   "execution_count": null,
   "metadata": {},
   "outputs": [],
   "source": []
  }
 ],
 "metadata": {
  "kernelspec": {
   "display_name": "Python 3",
   "language": "python",
   "name": "python3"
  },
  "language_info": {
   "codemirror_mode": {
    "name": "ipython",
    "version": 3
   },
   "file_extension": ".py",
   "mimetype": "text/x-python",
   "name": "python",
   "nbconvert_exporter": "python",
   "pygments_lexer": "ipython3",
   "version": "3.6.9"
  }
 },
 "nbformat": 4,
 "nbformat_minor": 2
}
