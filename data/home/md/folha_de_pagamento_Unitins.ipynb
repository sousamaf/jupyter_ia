{
 "cells": [
  {
   "cell_type": "markdown",
   "metadata": {},
   "source": [
    "# Análise da folha de pagamento da Unitins"
   ]
  },
  {
   "cell_type": "code",
   "execution_count": 16,
   "metadata": {},
   "outputs": [
    {
     "name": "stderr",
     "output_type": "stream",
     "text": [
      "/usr/local/lib/python3.6/dist-packages/fuzzywuzzy/fuzz.py:11: UserWarning: Using slow pure-python SequenceMatcher. Install python-Levenshtein to remove this warning\n",
      "  warnings.warn('Using slow pure-python SequenceMatcher. Install python-Levenshtein to remove this warning')\n"
     ]
    }
   ],
   "source": [
    "import os.path\n",
    "import numpy as np\n",
    "import pandas as pd\n",
    "import seaborn as sns\n",
    "import matplotlib.pyplot as plt\n",
    "from IPython.display import clear_output\n",
    "from fuzzywuzzy import process"
   ]
  },
  {
   "cell_type": "code",
   "execution_count": 4,
   "metadata": {},
   "outputs": [],
   "source": [
    "df = pd.DataFrame()\n",
    "\n",
    "if os.path.isfile('folha.csv'):\n",
    "    df = pd.read_csv(\"folha.csv\", sep=\";\")\n",
    "else:\n",
    "    for ano in range(2008, 2022):\n",
    "        for mes in range(1, 13):\n",
    "            clear_output(wait=True)\n",
    "            print(\"Referência: {}_{:02}\".format(ano, mes))\n",
    "            url = \"https://www.unitins.br/portaltransparencia/folha-de-pagamento?TipoAno={}&tipoMes={:02}&TipoPesquisa=Nome&busca=\".format(ano, mes)\n",
    "            try:\n",
    "                salario = pd.read_html(url)\n",
    "                df_salario = pd.DataFrame(salario[0])\n",
    "                df_salario['referencia'] = \"{}_{:02}\".format(ano, mes)\n",
    "\n",
    "                df = df.append(df_salario, ignore_index=True)\n",
    "            except:\n",
    "                pass\n",
    "    df['TOTAL VENCIMENTO*'] = [x.strip(\"R$ \") for x in df['TOTAL VENCIMENTO*']]\n",
    "    df['DESCONTO IRRF'] = [x.strip(\"R$ \") for x in df['DESCONTO IRRF']]\n",
    "    df['DESCONTO PREVIDÊNCIA'] = [x.strip(\"R$ \") for x in df['DESCONTO PREVIDÊNCIA']]\n",
    "    df['DESCONTOS DIVERSOS'] = [x.strip(\"R$ \") for x in df['DESCONTOS DIVERSOS']]\n",
    "    df['SALÁRIO LÍQUIDO'] = [x.strip(\"R$ \") for x in df['SALÁRIO LÍQUIDO']]\n",
    "\n",
    "    df['TOTAL VENCIMENTO*'] = df['TOTAL VENCIMENTO*'].str.replace('.', \"\")\n",
    "    df['TOTAL VENCIMENTO*'] = df['TOTAL VENCIMENTO*'].str.replace(',', \".\").astype(float)\n",
    "\n",
    "    df['DESCONTO IRRF'] = df['DESCONTO IRRF'].str.replace('.', \"\")\n",
    "    df['DESCONTO IRRF'] = df['DESCONTO IRRF'].str.replace(',', \".\").astype(float)\n",
    "\n",
    "    df['DESCONTO PREVIDÊNCIA'] = df['DESCONTO PREVIDÊNCIA'].str.replace('.', \"\")\n",
    "    df['DESCONTO PREVIDÊNCIA'] = df['DESCONTO PREVIDÊNCIA'].str.replace(',', \".\").astype(float)\n",
    "\n",
    "    df['DESCONTOS DIVERSOS'] = df['DESCONTOS DIVERSOS'].str.replace('.', \"\")\n",
    "    df['DESCONTOS DIVERSOS'] = df['DESCONTOS DIVERSOS'].str.replace(',', \".\").astype(float)\n",
    "\n",
    "    df['SALÁRIO LÍQUIDO'] = df['SALÁRIO LÍQUIDO'].str.replace('.', \"\")\n",
    "    df['SALÁRIO LÍQUIDO'] = df['SALÁRIO LÍQUIDO'].str.replace(',', \".\").astype(float)\n",
    "    \n",
    "    df.to_csv(\"folha.csv\", sep=\";\", index=False)\n"
   ]
  },
  {
   "cell_type": "markdown",
   "metadata": {},
   "source": [
    "## Número de servidores na Unitins"
   ]
  },
  {
   "cell_type": "code",
   "execution_count": 6,
   "metadata": {
    "scrolled": true
   },
   "outputs": [
    {
     "name": "stdout",
     "output_type": "stream",
     "text": [
      "Total de servidores:  96941\n",
      "Total de efetivos:  27535\n",
      "Total de comissionados:  14222\n",
      "Total de contratados:  52732\n",
      "Total de a disposição:  2452\n"
     ]
    }
   ],
   "source": [
    "# df.head()\n",
    "\n",
    "print(\"Total de servidores: \", len(df))\n",
    "print(\"Total de efetivos: \", len(df[df['VÍNCULO'] == 'EFETIVO']))\n",
    "print(\"Total de comissionados: \", len(df[df['VÍNCULO'] == 'COMISSIONADO']))\n",
    "print(\"Total de contratados: \", len(df[df['VÍNCULO'] == 'CONTRATADO']))\n",
    "print(\"Total de a disposição: \", len(df[df['VÍNCULO'] == 'EFETIVO/Disp'] ))"
   ]
  },
  {
   "cell_type": "markdown",
   "metadata": {},
   "source": [
    "# Contagem de servidores \n",
    "Verificar uma forma de contar corretamente o número de servidores.\n",
    "- Qual o total de servidores por categorias atualmente;\n",
    "- Qual o total de servidores por categorias em toda a história de 2008 até o momento.\n",
    "\n"
   ]
  },
  {
   "cell_type": "code",
   "execution_count": 13,
   "metadata": {},
   "outputs": [],
   "source": [
    "# Resposta do enunciado acima.\n",
    "# sugestão: fuzzywuzzy\n",
    "\n"
   ]
  },
  {
   "cell_type": "markdown",
   "metadata": {},
   "source": [
    "# Questionamento: tempo médio \n",
    "\n",
    "Qual é o tempo médio que uma pessoa permance trabalhando na Unitins?\n",
    "\n",
    "Necessidade de otimização da contagem."
   ]
  },
  {
   "cell_type": "code",
   "execution_count": 127,
   "metadata": {
    "scrolled": false
   },
   "outputs": [],
   "source": [
    "# Resposta do enunciado acima.\n",
    "\n",
    "nomes = df['NOME COMPLETO'].unique().tolist()\n",
    "nomes.sort()\n",
    "variantes = []\n",
    "unicos = {}\n",
    "\n",
    "for i, nome in enumerate(nomes):\n",
    "    res = process.extractOne(nome, nomes[i+1:i+10])\n",
    "    if res is not None and int(res[1]) > 89:\n",
    "        variantes.append(nome)\n",
    "    else:\n",
    "        unicos[nome] = 0\n",
    "        "
   ]
  },
  {
   "cell_type": "code",
   "execution_count": 132,
   "metadata": {},
   "outputs": [
    {
     "name": "stdout",
     "output_type": "stream",
     "text": [
      "CPU times: user 3 µs, sys: 0 ns, total: 3 µs\n",
      "Wall time: 4.77 µs\n"
     ]
    }
   ],
   "source": [
    "%%time\n",
    "for ano in range(2008, 2021):\n",
    "    for mes in range(1, 13):\n",
    "        filtro_referencia = (df['referencia'] == \"{}_{:02}\".format(ano, mes))\n",
    "        clear_output(wait=True)\n",
    "        print(\"{}_{:02}\".format(ano, mes))\n",
    "        \n",
    "        for i, nome in enumerate(unicos):\n",
    "            res = process.extractOne(nome, df[filtro_referencia]['NOME COMPLETO'].tolist())\n",
    "            if res[1] > 89:\n",
    "                unicos[nome] += 1\n"
   ]
  },
  {
   "cell_type": "code",
   "execution_count": 131,
   "metadata": {},
   "outputs": [
    {
     "name": "stdout",
     "output_type": "stream",
     "text": [
      "ALESSANDRO HOFMANN T. MENDES\n",
      "ALEXANDRE ANTONIO DE O. ANDRAD\n",
      "ANA CARLA ANDRADE P. FRANCA\n",
      "ANA GLAUCIA V. FERREIRA\n",
      "ANA IRENE CARNEIRO B. LUCENA\n",
      "ANA PAULA MONTEIRO DE OLIVEIRA\n",
      "ANA PRESSILIA SILVA BANDEIRA\n",
      "ANTONIO CARLOS PEREIRA DE ARAU\n",
      "ANTONIO RAFAEL DE S.A.BOSSO\n",
      "ARLENES BUZATTO DELABARY SPADA\n",
      "CAMILA ROSA NOLASCO CAVALCANTE\n",
      "CARLOS MANUEL C.CARREIRA\n",
      "CARLOS ROBERTO DE A.GOMES\n",
      "CLARISSA ALVES F. DE MENEZES\n",
      "CLARISSA DE SOUSA O. MCCOY\n",
      "CLAUDIA R.C.DE CARVALHO\n",
      "CLAUDIO HENRIQUE C. FERNANDES\n",
      "CRISTIANA MARIA DE A.S.GOMES\n",
      "DANIELA DA SILVA PINTO\n",
      "DEBORA C.A.S. DE ALBUQUERQUE\n",
      "DEODETE MARIA DAS NEVES SCHMIT\n",
      "DEUSAFRAN MACEDO DA SILVA\n",
      "EDIVAN OLIVEIRA CAVALCANTI\n",
      "ELIANE CRISTINA DE O. A. ABUD\n",
      "ENEILA DE CASSIA MAIA FERREIRA\n",
      "EVELIN LORENNA PAIXAO DE GOIS\n",
      "FATIMA APARECIDA M. DOS SANTOS\n",
      "FERNANDA CAMPOS DOS R. AGUIAR\n",
      "FLAVIA CASTRO CABRAL MORAES\n",
      "FRANCISCA LAYLLA P. DE S. LIMA\n",
      "FRANCISCO DIMITRE R.P.SANTOS\n",
      "FRANCISCO FERREIRA M.NETO\n",
      "GLAUBER CLAUDINO P. DE LIMA\n",
      "HALAN HEVERTON DOS S.NOBRE\n",
      "HANARI SANTOS DE A. TAVARES\n",
      "JAQUELINE DE KASSIA R.PAIVA\n",
      "JESUANE CAVALCANTE M.DE MORAIS\n",
      "JORDANE RODRIGUES R. SANTANA\n",
      "JOSE HIDASI FILHO\n",
      "JOSIANE DE SOUZA MENDES PASSOS\n",
      "KATIA JESUS DE C MONTESSI\n",
      "KELLY DE SOUSA LOBO R. SILVA\n",
      "LEDA SANTANA DE O.NOLETO\n",
      "MAIRA REGINA DE C. ALEXANDRE\n",
      "MARCELO RIBEIRO DE O.MELLO\n",
      "MARCIO SILVA ARAUJO CARDOSO\n",
      "MARCOS AURELIO C. ZIMMERMANN\n",
      "MARCOS AURELIO C.AYRES\n",
      "MARCOS ROBERTO C. DE VASCONCEL\n",
      "MARIA DA GRACA R. F. SALGADO\n",
      "MARIA DAS DORES S. CAVALCANTE\n",
      "MARIA DE FATIMA M. E SILVA\n",
      "MARIA DEL P. K. DE S MARCUARTU\n",
      "MARIA LUCIA F.G.DE CARVALHO\n",
      "MARIA LUCIA PAULINO S.SOUSA\n",
      "MARINALVA DO REGO BARROS SILVA\n",
      "MILIANA AUGUSTA P. SAMPAIO\n",
      "MIRACI PEREIRA DA S. MARACAIPE\n",
      "MUNIQUE DANIELA M. DE OLIVEIRA\n",
      "NIVALDO LUIZ DE O. SANTOS\n",
      "PATRICIA FONSECA DE O. VALES\n",
      "POLLYANA SENA DE SOUSA MENDONC\n",
      "PRISCILA WIECZOREK S. CADORE\n",
      "RAIMUNDO NONATO DE S.DA SILVA\n",
      "RAIMUNDO NONATO R DE SOUZA\n",
      "RAYSSA ROSSANA REINALDO LEAO G\n",
      "RICARDO HENRIQUE P. B. PEIXOTO\n",
      "SUELY CABRAL QUIXABEIRA ARAUJO\n",
      "VICTOR FERNANDO M. DE ALMEIDA\n"
     ]
    }
   ],
   "source": [
    "for n in unicos:\n",
    "    res = process.extractOne(n, variantes)\n",
    "    if res[1] > 89:\n",
    "        print(n)"
   ]
  },
  {
   "cell_type": "code",
   "execution_count": 7,
   "metadata": {
    "scrolled": true
   },
   "outputs": [],
   "source": [
    "profs = ['PROF. ADJUNTO I', 'PROF. DOUTOR I /2893',\n",
    "       'PROF. MESTRE I /2893', 'PROF.UNIVERSITARIO 2',\n",
    "       'PROF.UNIVERSITARIO 3', 'PROF.UNIVERSITARIO I', 'QS PU1PROF ESP. 4',\n",
    "       'QS PU1PROF. DOUTOR4', 'QS PU1PROF. MESTRE4']\n",
    "\n",
    "filtro_prof_efetivos = (df['FUNÇÃO'].isin(profs)) & (df['VÍNCULO'] == 'EFETIVO')\n",
    "\n",
    "# df[filtro_prof_efetivos]"
   ]
  },
  {
   "cell_type": "code",
   "execution_count": 46,
   "metadata": {},
   "outputs": [],
   "source": [
    "process.extractOne('Maria', nomes[2760:3000])"
   ]
  },
  {
   "cell_type": "markdown",
   "metadata": {},
   "source": [
    "## Descrição do campo salário líquido: média, menor, maior e moda."
   ]
  },
  {
   "cell_type": "code",
   "execution_count": 8,
   "metadata": {},
   "outputs": [
    {
     "name": "stdout",
     "output_type": "stream",
     "text": [
      "Menor:  -5.7\n",
      "Maior:  51886.74\n",
      "Moda:  0.0\n"
     ]
    },
    {
     "data": {
      "image/png": "[encoded data removed]",
      "text/plain": [
       "<Figure size 432x288 with 1 Axes>"
      ]
     },
     "metadata": {
      "needs_background": "light"
     },
     "output_type": "display_data"
    }
   ],
   "source": [
    "df['SALÁRIO LÍQUIDO'].hist()\n",
    "print(\"Menor: \", np.min(df['SALÁRIO LÍQUIDO']))\n",
    "print(\"Maior: \", np.max(df['SALÁRIO LÍQUIDO']))\n",
    "print(\"Moda: \", df['SALÁRIO LÍQUIDO'].mode()[0])"
   ]
  },
  {
   "cell_type": "markdown",
   "metadata": {},
   "source": [
    "## Descrição do campo salário bruto: média, menor, maior e moda."
   ]
  },
  {
   "cell_type": "code",
   "execution_count": 9,
   "metadata": {},
   "outputs": [
    {
     "name": "stdout",
     "output_type": "stream",
     "text": [
      "Média:  3299.894802508742\n",
      "Menor:  0.0\n",
      "Maior:  67004.96\n",
      "Moda:  1367.19\n"
     ]
    },
    {
     "data": {
      "image/png": "[encoded data removed]",
      "text/plain": [
       "<Figure size 432x288 with 1 Axes>"
      ]
     },
     "metadata": {
      "needs_background": "light"
     },
     "output_type": "display_data"
    }
   ],
   "source": [
    "df['TOTAL VENCIMENTO*'].hist()\n",
    "\n",
    "print(\"Média: \", np.mean(df['TOTAL VENCIMENTO*']))\n",
    "print(\"Menor: \", np.min(df['TOTAL VENCIMENTO*']))\n",
    "print(\"Maior: \", np.max(df['TOTAL VENCIMENTO*']))\n",
    "print(\"Moda: \", df['TOTAL VENCIMENTO*'].mode()[0])"
   ]
  },
  {
   "cell_type": "code",
   "execution_count": 10,
   "metadata": {},
   "outputs": [],
   "source": [
    "media_mensal = []\n",
    "for ano in range(2008, 2022):\n",
    "    for mes in range(1, 13):\n",
    "        filtro_referencia = (df['referencia'] == \"{}_{:02}\".format(ano, mes))\n",
    "        media = np.mean(df[filtro_referencia]['SALÁRIO LÍQUIDO'])\n",
    "        if pd.isnull(media) == False:\n",
    "            media_mensal.append(media)\n"
   ]
  },
  {
   "cell_type": "code",
   "execution_count": 11,
   "metadata": {},
   "outputs": [
    {
     "data": {
      "image/png": "[encoded data removed]",
      "text/plain": [
       "<Figure size 432x288 with 1 Axes>"
      ]
     },
     "metadata": {
      "needs_background": "light"
     },
     "output_type": "display_data"
    }
   ],
   "source": [
    "y = np.array(media_mensal)\n",
    "\n",
    "plt.plot(y)\n",
    "plt.title(\"Média geral de salário - Marco Antonio\")\n",
    "plt.show()"
   ]
  },
  {
   "cell_type": "code",
   "execution_count": null,
   "metadata": {},
   "outputs": [],
   "source": []
  },
  {
   "cell_type": "code",
   "execution_count": null,
   "metadata": {},
   "outputs": [],
   "source": []
  }
 ],
 "metadata": {
  "kernelspec": {
   "display_name": "Python 3",
   "language": "python",
   "name": "python3"
  },
  "language_info": {
   "codemirror_mode": {
    "name": "ipython",
    "version": 3
   },
   "file_extension": ".py",
   "mimetype": "text/x-python",
   "name": "python",
   "nbconvert_exporter": "python",
   "pygments_lexer": "ipython3",
   "version": "3.6.9"
  }
 },
 "nbformat": 4,
 "nbformat_minor": 2
}
